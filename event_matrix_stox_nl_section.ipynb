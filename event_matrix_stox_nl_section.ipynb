{
 "cells": [
  {
   "cell_type": "markdown",
   "metadata": {},
   "source": [
    "# Event to conversion - Stox"
   ]
  },
  {
   "cell_type": "markdown",
   "metadata": {},
   "source": [
    "# 1. Import"
   ]
  },
  {
   "cell_type": "markdown",
   "metadata": {},
   "source": [
    "## 1.1 Data collection"
   ]
  },
  {
   "cell_type": "code",
   "execution_count": 1,
   "metadata": {},
   "outputs": [],
   "source": [
    "import pandas as pd\n",
    "import matplotlib.pyplot as plt\n",
    "import seaborn as sns\n",
    "import statsmodels.api as sm\n",
    "import numpy as np\n",
    "from sklearn.metrics import classification_report, confusion_matrix\n",
    "from sklearn.model_selection import train_test_split\n",
    "from sklearn.preprocessing import StandardScaler\n",
    "from sklearn.linear_model import LogisticRegression"
   ]
  },
  {
   "cell_type": "code",
   "execution_count": 2,
   "metadata": {},
   "outputs": [],
   "source": [
    "events = pd.read_csv(r'C:\\Users\\Arthu\\Documents\\Stox\\event_matrix_NL_complete.csv')"
   ]
  },
  {
   "cell_type": "code",
   "execution_count": 3,
   "metadata": {},
   "outputs": [],
   "source": [
    "df = events"
   ]
  },
  {
   "cell_type": "code",
   "execution_count": 4,
   "metadata": {},
   "outputs": [
    {
     "data": {
      "text/html": [
       "<div>\n",
       "<style scoped>\n",
       "    .dataframe tbody tr th:only-of-type {\n",
       "        vertical-align: middle;\n",
       "    }\n",
       "\n",
       "    .dataframe tbody tr th {\n",
       "        vertical-align: top;\n",
       "    }\n",
       "\n",
       "    .dataframe thead th {\n",
       "        text-align: right;\n",
       "    }\n",
       "</style>\n",
       "<table border=\"1\" class=\"dataframe\">\n",
       "  <thead>\n",
       "    <tr style=\"text-align: right;\">\n",
       "      <th></th>\n",
       "      <th>FULL_EVENT</th>\n",
       "      <th>EVENT_COUNT</th>\n",
       "      <th>CUSTOMER_ID</th>\n",
       "      <th>EVENT_TEXT</th>\n",
       "      <th>event</th>\n",
       "      <th>module</th>\n",
       "      <th>url</th>\n",
       "    </tr>\n",
       "  </thead>\n",
       "  <tbody>\n",
       "    <tr>\n",
       "      <th>0</th>\n",
       "      <td>Module Viewed_Tile Block_Kompressions-Laufsock...</td>\n",
       "      <td>1</td>\n",
       "      <td>3940523638881</td>\n",
       "      <td>Module Viewed</td>\n",
       "      <td>Module Viewed</td>\n",
       "      <td>Tile Block</td>\n",
       "      <td>Kompressions-Laufsocken Gegen Laufschmerzen Un...</td>\n",
       "    </tr>\n",
       "    <tr>\n",
       "      <th>1</th>\n",
       "      <td>Determine Checkout Language</td>\n",
       "      <td>1</td>\n",
       "      <td>3898800832609</td>\n",
       "      <td>Determine Checkout Language</td>\n",
       "      <td>Determine Checkout Language</td>\n",
       "      <td>None</td>\n",
       "      <td>None</td>\n",
       "    </tr>\n",
       "    <tr>\n",
       "      <th>2</th>\n",
       "      <td>Module Viewed_Featured Collection_Joúw Hardloo...</td>\n",
       "      <td>1</td>\n",
       "      <td>2546273484897</td>\n",
       "      <td>Module Viewed</td>\n",
       "      <td>Module Viewed</td>\n",
       "      <td>Featured Collection</td>\n",
       "      <td>Joúw Hardloopvoordeel: Hardloopsokken Met Comp...</td>\n",
       "    </tr>\n",
       "    <tr>\n",
       "      <th>3</th>\n",
       "      <td>Module Viewed_Product technology_STOX Daily Me...</td>\n",
       "      <td>2</td>\n",
       "      <td>3739707932769</td>\n",
       "      <td>Module Viewed</td>\n",
       "      <td>Module Viewed</td>\n",
       "      <td>Product technology</td>\n",
       "      <td>STOX Daily Merino Socks Herren- Farbe: Dunkelg...</td>\n",
       "    </tr>\n",
       "    <tr>\n",
       "      <th>4</th>\n",
       "      <td>Module Viewed_Product inspection_Sports Sokken...</td>\n",
       "      <td>10</td>\n",
       "      <td>3739707932769</td>\n",
       "      <td>Module Viewed</td>\n",
       "      <td>Module Viewed</td>\n",
       "      <td>Product inspection</td>\n",
       "      <td>Sports Sokken Mannen. Kleur: Blauw / Geel</td>\n",
       "    </tr>\n",
       "  </tbody>\n",
       "</table>\n",
       "</div>"
      ],
      "text/plain": [
       "                                          FULL_EVENT  EVENT_COUNT  \\\n",
       "0  Module Viewed_Tile Block_Kompressions-Laufsock...            1   \n",
       "1                        Determine Checkout Language            1   \n",
       "2  Module Viewed_Featured Collection_Joúw Hardloo...            1   \n",
       "3  Module Viewed_Product technology_STOX Daily Me...            2   \n",
       "4  Module Viewed_Product inspection_Sports Sokken...           10   \n",
       "\n",
       "     CUSTOMER_ID                   EVENT_TEXT                        event  \\\n",
       "0  3940523638881                Module Viewed                Module Viewed   \n",
       "1  3898800832609  Determine Checkout Language  Determine Checkout Language   \n",
       "2  2546273484897                Module Viewed                Module Viewed   \n",
       "3  3739707932769                Module Viewed                Module Viewed   \n",
       "4  3739707932769                Module Viewed                Module Viewed   \n",
       "\n",
       "                module                                                url  \n",
       "0           Tile Block  Kompressions-Laufsocken Gegen Laufschmerzen Un...  \n",
       "1                 None                                               None  \n",
       "2  Featured Collection  Joúw Hardloopvoordeel: Hardloopsokken Met Comp...  \n",
       "3   Product technology  STOX Daily Merino Socks Herren- Farbe: Dunkelg...  \n",
       "4   Product inspection          Sports Sokken Mannen. Kleur: Blauw / Geel  "
      ]
     },
     "execution_count": 4,
     "metadata": {},
     "output_type": "execute_result"
    }
   ],
   "source": [
    "#splitting of the FULL_EVENT\n",
    "\n",
    "df[['event', 'module', 'url']] = df['FULL_EVENT'].str.split('_', 2, expand=True)\n",
    "df.head()"
   ]
  },
  {
   "cell_type": "code",
   "execution_count": 6,
   "metadata": {},
   "outputs": [],
   "source": [
    "#creation of the event_module part\n",
    "\n",
    "event_module = []\n",
    "\n",
    "for i, r in df.iterrows():\n",
    "    if r['event'] == 'Module Viewed':\n",
    "        event_module.append(r['event'] + \"_\" + r['module'])\n",
    "    else:\n",
    "        event_module.append(r['event'])"
   ]
  },
  {
   "cell_type": "code",
   "execution_count": 7,
   "metadata": {},
   "outputs": [],
   "source": [
    "df['event_module'] = event_module"
   ]
  },
  {
   "cell_type": "markdown",
   "metadata": {},
   "source": [
    "# 2. EDA"
   ]
  },
  {
   "cell_type": "markdown",
   "metadata": {},
   "source": [
    "## 2.1 general exploration"
   ]
  },
  {
   "cell_type": "code",
   "execution_count": 8,
   "metadata": {},
   "outputs": [
    {
     "name": "stdout",
     "output_type": "stream",
     "text": [
      "<class 'pandas.core.frame.DataFrame'>\n",
      "RangeIndex: 596511 entries, 0 to 596510\n",
      "Data columns (total 8 columns):\n",
      " #   Column        Non-Null Count   Dtype \n",
      "---  ------        --------------   ----- \n",
      " 0   FULL_EVENT    594785 non-null  object\n",
      " 1   EVENT_COUNT   596511 non-null  int64 \n",
      " 2   CUSTOMER_ID   596511 non-null  object\n",
      " 3   EVENT_TEXT    596511 non-null  object\n",
      " 4   event         594785 non-null  object\n",
      " 5   module        337753 non-null  object\n",
      " 6   url           337753 non-null  object\n",
      " 7   event_module  594785 non-null  object\n",
      "dtypes: int64(1), object(7)\n",
      "memory usage: 36.4+ MB\n"
     ]
    }
   ],
   "source": [
    "df.info()"
   ]
  },
  {
   "cell_type": "code",
   "execution_count": 9,
   "metadata": {},
   "outputs": [
    {
     "name": "stdout",
     "output_type": "stream",
     "text": [
      "(596511, 8)\n"
     ]
    },
    {
     "data": {
      "text/html": [
       "<div>\n",
       "<style scoped>\n",
       "    .dataframe tbody tr th:only-of-type {\n",
       "        vertical-align: middle;\n",
       "    }\n",
       "\n",
       "    .dataframe tbody tr th {\n",
       "        vertical-align: top;\n",
       "    }\n",
       "\n",
       "    .dataframe thead th {\n",
       "        text-align: right;\n",
       "    }\n",
       "</style>\n",
       "<table border=\"1\" class=\"dataframe\">\n",
       "  <thead>\n",
       "    <tr style=\"text-align: right;\">\n",
       "      <th></th>\n",
       "      <th>FULL_EVENT</th>\n",
       "      <th>EVENT_COUNT</th>\n",
       "      <th>CUSTOMER_ID</th>\n",
       "      <th>EVENT_TEXT</th>\n",
       "      <th>event</th>\n",
       "      <th>module</th>\n",
       "      <th>url</th>\n",
       "      <th>event_module</th>\n",
       "    </tr>\n",
       "  </thead>\n",
       "  <tbody>\n",
       "    <tr>\n",
       "      <th>0</th>\n",
       "      <td>Module Viewed_Tile Block_Kompressions-Laufsock...</td>\n",
       "      <td>1</td>\n",
       "      <td>3940523638881</td>\n",
       "      <td>Module Viewed</td>\n",
       "      <td>Module Viewed</td>\n",
       "      <td>Tile Block</td>\n",
       "      <td>Kompressions-Laufsocken Gegen Laufschmerzen Un...</td>\n",
       "      <td>Module Viewed_Tile Block</td>\n",
       "    </tr>\n",
       "    <tr>\n",
       "      <th>1</th>\n",
       "      <td>Determine Checkout Language</td>\n",
       "      <td>1</td>\n",
       "      <td>3898800832609</td>\n",
       "      <td>Determine Checkout Language</td>\n",
       "      <td>Determine Checkout Language</td>\n",
       "      <td>None</td>\n",
       "      <td>None</td>\n",
       "      <td>Determine Checkout Language</td>\n",
       "    </tr>\n",
       "    <tr>\n",
       "      <th>2</th>\n",
       "      <td>Module Viewed_Featured Collection_Joúw Hardloo...</td>\n",
       "      <td>1</td>\n",
       "      <td>2546273484897</td>\n",
       "      <td>Module Viewed</td>\n",
       "      <td>Module Viewed</td>\n",
       "      <td>Featured Collection</td>\n",
       "      <td>Joúw Hardloopvoordeel: Hardloopsokken Met Comp...</td>\n",
       "      <td>Module Viewed_Featured Collection</td>\n",
       "    </tr>\n",
       "    <tr>\n",
       "      <th>3</th>\n",
       "      <td>Module Viewed_Product technology_STOX Daily Me...</td>\n",
       "      <td>2</td>\n",
       "      <td>3739707932769</td>\n",
       "      <td>Module Viewed</td>\n",
       "      <td>Module Viewed</td>\n",
       "      <td>Product technology</td>\n",
       "      <td>STOX Daily Merino Socks Herren- Farbe: Dunkelg...</td>\n",
       "      <td>Module Viewed_Product technology</td>\n",
       "    </tr>\n",
       "    <tr>\n",
       "      <th>4</th>\n",
       "      <td>Module Viewed_Product inspection_Sports Sokken...</td>\n",
       "      <td>10</td>\n",
       "      <td>3739707932769</td>\n",
       "      <td>Module Viewed</td>\n",
       "      <td>Module Viewed</td>\n",
       "      <td>Product inspection</td>\n",
       "      <td>Sports Sokken Mannen. Kleur: Blauw / Geel</td>\n",
       "      <td>Module Viewed_Product inspection</td>\n",
       "    </tr>\n",
       "  </tbody>\n",
       "</table>\n",
       "</div>"
      ],
      "text/plain": [
       "                                          FULL_EVENT  EVENT_COUNT  \\\n",
       "0  Module Viewed_Tile Block_Kompressions-Laufsock...            1   \n",
       "1                        Determine Checkout Language            1   \n",
       "2  Module Viewed_Featured Collection_Joúw Hardloo...            1   \n",
       "3  Module Viewed_Product technology_STOX Daily Me...            2   \n",
       "4  Module Viewed_Product inspection_Sports Sokken...           10   \n",
       "\n",
       "     CUSTOMER_ID                   EVENT_TEXT                        event  \\\n",
       "0  3940523638881                Module Viewed                Module Viewed   \n",
       "1  3898800832609  Determine Checkout Language  Determine Checkout Language   \n",
       "2  2546273484897                Module Viewed                Module Viewed   \n",
       "3  3739707932769                Module Viewed                Module Viewed   \n",
       "4  3739707932769                Module Viewed                Module Viewed   \n",
       "\n",
       "                module                                                url  \\\n",
       "0           Tile Block  Kompressions-Laufsocken Gegen Laufschmerzen Un...   \n",
       "1                 None                                               None   \n",
       "2  Featured Collection  Joúw Hardloopvoordeel: Hardloopsokken Met Comp...   \n",
       "3   Product technology  STOX Daily Merino Socks Herren- Farbe: Dunkelg...   \n",
       "4   Product inspection          Sports Sokken Mannen. Kleur: Blauw / Geel   \n",
       "\n",
       "                        event_module  \n",
       "0           Module Viewed_Tile Block  \n",
       "1        Determine Checkout Language  \n",
       "2  Module Viewed_Featured Collection  \n",
       "3   Module Viewed_Product technology  \n",
       "4   Module Viewed_Product inspection  "
      ]
     },
     "execution_count": 9,
     "metadata": {},
     "output_type": "execute_result"
    }
   ],
   "source": [
    "print(df.shape)\n",
    "df.head()"
   ]
  },
  {
   "cell_type": "markdown",
   "metadata": {},
   "source": [
    "## 2.2 Occurence data"
   ]
  },
  {
   "cell_type": "code",
   "execution_count": 10,
   "metadata": {},
   "outputs": [
    {
     "name": "stdout",
     "output_type": "stream",
     "text": [
      "                         event_module  occurences\n",
      "0   Module Viewed_Featured Collection       93276\n",
      "1            Module Viewed_Tile Block       56997\n",
      "2    Module Viewed_Collection details       34194\n",
      "3    Module Viewed_Product technology       32708\n",
      "4         Determine Checkout Language       29670\n",
      "..                                ...         ...\n",
      "57              Amazon Button Clicked           6\n",
      "58                Module Viewed_Media           3\n",
      "59      Module Viewed_Product reviews           2\n",
      "60      Module Viewed_Guarantee Block           1\n",
      "61         Module Viewed_Review Block           1\n",
      "\n",
      "[62 rows x 2 columns]\n"
     ]
    },
    {
     "data": {
      "text/plain": [
       "Index(['event_module', 'occurences'], dtype='object')"
      ]
     },
     "execution_count": 10,
     "metadata": {},
     "output_type": "execute_result"
    }
   ],
   "source": [
    "df_occ = pd.DataFrame(df['event_module'].value_counts())\n",
    "\n",
    "df_occ.reset_index(inplace=True)\n",
    "df_occ.columns = ['event_module','occurences']\n",
    "\n",
    "print(df_occ)\n",
    "df_occ.columns"
   ]
  },
  {
   "cell_type": "markdown",
   "metadata": {},
   "source": [
    "## 2.3 Predicted variable"
   ]
  },
  {
   "cell_type": "code",
   "execution_count": 11,
   "metadata": {},
   "outputs": [
    {
     "name": "stdout",
     "output_type": "stream",
     "text": [
      "converting users:24536\n",
      "non-converting users:37188\n"
     ]
    }
   ],
   "source": [
    "conv_users = []\n",
    "non_conv = []\n",
    "\n",
    "for index, row in df.iterrows():\n",
    "    if row['event_module'] == 'Order Completed':\n",
    "        conv_users.append(row['CUSTOMER_ID'])\n",
    "    else:\n",
    "        non_conv.append(row['CUSTOMER_ID'])\n",
    "\n",
    "conv_users = list(dict.fromkeys(conv_users))\n",
    "\n",
    "        \n",
    "print(\"converting users:\" + str(len(set(conv_users))))\n",
    "print(\"non-converting users:\" + str(len(set(non_conv))))"
   ]
  },
  {
   "cell_type": "markdown",
   "metadata": {},
   "source": [
    "# 3. Clean"
   ]
  },
  {
   "cell_type": "markdown",
   "metadata": {},
   "source": [
    "## 3.1 Unnecessary columns\n",
    "We remove the unnecessary columns that we will not use for this analysis."
   ]
  },
  {
   "cell_type": "code",
   "execution_count": 12,
   "metadata": {},
   "outputs": [],
   "source": [
    "df.drop([\"EVENT_TEXT\", \"url\",\"event\", \"FULL_EVENT\", \"module\"], axis=1, inplace=True)"
   ]
  },
  {
   "cell_type": "code",
   "execution_count": 13,
   "metadata": {},
   "outputs": [
    {
     "data": {
      "text/plain": [
       "Index(['EVENT_COUNT', 'CUSTOMER_ID', 'event_module'], dtype='object')"
      ]
     },
     "execution_count": 13,
     "metadata": {},
     "output_type": "execute_result"
    }
   ],
   "source": [
    "df.columns"
   ]
  },
  {
   "cell_type": "markdown",
   "metadata": {},
   "source": [
    "## 3.2 Legacy events"
   ]
  },
  {
   "cell_type": "markdown",
   "metadata": {},
   "source": [
    "After some researches, we could say that the following factors existed only for test purpose and can be removed:\n",
    "- Blog Post Seen\n",
    "- Guarantee Viewed\n",
    "- Reviews Viewed\n",
    "- Review Page Seen\n",
    "- Technology Page Seen\n",
    "\n",
    "\n",
    "Because they are legacy:                      \n",
    "- Module Viewed_About body           \n",
    "- Module Viewed_About hero\n",
    "- Module Viewed_Authority  \n",
    "- Module Viewed_Blog hero             \n",
    "- Module Viewed_Blog posts\n",
    "- Module Viewed_Collection products\n",
    "- Module Viewed_Guarantee Block\n",
    "- Module Viewed_Hero Block\n",
    "- Module Viewed_Information Block\n",
    "- Module Viewed_Media\n",
    "- Module Viewed_Media Block\n",
    "- Module Viewed_Product reviews                    \n",
    "- Module Viewed_Product form\n",
    "- Module Viewed_Review Block \n",
    "- Module Viewed_Social\n",
    "- Module Viewed_Store Reviews   \n",
    "- Module Viewed_Usp Block\n",
    "\n",
    "Was removed:\n",
    "- Footer_Viewed:                    because we have 'Footer_clicked'\n",
    "- Module Viewed_Tile Block:         useless to describe behavior\n",
    "\n",
    "Was engineered:\n",
    "- Module Viewed_Video Block + Module Viewed_Authority figures = Module Viewed_Middle Home Page\n",
    "- Module Viewed_Showcase + Module Viewed_Introduction = Module Viewed_Top Home Page\n",
    "- Module Viewed_Product inspection + Module Viewed_Product technology = Module Viewed_Middle Home Page\n",
    "\n",
    "It was considered to remove the following, but they weren't:\n",
    "- Product List Viewed:              it was a unique event of the collection page\n",
    "- Email Capture Viewed:             96% of it is seen in the footer, which has its own event also triggered\n",
    "- Search Clicked:                   We used Search Results Clicked as proxy of the search usefulness\n",
    "- Module Viewed_Hero:               We consider that everyone saw it\n",
    "- Category Page Viewed:             because we use, as proxy, Collection Clicked\n",
    "- Collection Page Viewed:           because we use, as proxy, Collection Clicked  \n",
    "- Module Viewed_Collection details: people scroll product page \n",
    "- Footer_Viewed:                    appears too correlated with multiple events\n",
    "- Nav Clicked:                      same\n",
    "- Module Viewed_Reviews:            same\n",
    "- Module Viewed_Featured Collection:same"
   ]
  },
  {
   "cell_type": "code",
   "execution_count": 14,
   "metadata": {},
   "outputs": [],
   "source": [
    "#list of element necessary for a conversion\n",
    "nec_conv = ['Cart Viewed', \n",
    "            'Checkout Started', \n",
    "            'Checkout Step Viewed',\n",
    "            'Determine Checkout Language',\n",
    "            'Product Added', \n",
    "            'Product Clicked', \n",
    "            'Product Viewed']\n",
    "\n",
    "#We need to drop all the rows that were only used for test purposes\n",
    "test_events = ['Blog Post Seen',\n",
    "               'Guarantee Viewed',\n",
    "               'Review Page Seen', \n",
    "               'Reviews Viewed',\n",
    "               'Technology Page Seen']               \n",
    "\n",
    "legacy_events = ['Module Viewed_About body',\n",
    "                 'Module Viewed_About hero', \n",
    "                 'Module Viewed_Authority',\n",
    "                 'Module Viewed_Blog hero', \n",
    "                 'Module Viewed_Blog posts', \n",
    "                 'Module Viewed_Collection products',\n",
    "                 'Module Viewed_Guarantee Block',\n",
    "                 'Module Viewed_Hero Block',\n",
    "                 'Module Viewed_Information Block',\n",
    "                 'Module Viewed_Media',\n",
    "                 'Module Viewed_Media Block', \n",
    "                 'Module Viewed_Product reviews',\n",
    "                 'Module Viewed_Product form',\n",
    "                 'Module Viewed_Review Block',\n",
    "                 'Module Viewed_Quote Block',\n",
    "                 'Module Viewed_Store Reviews', \n",
    "                 'Module Viewed_Usp Block']\n",
    "\n",
    "removed_list = ['Amazon Button Clicked',\n",
    "                'Footer Viewed',\n",
    "                'Module Viewed_Tile Block']\n",
    "\n",
    "#final list\n",
    "final_list = nec_conv + test_events + legacy_events + removed_list"
   ]
  },
  {
   "cell_type": "markdown",
   "metadata": {},
   "source": [
    "## 3.3 Country_specific"
   ]
  },
  {
   "cell_type": "markdown",
   "metadata": {},
   "source": [
    "Warnings:\n",
    "The following list has a too high level of correlation to be kept (name + VIF):\n",
    "- Collection Clicked  5.203669"
   ]
  },
  {
   "cell_type": "code",
   "execution_count": 15,
   "metadata": {},
   "outputs": [],
   "source": [
    "del_event = ['Collection Clicked']\n",
    "\n",
    "final_list = final_list + del_event\n",
    "\n",
    "df2 = df[~df.event_module.isin(final_list)]"
   ]
  },
  {
   "cell_type": "markdown",
   "metadata": {},
   "source": [
    "# 4. Statistical logistic regression\n",
    "\n",
    "It seems that doing ML on the Jupyter has reached its limit. So I will work from a pure stastical point of view to get the results.\n",
    "\n",
    "The assumptions are:\n",
    "- Binary logistic regression requires the dependent variable to be binary.\n",
    "- For a binary regression, the factor level 1 of the dependent variable should represent the desired outcome.\n",
    "- Only the meaningful variables should be included.\n",
    "- The independent variables should be independent of each other. That is, the model should have little or no multicollinearity.\n",
    "- The independent variables are linearly related to the log odds. (~ means excluding due to p-values)\n",
    "- Logistic regression requires quite large sample sizes."
   ]
  },
  {
   "cell_type": "markdown",
   "metadata": {},
   "source": [
    "## 4.1 Dummification"
   ]
  },
  {
   "cell_type": "code",
   "execution_count": 16,
   "metadata": {},
   "outputs": [],
   "source": [
    "pivot = df2.pivot_table(index='CUSTOMER_ID', columns='event_module', values='EVENT_COUNT')\n",
    "pivot.fillna(0,inplace=True)"
   ]
  },
  {
   "cell_type": "code",
   "execution_count": 17,
   "metadata": {
    "scrolled": false
   },
   "outputs": [
    {
     "data": {
      "text/html": [
       "<div>\n",
       "<style scoped>\n",
       "    .dataframe tbody tr th:only-of-type {\n",
       "        vertical-align: middle;\n",
       "    }\n",
       "\n",
       "    .dataframe tbody tr th {\n",
       "        vertical-align: top;\n",
       "    }\n",
       "\n",
       "    .dataframe thead th {\n",
       "        text-align: right;\n",
       "    }\n",
       "</style>\n",
       "<table border=\"1\" class=\"dataframe\">\n",
       "  <thead>\n",
       "    <tr style=\"text-align: right;\">\n",
       "      <th>event_module</th>\n",
       "      <th>Accordion Clicked</th>\n",
       "      <th>Announcement Clicked</th>\n",
       "      <th>Blog Post Clicked</th>\n",
       "      <th>Blog Post Viewed</th>\n",
       "      <th>Blogpage Hero Clicked</th>\n",
       "      <th>Carousel Clicked</th>\n",
       "      <th>Collection Anchor Clicked</th>\n",
       "      <th>Collection Gender Selected</th>\n",
       "      <th>Color Selected</th>\n",
       "      <th>Currency Selected</th>\n",
       "      <th>...</th>\n",
       "      <th>Order Completed</th>\n",
       "      <th>Product Info Clicked</th>\n",
       "      <th>Product Removed</th>\n",
       "      <th>Product Zoom Clicked</th>\n",
       "      <th>Review Anchor Clicked</th>\n",
       "      <th>Review Page Viewed</th>\n",
       "      <th>Search Result Clicked</th>\n",
       "      <th>Size Variant Selected</th>\n",
       "      <th>Technology Page Viewed</th>\n",
       "      <th>Video Opened</th>\n",
       "    </tr>\n",
       "    <tr>\n",
       "      <th>CUSTOMER_ID</th>\n",
       "      <th></th>\n",
       "      <th></th>\n",
       "      <th></th>\n",
       "      <th></th>\n",
       "      <th></th>\n",
       "      <th></th>\n",
       "      <th></th>\n",
       "      <th></th>\n",
       "      <th></th>\n",
       "      <th></th>\n",
       "      <th></th>\n",
       "      <th></th>\n",
       "      <th></th>\n",
       "      <th></th>\n",
       "      <th></th>\n",
       "      <th></th>\n",
       "      <th></th>\n",
       "      <th></th>\n",
       "      <th></th>\n",
       "      <th></th>\n",
       "      <th></th>\n",
       "    </tr>\n",
       "  </thead>\n",
       "  <tbody>\n",
       "    <tr>\n",
       "      <th>00271de1-6214-4f20-a773-2265eca850a4</th>\n",
       "      <td>0.0</td>\n",
       "      <td>0.0</td>\n",
       "      <td>0.0</td>\n",
       "      <td>2.0</td>\n",
       "      <td>0.0</td>\n",
       "      <td>0.0</td>\n",
       "      <td>0.0</td>\n",
       "      <td>0.0</td>\n",
       "      <td>4.0</td>\n",
       "      <td>0.0</td>\n",
       "      <td>...</td>\n",
       "      <td>0.0</td>\n",
       "      <td>0.0</td>\n",
       "      <td>0.0</td>\n",
       "      <td>0.0</td>\n",
       "      <td>0.0</td>\n",
       "      <td>0.0</td>\n",
       "      <td>0.0</td>\n",
       "      <td>4.0</td>\n",
       "      <td>0.0</td>\n",
       "      <td>0.0</td>\n",
       "    </tr>\n",
       "    <tr>\n",
       "      <th>0032e0c9-8ba0-4fea-9057-32fddf0c7070</th>\n",
       "      <td>1.0</td>\n",
       "      <td>0.0</td>\n",
       "      <td>0.0</td>\n",
       "      <td>0.0</td>\n",
       "      <td>0.0</td>\n",
       "      <td>1.0</td>\n",
       "      <td>0.0</td>\n",
       "      <td>0.0</td>\n",
       "      <td>3.0</td>\n",
       "      <td>0.0</td>\n",
       "      <td>...</td>\n",
       "      <td>0.0</td>\n",
       "      <td>0.0</td>\n",
       "      <td>0.0</td>\n",
       "      <td>0.0</td>\n",
       "      <td>0.0</td>\n",
       "      <td>0.0</td>\n",
       "      <td>0.0</td>\n",
       "      <td>4.0</td>\n",
       "      <td>0.0</td>\n",
       "      <td>0.0</td>\n",
       "    </tr>\n",
       "    <tr>\n",
       "      <th>003b8fc1-7df8-405c-ad90-032dc8502c26</th>\n",
       "      <td>0.0</td>\n",
       "      <td>0.0</td>\n",
       "      <td>0.0</td>\n",
       "      <td>2.0</td>\n",
       "      <td>0.0</td>\n",
       "      <td>0.0</td>\n",
       "      <td>0.0</td>\n",
       "      <td>1.0</td>\n",
       "      <td>0.0</td>\n",
       "      <td>0.0</td>\n",
       "      <td>...</td>\n",
       "      <td>0.0</td>\n",
       "      <td>3.0</td>\n",
       "      <td>0.0</td>\n",
       "      <td>0.0</td>\n",
       "      <td>0.0</td>\n",
       "      <td>0.0</td>\n",
       "      <td>0.0</td>\n",
       "      <td>1.0</td>\n",
       "      <td>0.0</td>\n",
       "      <td>0.0</td>\n",
       "    </tr>\n",
       "    <tr>\n",
       "      <th>003e3481-465d-4809-a70c-922c076929ad</th>\n",
       "      <td>0.0</td>\n",
       "      <td>0.0</td>\n",
       "      <td>0.0</td>\n",
       "      <td>1.0</td>\n",
       "      <td>0.0</td>\n",
       "      <td>0.0</td>\n",
       "      <td>0.0</td>\n",
       "      <td>0.0</td>\n",
       "      <td>0.0</td>\n",
       "      <td>0.0</td>\n",
       "      <td>...</td>\n",
       "      <td>0.0</td>\n",
       "      <td>0.0</td>\n",
       "      <td>0.0</td>\n",
       "      <td>0.0</td>\n",
       "      <td>0.0</td>\n",
       "      <td>0.0</td>\n",
       "      <td>0.0</td>\n",
       "      <td>0.0</td>\n",
       "      <td>0.0</td>\n",
       "      <td>0.0</td>\n",
       "    </tr>\n",
       "    <tr>\n",
       "      <th>004f7508-8b4e-4139-8c8a-10f6e128a447</th>\n",
       "      <td>0.0</td>\n",
       "      <td>0.0</td>\n",
       "      <td>0.0</td>\n",
       "      <td>0.0</td>\n",
       "      <td>0.0</td>\n",
       "      <td>0.0</td>\n",
       "      <td>0.0</td>\n",
       "      <td>1.0</td>\n",
       "      <td>0.0</td>\n",
       "      <td>0.0</td>\n",
       "      <td>...</td>\n",
       "      <td>0.0</td>\n",
       "      <td>0.0</td>\n",
       "      <td>0.0</td>\n",
       "      <td>0.0</td>\n",
       "      <td>0.0</td>\n",
       "      <td>0.0</td>\n",
       "      <td>0.0</td>\n",
       "      <td>0.0</td>\n",
       "      <td>0.0</td>\n",
       "      <td>0.0</td>\n",
       "    </tr>\n",
       "  </tbody>\n",
       "</table>\n",
       "<p>5 rows × 48 columns</p>\n",
       "</div>"
      ],
      "text/plain": [
       "event_module                          Accordion Clicked  Announcement Clicked  \\\n",
       "CUSTOMER_ID                                                                     \n",
       "00271de1-6214-4f20-a773-2265eca850a4                0.0                   0.0   \n",
       "0032e0c9-8ba0-4fea-9057-32fddf0c7070                1.0                   0.0   \n",
       "003b8fc1-7df8-405c-ad90-032dc8502c26                0.0                   0.0   \n",
       "003e3481-465d-4809-a70c-922c076929ad                0.0                   0.0   \n",
       "004f7508-8b4e-4139-8c8a-10f6e128a447                0.0                   0.0   \n",
       "\n",
       "event_module                          Blog Post Clicked  Blog Post Viewed  \\\n",
       "CUSTOMER_ID                                                                 \n",
       "00271de1-6214-4f20-a773-2265eca850a4                0.0               2.0   \n",
       "0032e0c9-8ba0-4fea-9057-32fddf0c7070                0.0               0.0   \n",
       "003b8fc1-7df8-405c-ad90-032dc8502c26                0.0               2.0   \n",
       "003e3481-465d-4809-a70c-922c076929ad                0.0               1.0   \n",
       "004f7508-8b4e-4139-8c8a-10f6e128a447                0.0               0.0   \n",
       "\n",
       "event_module                          Blogpage Hero Clicked  Carousel Clicked  \\\n",
       "CUSTOMER_ID                                                                     \n",
       "00271de1-6214-4f20-a773-2265eca850a4                    0.0               0.0   \n",
       "0032e0c9-8ba0-4fea-9057-32fddf0c7070                    0.0               1.0   \n",
       "003b8fc1-7df8-405c-ad90-032dc8502c26                    0.0               0.0   \n",
       "003e3481-465d-4809-a70c-922c076929ad                    0.0               0.0   \n",
       "004f7508-8b4e-4139-8c8a-10f6e128a447                    0.0               0.0   \n",
       "\n",
       "event_module                          Collection Anchor Clicked  \\\n",
       "CUSTOMER_ID                                                       \n",
       "00271de1-6214-4f20-a773-2265eca850a4                        0.0   \n",
       "0032e0c9-8ba0-4fea-9057-32fddf0c7070                        0.0   \n",
       "003b8fc1-7df8-405c-ad90-032dc8502c26                        0.0   \n",
       "003e3481-465d-4809-a70c-922c076929ad                        0.0   \n",
       "004f7508-8b4e-4139-8c8a-10f6e128a447                        0.0   \n",
       "\n",
       "event_module                          Collection Gender Selected  \\\n",
       "CUSTOMER_ID                                                        \n",
       "00271de1-6214-4f20-a773-2265eca850a4                         0.0   \n",
       "0032e0c9-8ba0-4fea-9057-32fddf0c7070                         0.0   \n",
       "003b8fc1-7df8-405c-ad90-032dc8502c26                         1.0   \n",
       "003e3481-465d-4809-a70c-922c076929ad                         0.0   \n",
       "004f7508-8b4e-4139-8c8a-10f6e128a447                         1.0   \n",
       "\n",
       "event_module                          Color Selected  Currency Selected  ...  \\\n",
       "CUSTOMER_ID                                                              ...   \n",
       "00271de1-6214-4f20-a773-2265eca850a4             4.0                0.0  ...   \n",
       "0032e0c9-8ba0-4fea-9057-32fddf0c7070             3.0                0.0  ...   \n",
       "003b8fc1-7df8-405c-ad90-032dc8502c26             0.0                0.0  ...   \n",
       "003e3481-465d-4809-a70c-922c076929ad             0.0                0.0  ...   \n",
       "004f7508-8b4e-4139-8c8a-10f6e128a447             0.0                0.0  ...   \n",
       "\n",
       "event_module                          Order Completed  Product Info Clicked  \\\n",
       "CUSTOMER_ID                                                                   \n",
       "00271de1-6214-4f20-a773-2265eca850a4              0.0                   0.0   \n",
       "0032e0c9-8ba0-4fea-9057-32fddf0c7070              0.0                   0.0   \n",
       "003b8fc1-7df8-405c-ad90-032dc8502c26              0.0                   3.0   \n",
       "003e3481-465d-4809-a70c-922c076929ad              0.0                   0.0   \n",
       "004f7508-8b4e-4139-8c8a-10f6e128a447              0.0                   0.0   \n",
       "\n",
       "event_module                          Product Removed  Product Zoom Clicked  \\\n",
       "CUSTOMER_ID                                                                   \n",
       "00271de1-6214-4f20-a773-2265eca850a4              0.0                   0.0   \n",
       "0032e0c9-8ba0-4fea-9057-32fddf0c7070              0.0                   0.0   \n",
       "003b8fc1-7df8-405c-ad90-032dc8502c26              0.0                   0.0   \n",
       "003e3481-465d-4809-a70c-922c076929ad              0.0                   0.0   \n",
       "004f7508-8b4e-4139-8c8a-10f6e128a447              0.0                   0.0   \n",
       "\n",
       "event_module                          Review Anchor Clicked  \\\n",
       "CUSTOMER_ID                                                   \n",
       "00271de1-6214-4f20-a773-2265eca850a4                    0.0   \n",
       "0032e0c9-8ba0-4fea-9057-32fddf0c7070                    0.0   \n",
       "003b8fc1-7df8-405c-ad90-032dc8502c26                    0.0   \n",
       "003e3481-465d-4809-a70c-922c076929ad                    0.0   \n",
       "004f7508-8b4e-4139-8c8a-10f6e128a447                    0.0   \n",
       "\n",
       "event_module                          Review Page Viewed  \\\n",
       "CUSTOMER_ID                                                \n",
       "00271de1-6214-4f20-a773-2265eca850a4                 0.0   \n",
       "0032e0c9-8ba0-4fea-9057-32fddf0c7070                 0.0   \n",
       "003b8fc1-7df8-405c-ad90-032dc8502c26                 0.0   \n",
       "003e3481-465d-4809-a70c-922c076929ad                 0.0   \n",
       "004f7508-8b4e-4139-8c8a-10f6e128a447                 0.0   \n",
       "\n",
       "event_module                          Search Result Clicked  \\\n",
       "CUSTOMER_ID                                                   \n",
       "00271de1-6214-4f20-a773-2265eca850a4                    0.0   \n",
       "0032e0c9-8ba0-4fea-9057-32fddf0c7070                    0.0   \n",
       "003b8fc1-7df8-405c-ad90-032dc8502c26                    0.0   \n",
       "003e3481-465d-4809-a70c-922c076929ad                    0.0   \n",
       "004f7508-8b4e-4139-8c8a-10f6e128a447                    0.0   \n",
       "\n",
       "event_module                          Size Variant Selected  \\\n",
       "CUSTOMER_ID                                                   \n",
       "00271de1-6214-4f20-a773-2265eca850a4                    4.0   \n",
       "0032e0c9-8ba0-4fea-9057-32fddf0c7070                    4.0   \n",
       "003b8fc1-7df8-405c-ad90-032dc8502c26                    1.0   \n",
       "003e3481-465d-4809-a70c-922c076929ad                    0.0   \n",
       "004f7508-8b4e-4139-8c8a-10f6e128a447                    0.0   \n",
       "\n",
       "event_module                          Technology Page Viewed  Video Opened  \n",
       "CUSTOMER_ID                                                                 \n",
       "00271de1-6214-4f20-a773-2265eca850a4                     0.0           0.0  \n",
       "0032e0c9-8ba0-4fea-9057-32fddf0c7070                     0.0           0.0  \n",
       "003b8fc1-7df8-405c-ad90-032dc8502c26                     0.0           0.0  \n",
       "003e3481-465d-4809-a70c-922c076929ad                     0.0           0.0  \n",
       "004f7508-8b4e-4139-8c8a-10f6e128a447                     0.0           0.0  \n",
       "\n",
       "[5 rows x 48 columns]"
      ]
     },
     "execution_count": 17,
     "metadata": {},
     "output_type": "execute_result"
    }
   ],
   "source": [
    "pivot.head()"
   ]
  },
  {
   "cell_type": "code",
   "execution_count": 18,
   "metadata": {},
   "outputs": [
    {
     "data": {
      "text/plain": [
       "(35543, 48)"
      ]
     },
     "execution_count": 18,
     "metadata": {},
     "output_type": "execute_result"
    }
   ],
   "source": [
    "pivot.shape"
   ]
  },
  {
   "cell_type": "markdown",
   "metadata": {},
   "source": [
    "## 4.2 multicolinearity\n",
    "\n",
    "We use the Variance Inflation Factor results. A VIF above 5 means high multicollinearity.\n",
    "\n",
    "The interpretation of a regression coefficient is that it represents the mean change in the dependent variable for each 1 unit change in an independent variable when you hold all of the other independent variables constant. That last portion is crucial for our discussion about multicollinearity.\n",
    "\n",
    "If two variables have high multicollinearity, it will highly influence on the p-value and any slight change in the model might create highly different results. But it doensn't overall affect the prediction power, only the weights and p-value.\n",
    "\n",
    "source: https://statisticsbyjim.com/regression/multicollinearity-in-regression-analysis/"
   ]
  },
  {
   "cell_type": "markdown",
   "metadata": {},
   "source": [
    "To go further with PCA and Ridge: https://www.researchgate.net/post/How_do_I_minimize_multicollinearity_in_multiple_regression_analysis"
   ]
  },
  {
   "cell_type": "code",
   "execution_count": 19,
   "metadata": {},
   "outputs": [],
   "source": [
    "from statsmodels.stats.outliers_influence import variance_inflation_factor \n",
    "\n",
    "def high_vif_pivot(pivot):\n",
    "    global y\n",
    "    global X\n",
    "    y = pivot['Order Completed']\n",
    "    X = pivot.drop(['Order Completed'], axis=1)\n",
    "    vif_data = pd.DataFrame() \n",
    "    vif_data[\"feature\"] = X.columns \n",
    "    vif_data[\"VIF\"] = [variance_inflation_factor(X.values, i) for i in range(len(X.columns))] \n",
    "    global high_vif\n",
    "    high_vif = vif_data[vif_data['VIF']>5]\n",
    "    print(high_vif)\n",
    "    \n",
    "    "
   ]
  },
  {
   "cell_type": "code",
   "execution_count": 20,
   "metadata": {},
   "outputs": [],
   "source": [
    "def most_inf_factors(high_vif, X):\n",
    "    corr = X.corr().abs()\n",
    "    corr.reset_index(inplace=True)\n",
    "    corr_c = corr[corr.event_module.isin(high_vif['feature'])]\n",
    "    print(\"this is corr_c shape: \"+str(corr_c.shape))\n",
    "    corr_c = corr_c.replace(1.0, 0.0)\n",
    "    list_max = []\n",
    "    list_name_max = []\n",
    "    value_only = corr_c[corr_c.columns[1:]]\n",
    "    for index, row in value_only.iterrows():\n",
    "        list_max.append(row.max())\n",
    "        list_name_max.append(row.idxmax())\n",
    "    corr_c['list_max'] = list_max\n",
    "    corr_c['list_name_max'] = list_name_max\n",
    "    print(corr_c[['event_module', 'list_max', 'list_name_max']])"
   ]
  },
  {
   "cell_type": "code",
   "execution_count": 21,
   "metadata": {},
   "outputs": [
    {
     "name": "stdout",
     "output_type": "stream",
     "text": [
      "                       feature       VIF\n",
      "26  Module Viewed_Introduction  5.330595\n",
      "32   Module Viewed_Video Block  5.797103\n"
     ]
    }
   ],
   "source": [
    "high_vif_pivot(pivot)"
   ]
  },
  {
   "cell_type": "code",
   "execution_count": 22,
   "metadata": {},
   "outputs": [
    {
     "name": "stdout",
     "output_type": "stream",
     "text": [
      "this is corr_c shape: (2, 48)\n",
      "event_module                event_module  list_max  \\\n",
      "26            Module Viewed_Introduction  0.819195   \n",
      "32             Module Viewed_Video Block  0.868083   \n",
      "\n",
      "event_module                    list_name_max  \n",
      "26                     Module Viewed_Showcase  \n",
      "32            Module Viewed_Authority figures  \n"
     ]
    }
   ],
   "source": [
    "most_inf_factors(high_vif,X)"
   ]
  },
  {
   "cell_type": "markdown",
   "metadata": {},
   "source": [
    "## 4.3 Feature engineering"
   ]
  },
  {
   "cell_type": "code",
   "execution_count": 23,
   "metadata": {},
   "outputs": [
    {
     "name": "stdout",
     "output_type": "stream",
     "text": [
      "(35543, 44)\n"
     ]
    }
   ],
   "source": [
    "pivot['Module Viewed_Middle Home Page'] = pivot['Module Viewed_Video Block'] + pivot['Module Viewed_Authority figures']\n",
    "pivot['Module Viewed_Top Home Page'] = pivot['Module Viewed_Showcase'] + pivot['Module Viewed_Introduction']\n",
    "pivot['Module Viewed_Middle Product Page'] = pivot['Module Viewed_Product inspection'] + pivot['Module Viewed_Product technology'] + pivot['Module Viewed_Reviews']\n",
    "\n",
    "pivot.drop(['Module Viewed_Video Block', 'Module Viewed_Authority figures' \n",
    "            ,'Module Viewed_Showcase', 'Module Viewed_Introduction' \n",
    "            ,'Module Viewed_Product inspection', 'Module Viewed_Product technology','Module Viewed_Reviews'\n",
    "           ], \n",
    "           axis=1, inplace = True)\n",
    "print(pivot.shape)"
   ]
  },
  {
   "cell_type": "code",
   "execution_count": 24,
   "metadata": {},
   "outputs": [
    {
     "name": "stdout",
     "output_type": "stream",
     "text": [
      "Empty DataFrame\n",
      "Columns: [feature, VIF]\n",
      "Index: []\n"
     ]
    }
   ],
   "source": [
    "high_vif_pivot(pivot)"
   ]
  },
  {
   "cell_type": "markdown",
   "metadata": {},
   "source": [
    "Our list of high-vif value is empty, so we can now model"
   ]
  },
  {
   "cell_type": "markdown",
   "metadata": {},
   "source": [
    "# 5. Modelling\n",
    "Now let's regress our logistic regression."
   ]
  },
  {
   "cell_type": "code",
   "execution_count": 25,
   "metadata": {},
   "outputs": [],
   "source": [
    "y = []"
   ]
  },
  {
   "cell_type": "code",
   "execution_count": 26,
   "metadata": {},
   "outputs": [],
   "source": [
    "for i in pivot['Order Completed']:\n",
    "    if i >= 1:\n",
    "        y.append(1)\n",
    "    else:\n",
    "        y.append(0)\n",
    "        \n",
    "X = pivot.drop(['Order Completed'], axis=1)\n",
    "\n",
    "X=sm.add_constant(X)\n",
    "X_train, X_test, y_train, y_test = train_test_split(X, y, test_size=0.2, random_state=0)"
   ]
  },
  {
   "cell_type": "code",
   "execution_count": 27,
   "metadata": {},
   "outputs": [
    {
     "name": "stdout",
     "output_type": "stream",
     "text": [
      "24536\n",
      "11007\n"
     ]
    }
   ],
   "source": [
    "print(y.count(1))\n",
    "print(y.count(0))"
   ]
  },
  {
   "cell_type": "code",
   "execution_count": 28,
   "metadata": {},
   "outputs": [
    {
     "name": "stdout",
     "output_type": "stream",
     "text": [
      "Warning: Maximum number of iterations has been exceeded.\n",
      "         Current function value: 0.535049\n",
      "         Iterations: 35\n",
      "         Function evaluations: 37\n",
      "         Gradient evaluations: 37\n"
     ]
    },
    {
     "name": "stderr",
     "output_type": "stream",
     "text": [
      "C:\\Users\\Arthu\\anaconda3\\lib\\site-packages\\statsmodels\\base\\model.py:566: ConvergenceWarning: Maximum Likelihood optimization failed to converge. Check mle_retvals\n",
      "  warnings.warn(\"Maximum Likelihood optimization failed to \"\n"
     ]
    }
   ],
   "source": [
    "model=sm.Logit(y_train,X_train,random_state=0)\n",
    "result=model.fit(max_iter=40, method='bfgs')"
   ]
  },
  {
   "cell_type": "code",
   "execution_count": 29,
   "metadata": {},
   "outputs": [],
   "source": [
    "opt_thr=0.5\n",
    "y_pred=result.predict(X_test)\n",
    "y_pred= np.where(y_pred>opt_thr,1,0)"
   ]
  },
  {
   "cell_type": "code",
   "execution_count": 30,
   "metadata": {},
   "outputs": [
    {
     "data": {
      "text/plain": [
       "Text(33.0, 0.5, 'Actual Output')"
      ]
     },
     "execution_count": 30,
     "metadata": {},
     "output_type": "execute_result"
    },
    {
     "data": {
      "image/png": "[encoded data removed]",
      "text/plain": [
       "<Figure size 432x288 with 2 Axes>"
      ]
     },
     "metadata": {
      "needs_background": "light"
     },
     "output_type": "display_data"
    }
   ],
   "source": [
    "cm= confusion_matrix(y_test,y_pred)\n",
    "ax=sns.heatmap(cm, annot=True, fmt=\"0\", annot_kws={\"size\":20})\n",
    "plt.xlabel('Predicted Output', fontsize=20)\n",
    "plt.ylabel('Actual Output', fontsize=20)"
   ]
  },
  {
   "cell_type": "code",
   "execution_count": 31,
   "metadata": {},
   "outputs": [
    {
     "name": "stdout",
     "output_type": "stream",
     "text": [
      "              precision    recall  f1-score   support\n",
      "\n",
      "           0       0.61      0.44      0.51      2194\n",
      "           1       0.78      0.87      0.82      4915\n",
      "\n",
      "    accuracy                           0.74      7109\n",
      "   macro avg       0.69      0.66      0.67      7109\n",
      "weighted avg       0.73      0.74      0.73      7109\n",
      "\n"
     ]
    }
   ],
   "source": [
    "print(classification_report(y_test, y_pred))"
   ]
  },
  {
   "cell_type": "markdown",
   "metadata": {},
   "source": [
    "Accuracy = (TP+TN) /(TP+FP+FN+TN)\n",
    "And we have an accuracy of 82%"
   ]
  },
  {
   "cell_type": "code",
   "execution_count": 32,
   "metadata": {},
   "outputs": [
    {
     "name": "stdout",
     "output_type": "stream",
     "text": [
      "                           Logit Regression Results                           \n",
      "==============================================================================\n",
      "Dep. Variable:                      y   No. Observations:                28434\n",
      "Model:                          Logit   Df Residuals:                    28390\n",
      "Method:                           MLE   Df Model:                           43\n",
      "Date:                Tue, 02 Mar 2021   Pseudo R-squ.:                  0.1357\n",
      "Time:                        09:06:28   Log-Likelihood:                -15214.\n",
      "converged:                      False   LL-Null:                       -17602.\n",
      "Covariance Type:            nonrobust   LLR p-value:                     0.000\n",
      "=====================================================================================================\n",
      "                                        coef    std err          z      P>|z|      [0.025      0.975]\n",
      "-----------------------------------------------------------------------------------------------------\n",
      "const                                -0.1535      0.022     -6.929      0.000      -0.197      -0.110\n",
      "Accordion Clicked                     0.0007      0.010      0.067      0.946      -0.020       0.021\n",
      "Announcement Clicked                 -0.0653      0.065     -1.005      0.315      -0.193       0.062\n",
      "Blog Post Clicked                     0.4592      0.141      3.251      0.001       0.182       0.736\n",
      "Blog Post Viewed                     -0.2029      0.014    -14.347      0.000      -0.231      -0.175\n",
      "Blogpage Hero Clicked                 0.0188      0.783      0.024      0.981      -1.515       1.553\n",
      "Carousel Clicked                     -0.0208      0.014     -1.498      0.134      -0.048       0.006\n",
      "Collection Anchor Clicked            -0.0692      0.064     -1.085      0.278      -0.194       0.056\n",
      "Collection Gender Selected            0.0191      0.009      2.176      0.030       0.002       0.036\n",
      "Color Selected                        0.0241      0.003      7.240      0.000       0.018       0.031\n",
      "Currency Selected                    -0.0370      0.134     -0.276      0.782      -0.300       0.226\n",
      "Email Capture Closed                 -0.0279      0.129     -0.215      0.830      -0.282       0.226\n",
      "Email Capture Submitted              -0.1823      0.126     -1.453      0.146      -0.428       0.064\n",
      "Experiment Viewed                     0.0129      0.002      6.483      0.000       0.009       0.017\n",
      "Footer Clicked                       -0.0033      0.022     -0.148      0.883      -0.047       0.040\n",
      "Guarantee Clicked                    -0.0578      0.062     -0.927      0.354      -0.180       0.064\n",
      "Homepage Hero Clicked                 0.0595      0.021      2.821      0.005       0.018       0.101\n",
      "Homepage Review Clicked              -0.0009      0.358     -0.003      0.998      -0.703       0.702\n",
      "Landingpage Hero Clicked             -0.0118      0.271     -0.044      0.965      -0.544       0.520\n",
      "Language Selected                    -0.6039      0.082     -7.354      0.000      -0.765      -0.443\n",
      "Load More Reviews                     0.0189      0.005      3.712      0.000       0.009       0.029\n",
      "Location Selected                    -0.0450      0.018     -2.457      0.014      -0.081      -0.009\n",
      "Module Viewed_Collection details      0.3297      0.032     10.449      0.000       0.268       0.392\n",
      "Module Viewed_Featured Collection     0.4501      0.025     18.283      0.000       0.402       0.498\n",
      "Module Viewed_Guarantee              -0.0782      0.035     -2.228      0.026      -0.147      -0.009\n",
      "Module Viewed_Hero                    0.0782      0.018      4.273      0.000       0.042       0.114\n",
      "Module Viewed_Social Sharing         -0.1442      0.048     -2.990      0.003      -0.239      -0.050\n",
      "Nav Clicked                           0.1765      0.013     13.626      0.000       0.151       0.202\n",
      "Nav Closed                            0.0767      0.021      3.672      0.000       0.036       0.118\n",
      "Nav Opened                           -0.1976      0.015    -12.845      0.000      -0.228      -0.167\n",
      "Notification Closed                   0.0134      0.251      0.053      0.957      -0.478       0.505\n",
      "Notification Viewed                  -0.2548      0.040     -6.340      0.000      -0.334      -0.176\n",
      "Product Info Clicked                  0.0041      0.003      1.207      0.227      -0.003       0.011\n",
      "Product Removed                      -0.1108      0.028     -3.917      0.000      -0.166      -0.055\n",
      "Product Zoom Clicked                 -0.0145      0.031     -0.469      0.639      -0.075       0.046\n",
      "Review Anchor Clicked                 0.0186      0.049      0.381      0.703      -0.077       0.114\n",
      "Review Page Viewed                   -0.0141      0.095     -0.147      0.883      -0.201       0.173\n",
      "Search Result Clicked                -0.0209      0.054     -0.387      0.699      -0.127       0.085\n",
      "Size Variant Selected                 0.0559      0.006      9.510      0.000       0.044       0.067\n",
      "Technology Page Viewed               -0.0059      0.051     -0.114      0.909      -0.106       0.095\n",
      "Video Opened                         -0.2197      0.162     -1.355      0.175      -0.537       0.098\n",
      "Module Viewed_Middle Home Page        0.0319      0.035      0.912      0.362      -0.037       0.100\n",
      "Module Viewed_Top Home Page           0.0212      0.020      1.062      0.288      -0.018       0.060\n",
      "Module Viewed_Middle Product Page    -0.0048      0.013     -0.373      0.709      -0.030       0.020\n",
      "=====================================================================================================\n"
     ]
    }
   ],
   "source": [
    "print(result.summary())"
   ]
  },
  {
   "cell_type": "code",
   "execution_count": 33,
   "metadata": {},
   "outputs": [
    {
     "name": "stderr",
     "output_type": "stream",
     "text": [
      "C:\\Users\\Arthu\\anaconda3\\lib\\site-packages\\pandas\\core\\frame.py:4163: SettingWithCopyWarning: \n",
      "A value is trying to be set on a copy of a slice from a DataFrame\n",
      "\n",
      "See the caveats in the documentation: https://pandas.pydata.org/pandas-docs/stable/user_guide/indexing.html#returning-a-view-versus-a-copy\n",
      "  return super().drop(\n"
     ]
    }
   ],
   "source": [
    "# Fetching the statistics\n",
    "stat_df=pd.DataFrame({'coefficients':result.params, 'p-value': result.pvalues, 'odds_ratio': np.exp(result.params)})\n",
    "final = stat_df[['coefficients','p-value']]\n",
    "\n",
    "final.reset_index(inplace=True)\n",
    "final.columns = ['event', 'coefficients', 'p-value']\n",
    "\n",
    "#dropped const\n",
    "final.drop(0, inplace=True)"
   ]
  },
  {
   "cell_type": "code",
   "execution_count": 34,
   "metadata": {},
   "outputs": [
    {
     "name": "stdout",
     "output_type": "stream",
     "text": [
      "                                event  coefficients       p-value  \\\n",
      "0                   Accordion Clicked      0.000705  9.463222e-01   \n",
      "1                Announcement Clicked     -0.065328  3.150896e-01   \n",
      "2                   Blog Post Clicked      0.459243  1.150928e-03   \n",
      "3                    Blog Post Viewed     -0.202909  1.107994e-46   \n",
      "4               Blogpage Hero Clicked      0.018797  9.808424e-01   \n",
      "5                    Carousel Clicked     -0.020764  1.342220e-01   \n",
      "6           Collection Anchor Clicked     -0.069170  2.780377e-01   \n",
      "7          Collection Gender Selected      0.019076  2.953494e-02   \n",
      "8                      Color Selected      0.024091  4.499287e-13   \n",
      "9                   Currency Selected     -0.037024  7.822722e-01   \n",
      "10               Email Capture Closed     -0.027872  8.295063e-01   \n",
      "11            Email Capture Submitted     -0.182337  1.463313e-01   \n",
      "12                  Experiment Viewed      0.012933  8.980034e-11   \n",
      "13                     Footer Clicked     -0.003287  8.825450e-01   \n",
      "14                  Guarantee Clicked     -0.057819  3.536773e-01   \n",
      "15              Homepage Hero Clicked      0.059546  4.784809e-03   \n",
      "16            Homepage Review Clicked     -0.000906  9.979843e-01   \n",
      "17           Landingpage Hero Clicked     -0.011830  9.652285e-01   \n",
      "18                  Language Selected     -0.603937  1.921806e-13   \n",
      "19                  Load More Reviews      0.018928  2.058261e-04   \n",
      "20                  Location Selected     -0.044976  1.400828e-02   \n",
      "21   Module Viewed_Collection details      0.329674  1.479291e-25   \n",
      "22  Module Viewed_Featured Collection      0.450111  1.125694e-74   \n",
      "23            Module Viewed_Guarantee     -0.078154  2.587440e-02   \n",
      "24                 Module Viewed_Hero      0.078245  1.930364e-05   \n",
      "25       Module Viewed_Social Sharing     -0.144166  2.785906e-03   \n",
      "26                        Nav Clicked      0.176455  2.821856e-42   \n",
      "27                         Nav Closed      0.076667  2.406767e-04   \n",
      "28                         Nav Opened     -0.197553  9.166713e-38   \n",
      "29                Notification Closed      0.013414  9.573426e-01   \n",
      "30                Notification Viewed     -0.254799  2.301300e-10   \n",
      "31               Product Info Clicked      0.004054  2.273527e-01   \n",
      "32                    Product Removed     -0.110802  8.982928e-05   \n",
      "33               Product Zoom Clicked     -0.014545  6.392440e-01   \n",
      "34              Review Anchor Clicked      0.018557  7.034067e-01   \n",
      "35                 Review Page Viewed     -0.014056  8.829164e-01   \n",
      "36              Search Result Clicked     -0.020862  6.989253e-01   \n",
      "37              Size Variant Selected      0.055855  1.898726e-21   \n",
      "38             Technology Page Viewed     -0.005863  9.090849e-01   \n",
      "39                       Video Opened     -0.219676  1.753231e-01   \n",
      "40     Module Viewed_Middle Home Page      0.031893  3.617220e-01   \n",
      "41        Module Viewed_Top Home Page      0.021239  2.883737e-01   \n",
      "42  Module Viewed_Middle Product Page     -0.004814  7.089902e-01   \n",
      "\n",
      "                         event_module  occurences  \n",
      "0                   Accordion Clicked      6886.0  \n",
      "1                Announcement Clicked       847.0  \n",
      "2                   Blog Post Clicked       182.0  \n",
      "3                    Blog Post Viewed      3863.0  \n",
      "4               Blogpage Hero Clicked        13.0  \n",
      "5                    Carousel Clicked     10713.0  \n",
      "6           Collection Anchor Clicked      1398.0  \n",
      "7          Collection Gender Selected     16354.0  \n",
      "8                      Color Selected     18588.0  \n",
      "9                   Currency Selected        88.0  \n",
      "10               Email Capture Closed       804.0  \n",
      "11            Email Capture Submitted       861.0  \n",
      "12                  Experiment Viewed      4675.0  \n",
      "13                     Footer Clicked      4865.0  \n",
      "14                  Guarantee Clicked      1276.0  \n",
      "15              Homepage Hero Clicked     10481.0  \n",
      "16            Homepage Review Clicked        64.0  \n",
      "17           Landingpage Hero Clicked        79.0  \n",
      "18                  Language Selected       141.0  \n",
      "19                  Load More Reviews      2935.0  \n",
      "20                  Location Selected       471.0  \n",
      "21   Module Viewed_Collection details     34194.0  \n",
      "22  Module Viewed_Featured Collection     93276.0  \n",
      "23            Module Viewed_Guarantee     24767.0  \n",
      "24                 Module Viewed_Hero     24290.0  \n",
      "25       Module Viewed_Social Sharing      5492.0  \n",
      "26                        Nav Clicked     15459.0  \n",
      "27                         Nav Closed      6701.0  \n",
      "28                         Nav Opened      8671.0  \n",
      "29                Notification Closed        77.0  \n",
      "30                Notification Viewed       318.0  \n",
      "31               Product Info Clicked     16350.0  \n",
      "32                    Product Removed      4395.0  \n",
      "33               Product Zoom Clicked      3978.0  \n",
      "34              Review Anchor Clicked      2429.0  \n",
      "35                 Review Page Viewed       679.0  \n",
      "36              Search Result Clicked       809.0  \n",
      "37              Size Variant Selected     23503.0  \n",
      "38             Technology Page Viewed      1735.0  \n",
      "39                       Video Opened       155.0  \n",
      "40                                NaN         NaN  \n",
      "41                                NaN         NaN  \n",
      "42                                NaN         NaN  \n"
     ]
    }
   ],
   "source": [
    "#merging with occurences\n",
    "final = final.merge(df_occ, left_on = 'event', right_on = 'event_module', how='left')\n",
    "final.drop('event_module', axis=1, inplace = True)\n",
    "print(final)"
   ]
  },
  {
   "cell_type": "code",
   "execution_count": 35,
   "metadata": {},
   "outputs": [],
   "source": [
    "Middle_Home_Page_list = ['Module Viewed_Video Block', 'Module Viewed_Authority figures']\n",
    "Top_Home_Page_list = ['Module Viewed_Showcase', 'Module Viewed_Introduction']\n",
    "Middle_Product_Page_list = ['Module Viewed_Product inspection','Module Viewed_Product technology','Module Viewed_Reviews']\n",
    "    \n",
    "MHP = df_occ[df_occ['event_module'].isin(Middle_Home_Page_list)]\n",
    "max_MHP = MHP['occurences'].max()\n",
    "\n",
    "THP = df_occ[df_occ['event_module'].isin(Top_Home_Page_list)]\n",
    "max_THP = THP['occurences'].max()\n",
    "\n",
    "MPP = df_occ[df_occ['event_module'].isin(Middle_Product_Page_list)]\n",
    "max_MPP = MPP['occurences'].max()"
   ]
  },
  {
   "cell_type": "code",
   "execution_count": 37,
   "metadata": {},
   "outputs": [
    {
     "name": "stdout",
     "output_type": "stream",
     "text": [
      "                                event  coefficients       p-value  \\\n",
      "0                   Accordion Clicked      0.000705  9.463222e-01   \n",
      "1                Announcement Clicked     -0.065328  3.150896e-01   \n",
      "2                   Blog Post Clicked      0.459243  1.150928e-03   \n",
      "3                    Blog Post Viewed     -0.202909  1.107994e-46   \n",
      "4               Blogpage Hero Clicked      0.018797  9.808424e-01   \n",
      "5                    Carousel Clicked     -0.020764  1.342220e-01   \n",
      "6           Collection Anchor Clicked     -0.069170  2.780377e-01   \n",
      "7          Collection Gender Selected      0.019076  2.953494e-02   \n",
      "8                      Color Selected      0.024091  4.499287e-13   \n",
      "9                   Currency Selected     -0.037024  7.822722e-01   \n",
      "10               Email Capture Closed     -0.027872  8.295063e-01   \n",
      "11            Email Capture Submitted     -0.182337  1.463313e-01   \n",
      "12                  Experiment Viewed      0.012933  8.980034e-11   \n",
      "13                     Footer Clicked     -0.003287  8.825450e-01   \n",
      "14                  Guarantee Clicked     -0.057819  3.536773e-01   \n",
      "15              Homepage Hero Clicked      0.059546  4.784809e-03   \n",
      "16            Homepage Review Clicked     -0.000906  9.979843e-01   \n",
      "17           Landingpage Hero Clicked     -0.011830  9.652285e-01   \n",
      "18                  Language Selected     -0.603937  1.921806e-13   \n",
      "19                  Load More Reviews      0.018928  2.058261e-04   \n",
      "20                  Location Selected     -0.044976  1.400828e-02   \n",
      "21   Module Viewed_Collection details      0.329674  1.479291e-25   \n",
      "22  Module Viewed_Featured Collection      0.450111  1.125694e-74   \n",
      "23            Module Viewed_Guarantee     -0.078154  2.587440e-02   \n",
      "24                 Module Viewed_Hero      0.078245  1.930364e-05   \n",
      "25       Module Viewed_Social Sharing     -0.144166  2.785906e-03   \n",
      "26                        Nav Clicked      0.176455  2.821856e-42   \n",
      "27                         Nav Closed      0.076667  2.406767e-04   \n",
      "28                         Nav Opened     -0.197553  9.166713e-38   \n",
      "29                Notification Closed      0.013414  9.573426e-01   \n",
      "30                Notification Viewed     -0.254799  2.301300e-10   \n",
      "31               Product Info Clicked      0.004054  2.273527e-01   \n",
      "32                    Product Removed     -0.110802  8.982928e-05   \n",
      "33               Product Zoom Clicked     -0.014545  6.392440e-01   \n",
      "34              Review Anchor Clicked      0.018557  7.034067e-01   \n",
      "35                 Review Page Viewed     -0.014056  8.829164e-01   \n",
      "36              Search Result Clicked     -0.020862  6.989253e-01   \n",
      "37              Size Variant Selected      0.055855  1.898726e-21   \n",
      "38             Technology Page Viewed     -0.005863  9.090849e-01   \n",
      "39                       Video Opened     -0.219676  1.753231e-01   \n",
      "40     Module Viewed_Middle Home Page      0.031893  3.617220e-01   \n",
      "41        Module Viewed_Top Home Page      0.021239  2.883737e-01   \n",
      "42  Module Viewed_Middle Product Page     -0.004814  7.089902e-01   \n",
      "43                                NaN           NaN           NaN   \n",
      "44                                NaN           NaN           NaN   \n",
      "\n",
      "                         event_module  occurences  \n",
      "0                   Accordion Clicked      6886.0  \n",
      "1                Announcement Clicked       847.0  \n",
      "2                   Blog Post Clicked       182.0  \n",
      "3                    Blog Post Viewed      3863.0  \n",
      "4               Blogpage Hero Clicked        13.0  \n",
      "5                    Carousel Clicked     10713.0  \n",
      "6           Collection Anchor Clicked      1398.0  \n",
      "7          Collection Gender Selected     16354.0  \n",
      "8                      Color Selected     18588.0  \n",
      "9                   Currency Selected        88.0  \n",
      "10               Email Capture Closed       804.0  \n",
      "11            Email Capture Submitted       861.0  \n",
      "12                  Experiment Viewed      4675.0  \n",
      "13                     Footer Clicked      4865.0  \n",
      "14                  Guarantee Clicked      1276.0  \n",
      "15              Homepage Hero Clicked     10481.0  \n",
      "16            Homepage Review Clicked        64.0  \n",
      "17           Landingpage Hero Clicked        79.0  \n",
      "18                  Language Selected       141.0  \n",
      "19                  Load More Reviews      2935.0  \n",
      "20                  Location Selected       471.0  \n",
      "21   Module Viewed_Collection details     34194.0  \n",
      "22  Module Viewed_Featured Collection     93276.0  \n",
      "23            Module Viewed_Guarantee     24767.0  \n",
      "24                 Module Viewed_Hero     24290.0  \n",
      "25       Module Viewed_Social Sharing      5492.0  \n",
      "26                        Nav Clicked     15459.0  \n",
      "27                         Nav Closed      6701.0  \n",
      "28                         Nav Opened      8671.0  \n",
      "29                Notification Closed        77.0  \n",
      "30                Notification Viewed       318.0  \n",
      "31               Product Info Clicked     16350.0  \n",
      "32                    Product Removed      4395.0  \n",
      "33               Product Zoom Clicked      3978.0  \n",
      "34              Review Anchor Clicked      2429.0  \n",
      "35                 Review Page Viewed       679.0  \n",
      "36              Search Result Clicked       809.0  \n",
      "37              Size Variant Selected     23503.0  \n",
      "38             Technology Page Viewed      1735.0  \n",
      "39                       Video Opened       155.0  \n",
      "40                                NaN      3489.0  \n",
      "41                                NaN     10701.0  \n",
      "42                                NaN     32708.0  \n",
      "43                                NaN     10701.0  \n",
      "44                                NaN     32708.0  \n"
     ]
    }
   ],
   "source": [
    "#adding occurences of engineered features\n",
    "\n",
    "final.at[40, 'occurences'] = max_MHP\n",
    "final.at[41, 'occurences'] = max_THP\n",
    "final.at[42, 'occurences'] = max_MPP\n",
    "print(final)"
   ]
  },
  {
   "cell_type": "code",
   "execution_count": 39,
   "metadata": {},
   "outputs": [
    {
     "name": "stdout",
     "output_type": "stream",
     "text": [
      "                                event  coefficients       p-value  occurences  \\\n",
      "0                   Accordion Clicked      0.000705  9.463222e-01      6886.0   \n",
      "1                Announcement Clicked     -0.065328  3.150896e-01       847.0   \n",
      "2                   Blog Post Clicked      0.459243  1.150928e-03       182.0   \n",
      "3                    Blog Post Viewed     -0.202909  1.107994e-46      3863.0   \n",
      "4               Blogpage Hero Clicked      0.018797  9.808424e-01        13.0   \n",
      "5                    Carousel Clicked     -0.020764  1.342220e-01     10713.0   \n",
      "6           Collection Anchor Clicked     -0.069170  2.780377e-01      1398.0   \n",
      "7          Collection Gender Selected      0.019076  2.953494e-02     16354.0   \n",
      "8                      Color Selected      0.024091  4.499287e-13     18588.0   \n",
      "9                   Currency Selected     -0.037024  7.822722e-01        88.0   \n",
      "10               Email Capture Closed     -0.027872  8.295063e-01       804.0   \n",
      "11            Email Capture Submitted     -0.182337  1.463313e-01       861.0   \n",
      "12                  Experiment Viewed      0.012933  8.980034e-11      4675.0   \n",
      "13                     Footer Clicked     -0.003287  8.825450e-01      4865.0   \n",
      "14                  Guarantee Clicked     -0.057819  3.536773e-01      1276.0   \n",
      "15              Homepage Hero Clicked      0.059546  4.784809e-03     10481.0   \n",
      "16            Homepage Review Clicked     -0.000906  9.979843e-01        64.0   \n",
      "17           Landingpage Hero Clicked     -0.011830  9.652285e-01        79.0   \n",
      "18                  Language Selected     -0.603937  1.921806e-13       141.0   \n",
      "19                  Load More Reviews      0.018928  2.058261e-04      2935.0   \n",
      "20                  Location Selected     -0.044976  1.400828e-02       471.0   \n",
      "21   Module Viewed_Collection details      0.329674  1.479291e-25     34194.0   \n",
      "22  Module Viewed_Featured Collection      0.450111  1.125694e-74     93276.0   \n",
      "23            Module Viewed_Guarantee     -0.078154  2.587440e-02     24767.0   \n",
      "24                 Module Viewed_Hero      0.078245  1.930364e-05     24290.0   \n",
      "25       Module Viewed_Social Sharing     -0.144166  2.785906e-03      5492.0   \n",
      "26                        Nav Clicked      0.176455  2.821856e-42     15459.0   \n",
      "27                         Nav Closed      0.076667  2.406767e-04      6701.0   \n",
      "28                         Nav Opened     -0.197553  9.166713e-38      8671.0   \n",
      "29                Notification Closed      0.013414  9.573426e-01        77.0   \n",
      "30                Notification Viewed     -0.254799  2.301300e-10       318.0   \n",
      "31               Product Info Clicked      0.004054  2.273527e-01     16350.0   \n",
      "32                    Product Removed     -0.110802  8.982928e-05      4395.0   \n",
      "33               Product Zoom Clicked     -0.014545  6.392440e-01      3978.0   \n",
      "34              Review Anchor Clicked      0.018557  7.034067e-01      2429.0   \n",
      "35                 Review Page Viewed     -0.014056  8.829164e-01       679.0   \n",
      "36              Search Result Clicked     -0.020862  6.989253e-01       809.0   \n",
      "37              Size Variant Selected      0.055855  1.898726e-21     23503.0   \n",
      "38             Technology Page Viewed     -0.005863  9.090849e-01      1735.0   \n",
      "39                       Video Opened     -0.219676  1.753231e-01       155.0   \n",
      "40     Module Viewed_Middle Home Page      0.031893  3.617220e-01      3489.0   \n",
      "41        Module Viewed_Top Home Page      0.021239  2.883737e-01     10701.0   \n",
      "42  Module Viewed_Middle Product Page     -0.004814  7.089902e-01     32708.0   \n",
      "\n",
      "    % occurence  \n",
      "0      1.722534  \n",
      "1      0.211877  \n",
      "2      0.045527  \n",
      "3      0.966330  \n",
      "4      0.003252  \n",
      "5      2.679858  \n",
      "6      0.349710  \n",
      "7      4.090955  \n",
      "8      4.649790  \n",
      "9      0.022013  \n",
      "10     0.201121  \n",
      "11     0.215379  \n",
      "12     1.169452  \n",
      "13     1.216980  \n",
      "14     0.319192  \n",
      "15     2.621823  \n",
      "16     0.016010  \n",
      "17     0.019762  \n",
      "18     0.035271  \n",
      "19     0.734191  \n",
      "20     0.117821  \n",
      "21     8.553632  \n",
      "22    23.333000  \n",
      "23     6.195467  \n",
      "24     6.076146  \n",
      "25     1.373824  \n",
      "26     3.867070  \n",
      "27     1.676256  \n",
      "28     2.169051  \n",
      "29     0.019262  \n",
      "30     0.079548  \n",
      "31     4.089954  \n",
      "32     1.099410  \n",
      "33     0.995097  \n",
      "34     0.607615  \n",
      "35     0.169852  \n",
      "36     0.202371  \n",
      "37     5.879278  \n",
      "38     0.434010  \n",
      "39     0.038773  \n",
      "40     0.872774  \n",
      "41     2.676856  \n",
      "42     8.181909  \n"
     ]
    }
   ],
   "source": [
    "#creating % occurence column\n",
    "sum_occ = sum(final['occurences'])\n",
    "\n",
    "final['% occurence'] = final['occurences'] / sum_occ * 100\n",
    "\n",
    "print(final)"
   ]
  },
  {
   "cell_type": "code",
   "execution_count": 40,
   "metadata": {},
   "outputs": [
    {
     "data": {
      "text/plain": [
       "Index(['Blog Post Clicked', 'Blog Post Viewed', 'Collection Gender Selected',\n",
       "       'Color Selected', 'Experiment Viewed', 'Homepage Hero Clicked',\n",
       "       'Language Selected', 'Load More Reviews', 'Location Selected',\n",
       "       'Module Viewed_Collection details', 'Module Viewed_Featured Collection',\n",
       "       'Module Viewed_Guarantee', 'Module Viewed_Hero',\n",
       "       'Module Viewed_Social Sharing', 'Nav Clicked', 'Nav Closed',\n",
       "       'Nav Opened', 'Notification Viewed', 'Product Removed',\n",
       "       'Size Variant Selected'],\n",
       "      dtype='object')"
      ]
     },
     "execution_count": 40,
     "metadata": {},
     "output_type": "execute_result"
    }
   ],
   "source": [
    "# List significant parameters\n",
    "significant_params=stat_df[stat_df['p-value']<=0.1].index\n",
    "significant_params= significant_params.drop('const')\n",
    "significant_params"
   ]
  },
  {
   "cell_type": "code",
   "execution_count": 41,
   "metadata": {},
   "outputs": [
    {
     "name": "stdout",
     "output_type": "stream",
     "text": [
      "Total number of parameters: 44 \n",
      "Number of Significant Parameters: 20\n",
      "Blog Post Clicked                    0.459243\n",
      "Module Viewed_Featured Collection    0.450111\n",
      "Module Viewed_Collection details     0.329674\n",
      "Nav Clicked                          0.176455\n",
      "Module Viewed_Hero                   0.078245\n",
      "Nav Closed                           0.076667\n",
      "Homepage Hero Clicked                0.059546\n",
      "Size Variant Selected                0.055855\n",
      "Color Selected                       0.024091\n",
      "Collection Gender Selected           0.019076\n",
      "Load More Reviews                    0.018928\n",
      "Experiment Viewed                    0.012933\n",
      "Location Selected                   -0.044976\n",
      "Module Viewed_Guarantee             -0.078154\n",
      "Product Removed                     -0.110802\n",
      "Module Viewed_Social Sharing        -0.144166\n",
      "Nav Opened                          -0.197553\n",
      "Blog Post Viewed                    -0.202909\n",
      "Notification Viewed                 -0.254799\n",
      "Language Selected                   -0.603937\n",
      "Name: coefficients, dtype: float64\n"
     ]
    }
   ],
   "source": [
    "# significant parameters and their coefficient\n",
    "print('Total number of parameters: %s '%len(X.keys()) )\n",
    "print('Number of Significant Parameters: %s'%(len(significant_params)))\n",
    "final_stat_df = stat_df.loc[significant_params].sort_values('coefficients', ascending=False)['coefficients']\n",
    "print(final_stat_df)"
   ]
  },
  {
   "cell_type": "code",
   "execution_count": 42,
   "metadata": {},
   "outputs": [
    {
     "data": {
      "text/plain": [
       "Index(['event', 'coefficients', 'p-value', 'occurences', '% occurence'], dtype='object')"
      ]
     },
     "execution_count": 42,
     "metadata": {},
     "output_type": "execute_result"
    }
   ],
   "source": [
    "final.columns"
   ]
  },
  {
   "cell_type": "code",
   "execution_count": 43,
   "metadata": {},
   "outputs": [
    {
     "name": "stdout",
     "output_type": "stream",
     "text": [
      "                                event  coefficients       p-value  occurences  \\\n",
      "0                   Accordion Clicked      0.000705  9.463222e-01      6886.0   \n",
      "1                Announcement Clicked     -0.065328  3.150896e-01       847.0   \n",
      "2                   Blog Post Clicked      0.459243  1.150928e-03       182.0   \n",
      "3                    Blog Post Viewed     -0.202909  1.107994e-46      3863.0   \n",
      "4               Blogpage Hero Clicked      0.018797  9.808424e-01        13.0   \n",
      "5                    Carousel Clicked     -0.020764  1.342220e-01     10713.0   \n",
      "6           Collection Anchor Clicked     -0.069170  2.780377e-01      1398.0   \n",
      "7          Collection Gender Selected      0.019076  2.953494e-02     16354.0   \n",
      "8                      Color Selected      0.024091  4.499287e-13     18588.0   \n",
      "9                   Currency Selected     -0.037024  7.822722e-01        88.0   \n",
      "10               Email Capture Closed     -0.027872  8.295063e-01       804.0   \n",
      "11            Email Capture Submitted     -0.182337  1.463313e-01       861.0   \n",
      "12                  Experiment Viewed      0.012933  8.980034e-11      4675.0   \n",
      "13                     Footer Clicked     -0.003287  8.825450e-01      4865.0   \n",
      "14                  Guarantee Clicked     -0.057819  3.536773e-01      1276.0   \n",
      "15              Homepage Hero Clicked      0.059546  4.784809e-03     10481.0   \n",
      "16            Homepage Review Clicked     -0.000906  9.979843e-01        64.0   \n",
      "17           Landingpage Hero Clicked     -0.011830  9.652285e-01        79.0   \n",
      "18                  Language Selected     -0.603937  1.921806e-13       141.0   \n",
      "19                  Load More Reviews      0.018928  2.058261e-04      2935.0   \n",
      "20                  Location Selected     -0.044976  1.400828e-02       471.0   \n",
      "21   Module Viewed_Collection details      0.329674  1.479291e-25     34194.0   \n",
      "22  Module Viewed_Featured Collection      0.450111  1.125694e-74     93276.0   \n",
      "23            Module Viewed_Guarantee     -0.078154  2.587440e-02     24767.0   \n",
      "24                 Module Viewed_Hero      0.078245  1.930364e-05     24290.0   \n",
      "25       Module Viewed_Social Sharing     -0.144166  2.785906e-03      5492.0   \n",
      "26                        Nav Clicked      0.176455  2.821856e-42     15459.0   \n",
      "27                         Nav Closed      0.076667  2.406767e-04      6701.0   \n",
      "28                         Nav Opened     -0.197553  9.166713e-38      8671.0   \n",
      "29                Notification Closed      0.013414  9.573426e-01        77.0   \n",
      "30                Notification Viewed     -0.254799  2.301300e-10       318.0   \n",
      "31               Product Info Clicked      0.004054  2.273527e-01     16350.0   \n",
      "32                    Product Removed     -0.110802  8.982928e-05      4395.0   \n",
      "33               Product Zoom Clicked     -0.014545  6.392440e-01      3978.0   \n",
      "34              Review Anchor Clicked      0.018557  7.034067e-01      2429.0   \n",
      "35                 Review Page Viewed     -0.014056  8.829164e-01       679.0   \n",
      "36              Search Result Clicked     -0.020862  6.989253e-01       809.0   \n",
      "37              Size Variant Selected      0.055855  1.898726e-21     23503.0   \n",
      "38             Technology Page Viewed     -0.005863  9.090849e-01      1735.0   \n",
      "39                       Video Opened     -0.219676  1.753231e-01       155.0   \n",
      "40     Module Viewed_Middle Home Page      0.031893  3.617220e-01      3489.0   \n",
      "41        Module Viewed_Top Home Page      0.021239  2.883737e-01     10701.0   \n",
      "42  Module Viewed_Middle Product Page     -0.004814  7.089902e-01     32708.0   \n",
      "\n",
      "    % occurence  \n",
      "0      1.722534  \n",
      "1      0.211877  \n",
      "2      0.045527  \n",
      "3      0.966330  \n",
      "4      0.003252  \n",
      "5      2.679858  \n",
      "6      0.349710  \n",
      "7      4.090955  \n",
      "8      4.649790  \n",
      "9      0.022013  \n",
      "10     0.201121  \n",
      "11     0.215379  \n",
      "12     1.169452  \n",
      "13     1.216980  \n",
      "14     0.319192  \n",
      "15     2.621823  \n",
      "16     0.016010  \n",
      "17     0.019762  \n",
      "18     0.035271  \n",
      "19     0.734191  \n",
      "20     0.117821  \n",
      "21     8.553632  \n",
      "22    23.333000  \n",
      "23     6.195467  \n",
      "24     6.076146  \n",
      "25     1.373824  \n",
      "26     3.867070  \n",
      "27     1.676256  \n",
      "28     2.169051  \n",
      "29     0.019262  \n",
      "30     0.079548  \n",
      "31     4.089954  \n",
      "32     1.099410  \n",
      "33     0.995097  \n",
      "34     0.607615  \n",
      "35     0.169852  \n",
      "36     0.202371  \n",
      "37     5.879278  \n",
      "38     0.434010  \n",
      "39     0.038773  \n",
      "40     0.872774  \n",
      "41     2.676856  \n",
      "42     8.181909  \n"
     ]
    }
   ],
   "source": [
    "event_matrix_NL_final_section = pd.DataFrame(final)\n",
    "print(event_matrix_NL_final_section)"
   ]
  },
  {
   "cell_type": "code",
   "execution_count": 44,
   "metadata": {},
   "outputs": [],
   "source": [
    "event_matrix_NL_final_section.to_excel('event_matrix_NL_final_section.xlsx')"
   ]
  },
  {
   "cell_type": "code",
   "execution_count": null,
   "metadata": {},
   "outputs": [],
   "source": []
  }
 ],
 "metadata": {
  "kernelspec": {
   "display_name": "Python 3",
   "language": "python",
   "name": "python3"
  },
  "language_info": {
   "codemirror_mode": {
    "name": "ipython",
    "version": 3
   },
   "file_extension": ".py",
   "mimetype": "text/x-python",
   "name": "python",
   "nbconvert_exporter": "python",
   "pygments_lexer": "ipython3",
   "version": "3.8.5"
  }
 },
 "nbformat": 4,
 "nbformat_minor": 4
}
