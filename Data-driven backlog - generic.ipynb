{
 "cells": [
  {
   "cell_type": "markdown",
   "metadata": {},
   "source": [
    "# Event to conversion - Stox"
   ]
  },
  {
   "cell_type": "markdown",
   "metadata": {},
   "source": [
    "# 1. Import"
   ]
  },
  {
   "cell_type": "markdown",
   "metadata": {},
   "source": [
    "## 1.1 import data"
   ]
  },
  {
   "cell_type": "code",
   "execution_count": 4,
   "metadata": {},
   "outputs": [],
   "source": [
    "import pandas as pd\n",
    "import snowflake.connector\n",
    "from user_agents import parse\n",
    "import httpagentparser\n",
    "import numpy as np\n",
    "from collections import Counter\n",
    "import matplotlib.pyplot as plt\n",
    "import seaborn as sns\n",
    "import statsmodels.api as sm\n",
    "from sklearn.metrics import classification_report, confusion_matrix\n",
    "from sklearn.model_selection import train_test_split\n",
    "from sklearn.preprocessing import StandardScaler\n",
    "from sklearn.linear_model import LogisticRegression\n",
    "from statsmodels.stats.outliers_influence import variance_inflation_factor "
   ]
  },
  {
   "cell_type": "code",
   "execution_count": 5,
   "metadata": {},
   "outputs": [],
   "source": [
    "#give basic data\n",
    "DATABASE = 'SEGMENT_NOLABEL_DB'\n",
    "SCHEMA = 'INFORMATION_SCHEMA'\n",
    "WAREHOUSE = 'ANALYTICS'\n",
    "USER = 'ARTHUR'\n",
    "PASSWORD = 'Scl67336187!'\n",
    "ACCOUNT = 'pc82948.europe-west4.gcp' #default pc82948.europe-west4.gcp\n",
    "PROTOCOL = 'https' #default https"
   ]
  },
  {
   "cell_type": "code",
   "execution_count": 6,
   "metadata": {},
   "outputs": [],
   "source": [
    "def create_cursor(database = DATABASE,\n",
    "                  schema = SCHEMA,\n",
    "                  warehouse = WAREHOUSE,\n",
    "                  user = USER,\n",
    "                  password = PASSWORD,\n",
    "                  account = ACCOUNT,\n",
    "                  protocol = PROTOCOL):\n",
    "    ctx = snowflake.connector.connect(\n",
    "          user=user,\n",
    "          password=password,\n",
    "          account=account,\n",
    "          warehouse=warehouse,\n",
    "          database=database,\n",
    "          schema=schema,\n",
    "          protocol=protocol)\n",
    "    cur = ctx.cursor()\n",
    "    return cur"
   ]
  },
  {
   "cell_type": "code",
   "execution_count": 7,
   "metadata": {},
   "outputs": [],
   "source": [
    "def fetch_data(cur, sql):\n",
    "    df = cur.execute(sql).fetch_pandas_all()\n",
    "    return df"
   ]
  },
  {
   "cell_type": "code",
   "execution_count": 8,
   "metadata": {},
   "outputs": [],
   "source": [
    "#case in module: if the module is text_image, we replace it by the page title. Else we take the name of the section  \n",
    "\n",
    "SQL_events_1 ='                                                                                                           \\\n",
    "  with tracks as (                                                                                                        \\\n",
    "  select event_text as event_module, context_locale, anonymous_id,                                                        \\\n",
    "  count(event_module) as count_event, context_user_agent                                                                  \\\n",
    "  from \"SEGMENT_NOLABEL_DB\".\"NOLABEL\".\"TRACKS\"                                                                            \\\n",
    "  where event_text !=\\'Module Viewed\\'                                                                                    \\\n",
    "  group by event_module, context_locale, anonymous_id, context_user_agent                                                 \\\n",
    "  ),                                                                                                                      \\\n",
    "                                                                                                                          \\\n",
    "  module as (                                                                                                             \\\n",
    "  select                                                                                                                  \\\n",
    "    event_module,                                                                                                         \\\n",
    "    context_locale, anonymous_id, count(event_module) as count_event, context_user_agent                                  \\\n",
    "  from (                                                                                                                  \\\n",
    "    select                                                                                                                \\\n",
    "        context_locale, anonymous_id, context_user_agent, event,                                                          \\\n",
    "        case                                                                                                              \\\n",
    "            when section_type =\\'Text Image\\' then concat(\\'Page_\\',split_part(context_page_path, \\'/\\', -1))             \\\n",
    "            when section_type =\\'Subtitle Block\\' then concat(\\'Page_\\',split_part(context_page_path, \\'/\\', -1))         \\\n",
    "            else section_type end as event_section,                                                                       \\\n",
    "        concat(event, \\'_\\', event_section) as event_module                                                               \\\n",
    "    from \"SEGMENT_NOLABEL_DB\".\"NOLABEL\".\"MODULE_VIEWED\" )                                                                 \\\n",
    "  group by event_module, context_locale, anonymous_id, context_user_agent                                                 \\\n",
    ")                                                                                                                         \\\n",
    "                                                                                                                          \\\n",
    "select * from module                                                                                                      \\\n",
    "UNION ALL                                                                                                                 \\\n",
    "select * from tracks' #e.g. select * from x"
   ]
  },
  {
   "cell_type": "code",
   "execution_count": 9,
   "metadata": {},
   "outputs": [],
   "source": [
    "SQL_events_2 ='                                                                                                           \\\n",
    "  with tracks as (                                                                                                        \\\n",
    "  select event_text as event_module, context_locale, anonymous_id,                                                        \\\n",
    "  count(event_module) as count_event, context_user_agent                                                                  \\\n",
    "  from \"SEGMENT_NOLABEL_DB\".\"NOLABEL\".\"TRACKS\"                                                                            \\\n",
    "  where event_text !=\\'Module Viewed\\'                                                                                    \\\n",
    "  group by event_module, context_locale, anonymous_id, context_user_agent                                                 \\\n",
    "  ),                                                                                                                      \\\n",
    "                                                                                                                          \\\n",
    "  module as (                                                                                                             \\\n",
    "  select                                                                                                                  \\\n",
    "    event_module,                                                                                                         \\\n",
    "    context_locale, anonymous_id, count(event_module) as count_event, context_user_agent                                  \\\n",
    "  from (                                                                                                                  \\\n",
    "    select split_part(context_page_path, \\'/\\', -1) as page,context_page_path, section_type,context_locale,                 \\\n",
    "    anonymous_id, context_user_agent, event,                                                                              \\\n",
    "    case when page in (\\'about-us\\', \\'visit-us\\', \\'return-and-refund-policy\\', \\'factory-south-ocean-china\\',           \\\n",
    "                           \\'pricing-philosophy\\', \\'our-story\\', \\'black-friday-change\\', \\'factory-mata-shoes-portugal\\',       \\\n",
    "                           \\'factory-acorfato-portugal\\', \\'contact-us\\', \\'factory-formens-romania\\',                          \\\n",
    "                           \\'factory-gold-mine-thailand\\', \\'shipping-information\\', \\'factory-gold-mine-laos\\',                \\\n",
    "                           \\'Corporate\\') then concat(\\'Page_\\',page)                                                         \\\n",
    "         else concat(event,\\'_\\',section_type) end as event_module                                                          \\\n",
    "from \"SEGMENT_NOLABEL_DB\".\"NOLABEL\".\"MODULE_VIEWED\")                                                                      \\\n",
    "  group by event_module, context_locale, anonymous_id, context_user_agent                                                 \\\n",
    ")                                                                                                                         \\\n",
    "                                                                                                                          \\\n",
    "select * from module                                                                                                      \\\n",
    "UNION ALL                                                                                                                 \\\n",
    "select * from tracks' #e.g. select * from x"
   ]
  },
  {
   "cell_type": "code",
   "execution_count": 10,
   "metadata": {},
   "outputs": [],
   "source": [
    "#I ditched the very complex Text image and subtitle block from the analysis\n",
    "SQL_events_3 ='                                                                                                           \\\n",
    "  with tracks as (                                                                                                        \\\n",
    "  select event_text as event_module, context_locale, anonymous_id,                                                        \\\n",
    "  count(event_module) as count_event, context_user_agent                                                                  \\\n",
    "  from \"SEGMENT_NOLABEL_DB\".\"NOLABEL\".\"TRACKS\"                                                                            \\\n",
    "  where event_text !=\\'Module Viewed\\'                                                                                    \\\n",
    "  group by event_module, context_locale, anonymous_id, context_user_agent                                                 \\\n",
    "  ),                                                                                                                      \\\n",
    "                                                                                                                          \\\n",
    "  module as (                                                                                                             \\\n",
    "  select                                                                                                                  \\\n",
    "    concat(event, \\'_\\', section_type) as event_module,                                                                                                         \\\n",
    "    context_locale, anonymous_id, count(event_module) as count_event, context_user_agent                                  \\\n",
    "  from \"SEGMENT_NOLABEL_DB\".\"NOLABEL\".\"MODULE_VIEWED\"                                                                     \\\n",
    "  group by event_module, context_locale, anonymous_id, context_user_agent                                                 \\\n",
    ")                                                                                                                         \\\n",
    "                                                                                                                          \\\n",
    "select * from module                                                                                                      \\\n",
    "UNION ALL                                                                                                                 \\\n",
    "select * from tracks'"
   ]
  },
  {
   "cell_type": "code",
   "execution_count": 11,
   "metadata": {},
   "outputs": [],
   "source": [
    "SQL_id = '                                                                                                                \\\n",
    " select anonymous_id, user_id                                                                                             \\\n",
    " from \"SEGMENT_NOLABEL_DB\".\"NOLABEL\".\"IDENTIFIES\"                                                                         \\\n",
    "'"
   ]
  },
  {
   "cell_type": "code",
   "execution_count": 12,
   "metadata": {},
   "outputs": [],
   "source": [
    "def create_df(sql):\n",
    "    cur = create_cursor()\n",
    "    df_events = fetch_data(cur = cur, sql = sql)\n",
    "    df_id = fetch_data(cur = cur, sql = SQL_id)\n",
    "    df_id.drop_duplicates(inplace=True)\n",
    "    df = df_events.merge(df_id, how='left', left_on='ANONYMOUS_ID', right_on = 'ANONYMOUS_ID')\n",
    "    return df_id, df_events, df"
   ]
  },
  {
   "cell_type": "code",
   "execution_count": 13,
   "metadata": {},
   "outputs": [],
   "source": [
    "df_id, df_events, df = create_df(sql= SQL_events_2)"
   ]
  },
  {
   "cell_type": "code",
   "execution_count": 14,
   "metadata": {},
   "outputs": [
    {
     "name": "stdout",
     "output_type": "stream",
     "text": [
      "<class 'pandas.core.frame.DataFrame'>\n",
      "Int64Index: 413555 entries, 0 to 413554\n",
      "Data columns (total 6 columns):\n",
      " #   Column              Non-Null Count   Dtype \n",
      "---  ------              --------------   ----- \n",
      " 0   EVENT_MODULE        413555 non-null  object\n",
      " 1   CONTEXT_LOCALE      413555 non-null  object\n",
      " 2   ANONYMOUS_ID        413555 non-null  object\n",
      " 3   COUNT_EVENT         413555 non-null  int64 \n",
      " 4   CONTEXT_USER_AGENT  413555 non-null  object\n",
      " 5   USER_ID             38104 non-null   object\n",
      "dtypes: int64(1), object(5)\n",
      "memory usage: 22.1+ MB\n"
     ]
    }
   ],
   "source": [
    "df.info()"
   ]
  },
  {
   "cell_type": "markdown",
   "metadata": {},
   "source": [
    "# 2. Clean"
   ]
  },
  {
   "cell_type": "markdown",
   "metadata": {},
   "source": [
    "## 2.1 Device"
   ]
  },
  {
   "cell_type": "code",
   "execution_count": 15,
   "metadata": {},
   "outputs": [],
   "source": [
    "def get_os_browser(df):\n",
    "    os, browser = [], []\n",
    "    for i in df['CONTEXT_USER_AGENT']:\n",
    "        os.append((httpagentparser.simple_detect(i))[0])\n",
    "        browser.append((httpagentparser.simple_detect(i))[1])\n",
    "    df['os'] = os\n",
    "    df['browser'] = browser\n",
    "    df.drop(['CONTEXT_USER_AGENT'], axis=1, inplace=True)\n",
    "    return df"
   ]
  },
  {
   "cell_type": "code",
   "execution_count": 16,
   "metadata": {},
   "outputs": [],
   "source": [
    "def get_device(df):\n",
    "    d = []\n",
    "    for i in range(df['os'].shape[0]):\n",
    "        d.append(df['os'].loc[i].split()[0])\n",
    "\n",
    "    df['device'] = d\n",
    "    df['device_type'] = np.where(df['device'].isin(['iPhone', 'Android']), 'mobile', 'desktop and tablet')\n",
    "    return df"
   ]
  },
  {
   "cell_type": "code",
   "execution_count": 17,
   "metadata": {},
   "outputs": [],
   "source": [
    "df = get_os_browser(df=df)\n",
    "df = get_device(df=df)"
   ]
  },
  {
   "cell_type": "code",
   "execution_count": 18,
   "metadata": {},
   "outputs": [
    {
     "data": {
      "text/plain": [
       "mobile                283894\n",
       "desktop and tablet    129661\n",
       "Name: device_type, dtype: int64"
      ]
     },
     "execution_count": 18,
     "metadata": {},
     "output_type": "execute_result"
    }
   ],
   "source": [
    "df['device_type'].value_counts()"
   ]
  },
  {
   "cell_type": "markdown",
   "metadata": {},
   "source": [
    "## 2.2 Per user"
   ]
  },
  {
   "cell_type": "code",
   "execution_count": 19,
   "metadata": {},
   "outputs": [],
   "source": [
    "def isNaN(num):\n",
    "    return num != num"
   ]
  },
  {
   "cell_type": "code",
   "execution_count": 22,
   "metadata": {},
   "outputs": [],
   "source": [
    "def create_user_id(df):\n",
    "    list_user = []\n",
    "    for i in range(df['ANONYMOUS_ID'].shape[0]):\n",
    "        u = df['USER_ID'].iloc[i]\n",
    "        if isNaN(u):\n",
    "            list_user.append(i)\n",
    "        elif u is None:\n",
    "            list_user.append(i)\n",
    "        else:\n",
    "            list_user.append(df['USER_ID'].iloc[i])\n",
    "    df['CUSTOMER_ID'] = list_user\n",
    "    return df"
   ]
  },
  {
   "cell_type": "code",
   "execution_count": 23,
   "metadata": {},
   "outputs": [],
   "source": [
    "df = create_user_id(df=df)"
   ]
  },
  {
   "cell_type": "code",
   "execution_count": 24,
   "metadata": {},
   "outputs": [
    {
     "data": {
      "text/html": [
       "<div>\n",
       "<style scoped>\n",
       "    .dataframe tbody tr th:only-of-type {\n",
       "        vertical-align: middle;\n",
       "    }\n",
       "\n",
       "    .dataframe tbody tr th {\n",
       "        vertical-align: top;\n",
       "    }\n",
       "\n",
       "    .dataframe thead th {\n",
       "        text-align: right;\n",
       "    }\n",
       "</style>\n",
       "<table border=\"1\" class=\"dataframe\">\n",
       "  <thead>\n",
       "    <tr style=\"text-align: right;\">\n",
       "      <th></th>\n",
       "      <th>EVENT_MODULE</th>\n",
       "      <th>CONTEXT_LOCALE</th>\n",
       "      <th>ANONYMOUS_ID</th>\n",
       "      <th>COUNT_EVENT</th>\n",
       "      <th>USER_ID</th>\n",
       "      <th>os</th>\n",
       "      <th>browser</th>\n",
       "      <th>device</th>\n",
       "      <th>device_type</th>\n",
       "      <th>CUSTOMER_ID</th>\n",
       "    </tr>\n",
       "  </thead>\n",
       "  <tbody>\n",
       "    <tr>\n",
       "      <th>0</th>\n",
       "      <td>module_viewed_Hero</td>\n",
       "      <td>nl-nl</td>\n",
       "      <td>2c8e4ad4-69a2-40c5-a582-4ca8759d3a01</td>\n",
       "      <td>2</td>\n",
       "      <td>NaN</td>\n",
       "      <td>iPhone iOS 14.8.1</td>\n",
       "      <td>Safari 14.1.2</td>\n",
       "      <td>iPhone</td>\n",
       "      <td>mobile</td>\n",
       "      <td>0</td>\n",
       "    </tr>\n",
       "    <tr>\n",
       "      <th>1</th>\n",
       "      <td>module_viewed_Hero</td>\n",
       "      <td>nl-NL</td>\n",
       "      <td>fa67d3d3-adf9-433c-afc0-a10ab8d008ed</td>\n",
       "      <td>1</td>\n",
       "      <td>NaN</td>\n",
       "      <td>MacOS Macintosh X 10.15.7</td>\n",
       "      <td>Chrome 96.0.4664.55</td>\n",
       "      <td>MacOS</td>\n",
       "      <td>desktop and tablet</td>\n",
       "      <td>1</td>\n",
       "    </tr>\n",
       "    <tr>\n",
       "      <th>2</th>\n",
       "      <td>module_viewed_Hero</td>\n",
       "      <td>en-US</td>\n",
       "      <td>f2879c39-b608-4462-834e-2551441f3d95</td>\n",
       "      <td>2</td>\n",
       "      <td>NaN</td>\n",
       "      <td>Windows 10</td>\n",
       "      <td>Chrome 96.0.4664.55</td>\n",
       "      <td>Windows</td>\n",
       "      <td>desktop and tablet</td>\n",
       "      <td>2</td>\n",
       "    </tr>\n",
       "    <tr>\n",
       "      <th>3</th>\n",
       "      <td>module_viewed_Hero with newsletter</td>\n",
       "      <td>nl-NL</td>\n",
       "      <td>2c2cd29a-bf61-479f-a3d5-b4b44b404d56</td>\n",
       "      <td>1</td>\n",
       "      <td>NaN</td>\n",
       "      <td>Windows 10</td>\n",
       "      <td>Chrome 88.0.4324.190</td>\n",
       "      <td>Windows</td>\n",
       "      <td>desktop and tablet</td>\n",
       "      <td>3</td>\n",
       "    </tr>\n",
       "    <tr>\n",
       "      <th>4</th>\n",
       "      <td>module_viewed_Hero</td>\n",
       "      <td>en-US</td>\n",
       "      <td>6469a438-8afe-43d5-8931-e3009be8cf43</td>\n",
       "      <td>1</td>\n",
       "      <td>NaN</td>\n",
       "      <td>iPhone iOS 15.0.2</td>\n",
       "      <td>Safari 15.0</td>\n",
       "      <td>iPhone</td>\n",
       "      <td>mobile</td>\n",
       "      <td>4</td>\n",
       "    </tr>\n",
       "  </tbody>\n",
       "</table>\n",
       "</div>"
      ],
      "text/plain": [
       "                         EVENT_MODULE CONTEXT_LOCALE  \\\n",
       "0                  module_viewed_Hero          nl-nl   \n",
       "1                  module_viewed_Hero          nl-NL   \n",
       "2                  module_viewed_Hero          en-US   \n",
       "3  module_viewed_Hero with newsletter          nl-NL   \n",
       "4                  module_viewed_Hero          en-US   \n",
       "\n",
       "                           ANONYMOUS_ID  COUNT_EVENT USER_ID  \\\n",
       "0  2c8e4ad4-69a2-40c5-a582-4ca8759d3a01            2     NaN   \n",
       "1  fa67d3d3-adf9-433c-afc0-a10ab8d008ed            1     NaN   \n",
       "2  f2879c39-b608-4462-834e-2551441f3d95            2     NaN   \n",
       "3  2c2cd29a-bf61-479f-a3d5-b4b44b404d56            1     NaN   \n",
       "4  6469a438-8afe-43d5-8931-e3009be8cf43            1     NaN   \n",
       "\n",
       "                          os               browser   device  \\\n",
       "0          iPhone iOS 14.8.1         Safari 14.1.2   iPhone   \n",
       "1  MacOS Macintosh X 10.15.7   Chrome 96.0.4664.55    MacOS   \n",
       "2                 Windows 10   Chrome 96.0.4664.55  Windows   \n",
       "3                 Windows 10  Chrome 88.0.4324.190  Windows   \n",
       "4          iPhone iOS 15.0.2           Safari 15.0   iPhone   \n",
       "\n",
       "          device_type CUSTOMER_ID  \n",
       "0              mobile           0  \n",
       "1  desktop and tablet           1  \n",
       "2  desktop and tablet           2  \n",
       "3  desktop and tablet           3  \n",
       "4              mobile           4  "
      ]
     },
     "execution_count": 24,
     "metadata": {},
     "output_type": "execute_result"
    }
   ],
   "source": [
    "df.head()"
   ]
  },
  {
   "cell_type": "markdown",
   "metadata": {},
   "source": [
    "## 2.3 Event dummies"
   ]
  },
  {
   "cell_type": "code",
   "execution_count": 178,
   "metadata": {},
   "outputs": [],
   "source": [
    "def event_dummification(df):\n",
    "    EVENT_DUMMIES = []\n",
    "\n",
    "    for i in range(df.shape[0]):\n",
    "        if df['COUNT_EVENT'].iloc[i] > 0:\n",
    "            EVENT_DUMMIES.append(1)\n",
    "        else:\n",
    "            EVENT_DUMMIES.append(0)\n",
    "\n",
    "    df['EVENT_DUMMIES'] = EVENT_DUMMIES\n",
    "    return df"
   ]
  },
  {
   "cell_type": "code",
   "execution_count": null,
   "metadata": {},
   "outputs": [],
   "source": [
    "df = event_dummification(df=df)"
   ]
  },
  {
   "cell_type": "markdown",
   "metadata": {},
   "source": [
    "## 2.4 Pivot"
   ]
  },
  {
   "cell_type": "code",
   "execution_count": 179,
   "metadata": {},
   "outputs": [],
   "source": [
    "def create_pivot(df):\n",
    "    df = df[['EVENT_MODULE', 'CUSTOMER_ID', 'EVENT_DUMMIES']].groupby(['EVENT_MODULE', 'CUSTOMER_ID']).sum()\n",
    "    pivot = df.pivot_table(index='CUSTOMER_ID', columns='EVENT_MODULE', values='EVENT_DUMMIES')\n",
    "    pivot.fillna(0,inplace=True)\n",
    "    print('pivot shape is: ' + str(pivot.shape))\n",
    "    print('----------------------------')\n",
    "    print('Distribution of orders: ' +str(pivot['Order Completed'].value_counts()))\n",
    "    return pivot"
   ]
  },
  {
   "cell_type": "code",
   "execution_count": 180,
   "metadata": {},
   "outputs": [
    {
     "name": "stdout",
     "output_type": "stream",
     "text": [
      "pivot shape is: (377024, 57)\n",
      "----------------------------\n",
      "Distribution of orders: 0.0    375755\n",
      "1.0      1243\n",
      "2.0        25\n",
      "3.0         1\n",
      "Name: Order Completed, dtype: int64\n"
     ]
    }
   ],
   "source": [
    "pivot_original = create_pivot(df=df)"
   ]
  },
  {
   "cell_type": "markdown",
   "metadata": {},
   "source": [
    "## 2.5 Feature engineering"
   ]
  },
  {
   "cell_type": "code",
   "execution_count": 32,
   "metadata": {},
   "outputs": [],
   "source": [
    "# pivot['Module Viewed_Middle Home Page'] = pivot['Module Viewed_Video Block'] + pivot['Module Viewed_Authority figures']\n",
    "# pivot['Module Viewed_Top Home Page'] = pivot['Module Viewed_Showcase'] + pivot['Module Viewed_Introduction']\n",
    "# pivot['Module Viewed_Middle Product Page'] = pivot['Module Viewed_Product inspection'] + pivot['Module Viewed_Product technology'] + pivot['Module Viewed_Reviews']\n",
    "\n",
    "# pivot.drop(['Module Viewed_Video Block', 'Module Viewed_Authority figures', 'Module Viewed_Showcase', \n",
    "#             'Module Viewed_Introduction', 'Module Viewed_Product inspection', 'Module Viewed_Product technology',\n",
    "#            'Module Viewed_Reviews'], \n",
    "#            axis=1, inplace = True)\n",
    "# print(pivot.shape)"
   ]
  },
  {
   "cell_type": "code",
   "execution_count": 151,
   "metadata": {},
   "outputs": [],
   "source": [
    "pivot = pivot_original.copy()"
   ]
  },
  {
   "cell_type": "code",
   "execution_count": 152,
   "metadata": {},
   "outputs": [],
   "source": [
    "#dropping variable necessary to conversion\n",
    "pivot.drop(['Cart Viewed', 'Checkout Step Viewed', 'Checkout Started', \n",
    "           'Determine Checkout Language', 'Payment Info Entered', 'Session Started', 'Product Added', \n",
    "            'Size Variant Selected', #and after this line it's purely artibritrary to push down the VIF\n",
    "            'Footer Viewed', 'Notification Closed', 'Email Capture Closed', \n",
    "            'Nav Opened', 'Product Image Hovered', 'Product List Viewed', 'Collection Page Viewed',\n",
    "            'module_viewed_Hero', 'Product Viewed', 'module_viewed_Hero with newsletter', 'Email Capture Viewed',\n",
    "            'Page_Corporate', 'Page_factory-acorfato-portugal', 'Page_factory-gold-mine-laos', \n",
    "            'Page_factory-gold-mine-thailand', 'Page_factory-formens-romania', 'Product Clicked'\n",
    "           ], axis=1, inplace = True)"
   ]
  },
  {
   "cell_type": "code",
   "execution_count": 127,
   "metadata": {},
   "outputs": [],
   "source": [
    "#converter. 1 = yes, 0 = no\n",
    "def converters(df):\n",
    "    converters = []\n",
    "    for i in range(pivot.shape[0]):\n",
    "        if df['Order Completed'].iloc[i] > 0:\n",
    "            converters.append(1)\n",
    "        else:\n",
    "            converters.append(0)\n",
    "    df['converters'] = converters\n",
    "    print(df[['Order Completed', 'converters']].sample(n=10))\n",
    "    df.drop('Order Completed', axis=1, inplace=True)\n",
    "    return df"
   ]
  },
  {
   "cell_type": "code",
   "execution_count": 153,
   "metadata": {},
   "outputs": [
    {
     "name": "stdout",
     "output_type": "stream",
     "text": [
      "EVENT_MODULE  Order Completed  converters\n",
      "CUSTOMER_ID                              \n",
      "328324                    0.0           0\n",
      "104991                    0.0           0\n",
      "174269                    0.0           0\n",
      "328614                    0.0           0\n",
      "358175                    0.0           0\n",
      "147230                    0.0           0\n",
      "107116                    0.0           0\n",
      "37133                     0.0           0\n",
      "139234                    0.0           0\n",
      "196101                    0.0           0\n"
     ]
    }
   ],
   "source": [
    "pivot = converters(pivot)"
   ]
  },
  {
   "cell_type": "markdown",
   "metadata": {},
   "source": [
    "# 3. Statistical logistic regression\n",
    "\n",
    "It seems that doing ML on the Jupyter has reached its limit. So I will work from a pure stastical point of view to get the results.\n",
    "\n",
    "The assumptions are:\n",
    "- Binary logistic regression requires the dependent variable to be binary.\n",
    "- For a binary regression, the factor level 1 of the dependent variable should represent the desired outcome.\n",
    "- Only the meaningful variables should be included.\n",
    "- The independent variables should be independent of each other. That is, the model should have little or no multicollinearity.\n",
    "- The independent variables are linearly related to the log odds. (~ means excluding due to p-values)\n",
    "- Logistic regression requires quite large sample sizes."
   ]
  },
  {
   "cell_type": "markdown",
   "metadata": {},
   "source": [
    "## 3.0 Sampling"
   ]
  },
  {
   "cell_type": "code",
   "execution_count": 181,
   "metadata": {},
   "outputs": [],
   "source": [
    "def sampling(df):\n",
    "    n = 2 * df['converters'].sum()\n",
    "    print ('there are ' + str(n) + ' users in the sample')\n",
    "    df_conv = df[df['converters']==1]\n",
    "    df_nc = df[df['converters']==0]\n",
    "    df_nc_sample = df_nc.sample(n = n)\n",
    "    df_sampled = pd.concat([df_conv, df_nc_sample])\n",
    "    return df_sampled"
   ]
  },
  {
   "cell_type": "code",
   "execution_count": 154,
   "metadata": {},
   "outputs": [
    {
     "name": "stdout",
     "output_type": "stream",
     "text": [
      "there are 2538 converters\n"
     ]
    }
   ],
   "source": [
    "df_sampled = sampling(pivot)"
   ]
  },
  {
   "cell_type": "markdown",
   "metadata": {},
   "source": [
    "## 3.1 mulitcolinearity\n",
    "\n",
    "We use the Variance Inflation Factor results. A VIF above 5 means high multicollinearity.\n",
    "\n",
    "The interpretation of a regression coefficient is that it represents the mean change in the dependent variable for each 1 unit change in an independent variable when you hold all of the other independent variables constant. That last portion is crucial for our discussion about multicollinearity.\n",
    "\n",
    "If two variables have high multicollinearity, it will highly influence on the p-value and any slight change in the model might create highly different results. But it doensn't overall affect the prediction power, only the weights and p-value.\n",
    "\n",
    "source: https://statisticsbyjim.com/regression/multicollinearity-in-regression-analysis/"
   ]
  },
  {
   "cell_type": "code",
   "execution_count": 155,
   "metadata": {},
   "outputs": [],
   "source": [
    "# the independent variables set \n",
    "y = df_sampled['converters']\n",
    "X = df_sampled.drop(['converters'], axis=1)"
   ]
  },
  {
   "cell_type": "code",
   "execution_count": 149,
   "metadata": {},
   "outputs": [],
   "source": [
    "def show_high_VIF(X):\n",
    "    vif_data = pd.DataFrame()\n",
    "    vif_data[\"feature\"] = X.columns \n",
    "    print ('these are the features: ' + str(X.columns))\n",
    "    \n",
    "    #calculating VIF for each feature\n",
    "    vif_data[\"VIF\"] = [variance_inflation_factor(X.values, i) for i in range(len(X.columns))] \n",
    "    vif_data.sort_values('VIF', inplace=True)\n",
    "    print('These are the highly correlated features: ')\n",
    "    print(vif_data[vif_data['VIF']>5])\n",
    "    \n",
    "    high_vif = vif_data[vif_data['VIF']>5]\n",
    "    \n",
    "    #showing most correlated feature\n",
    "    corr = X.corr().abs()\n",
    "    corr.reset_index(inplace=True)\n",
    "    corr_c = corr[corr.EVENT_MODULE.isin(high_vif['feature'])]\n",
    "    \n",
    "    #replacing 1.0 correlation by zero to fetch max\n",
    "    corr_c = corr_c.replace(1.0, 0.0)\n",
    "    \n",
    "    #create the df with \n",
    "    list_max = []\n",
    "    list_name_max = []\n",
    "    value_only = corr_c[corr_c.columns[1:]]\n",
    "    \n",
    "    for index, row in value_only.iterrows():\n",
    "        list_max.append(row.max())\n",
    "        list_name_max.append(row.idxmax())\n",
    "\n",
    "    corr_c['list_max'] = list_max\n",
    "    corr_c['list_name_max'] = list_name_max\n",
    "    corr_f = corr_c[['EVENT_MODULE', 'list_max', 'list_name_max']]\n",
    "    print(corr_f)\n",
    "\n",
    "    \n",
    "    return vif_data, corr_f"
   ]
  },
  {
   "cell_type": "code",
   "execution_count": 156,
   "metadata": {},
   "outputs": [
    {
     "name": "stdout",
     "output_type": "stream",
     "text": [
      "these are the features: Index(['Accordion Clicked', 'Carousel Clicked', 'Collection Clicked',\n",
      "       'Color Selected', 'Email Capture Submitted', 'Footer Clicked',\n",
      "       'Homepage Hero Clicked', 'Language Selected', 'Load More Reviews',\n",
      "       'Nav Arrow Clicked', 'Nav Clicked', 'Nav Closed', 'Notification Viewed',\n",
      "       'Page_about-us', 'Page_black-friday-change', 'Page_contact-us',\n",
      "       'Page_factory-mata-shoes-portugal', 'Page_factory-south-ocean-china',\n",
      "       'Page_our-story', 'Page_pricing-philosophy',\n",
      "       'Page_return-and-refund-policy', 'Page_shipping-information',\n",
      "       'Page_visit-us', 'Product Info Clicked', 'Product Removed',\n",
      "       'Review Anchor Clicked', 'Search Clicked', 'Search Result Clicked',\n",
      "       'module_viewed_Featured Products', 'module_viewed_New Arrivals',\n",
      "       'module_viewed_Text Image'],\n",
      "      dtype='object', name='EVENT_MODULE')\n",
      "These are the highly correlated features: \n",
      "Empty DataFrame\n",
      "Columns: [feature, VIF]\n",
      "Index: []\n",
      "Empty DataFrame\n",
      "Columns: [EVENT_MODULE, list_max, list_name_max]\n",
      "Index: []\n",
      "Wall time: 199 ms\n"
     ]
    }
   ],
   "source": [
    "%%time\n",
    "vif_data, corr_f = show_high_VIF(X=X)"
   ]
  },
  {
   "cell_type": "markdown",
   "metadata": {},
   "source": [
    "To go further with PCA and Ridge: https://www.researchgate.net/post/How_do_I_minimize_multicollinearity_in_multiple_regression_analysis"
   ]
  },
  {
   "cell_type": "markdown",
   "metadata": {},
   "source": [
    "## 3.2 Regressing\n",
    "Now let's regress our logistic regression."
   ]
  },
  {
   "cell_type": "code",
   "execution_count": 55,
   "metadata": {},
   "outputs": [],
   "source": [
    "def create_variables(df, X):\n",
    "    y = df_sampled[['converters']]\n",
    "    X=sm.add_constant(X)\n",
    "    X_train, X_test, y_train, y_test = train_test_split(X, y, test_size=0.2, random_state=0)\n",
    "    print(y.value_counts())\n",
    "    return X, y, X_train, X_test, y_train, y_test"
   ]
  },
  {
   "cell_type": "code",
   "execution_count": 157,
   "metadata": {},
   "outputs": [
    {
     "name": "stdout",
     "output_type": "stream",
     "text": [
      "converters\n",
      "0             2538\n",
      "1             1269\n",
      "dtype: int64\n"
     ]
    }
   ],
   "source": [
    "X, y, X_train, X_test, y_train, y_test = create_variables(df_sampled, X)"
   ]
  },
  {
   "cell_type": "code",
   "execution_count": 192,
   "metadata": {},
   "outputs": [],
   "source": [
    "def regressing(X_train, y_train, X_test, y_test, random_state = 42):\n",
    "    model=sm.Logit(y_train,X_train,random_state=random_state)\n",
    "    result=model.fit(max_iter=40, method='bfgs')\n",
    "    opt_thr=0.5\n",
    "    y_pred=result.predict(X_test)\n",
    "    y_pred= np.where(y_pred>opt_thr,1,0)\n",
    "    \n",
    "    #creating visual confusion matrix\n",
    "    cm= confusion_matrix(y_test,y_pred)\n",
    "    ax=sns.heatmap(cm, annot=True, fmt=\"0\", annot_kws={\"size\":20})\n",
    "    plt.xlabel('Predicted Output', fontsize=20)\n",
    "    plt.ylabel('Actual Output', fontsize=20)\n",
    "    print('--------------------------------------------')\n",
    "    print('-------------prediction matrix--------------')\n",
    "    plt.show()\n",
    "    print('--------------------------------------------')\n",
    "    print('-------------confusion score----------------')\n",
    "    print(classification_report(y_test, y_pred))\n",
    "    \n",
    "    return result"
   ]
  },
  {
   "cell_type": "code",
   "execution_count": 194,
   "metadata": {},
   "outputs": [
    {
     "name": "stdout",
     "output_type": "stream",
     "text": [
      "Warning: Maximum number of iterations has been exceeded.\n",
      "         Current function value: 0.166153\n",
      "         Iterations: 35\n",
      "         Function evaluations: 36\n",
      "         Gradient evaluations: 36\n",
      "--------------------------------------------\n",
      "-------------prediction matrix--------------\n"
     ]
    },
    {
     "name": "stderr",
     "output_type": "stream",
     "text": [
      "C:\\Users\\Arthu\\anaconda3\\lib\\site-packages\\statsmodels\\base\\model.py:566: ConvergenceWarning: Maximum Likelihood optimization failed to converge. Check mle_retvals\n",
      "  warnings.warn(\"Maximum Likelihood optimization failed to \"\n"
     ]
    },
    {
     "data": {
      "image/png": "[encoded data removed]",
      "text/plain": [
       "<Figure size 432x288 with 2 Axes>"
      ]
     },
     "metadata": {
      "needs_background": "light"
     },
     "output_type": "display_data"
    },
    {
     "name": "stdout",
     "output_type": "stream",
     "text": [
      "--------------------------------------------\n",
      "-------------confusion score----------------\n",
      "              precision    recall  f1-score   support\n",
      "\n",
      "           0       0.94      1.00      0.97       494\n",
      "           1       1.00      0.88      0.94       268\n",
      "\n",
      "    accuracy                           0.96       762\n",
      "   macro avg       0.97      0.94      0.95       762\n",
      "weighted avg       0.96      0.96      0.96       762\n",
      "\n"
     ]
    }
   ],
   "source": [
    "result = regressing(X_train = X_train, y_train=y_train, X_test=X_test, y_test=y_test)"
   ]
  },
  {
   "cell_type": "markdown",
   "metadata": {},
   "source": [
    "Accuracy = (TP+TN) /(TP+FP+FN+TN)\n",
    "And we have an accuracy of 88%"
   ]
  },
  {
   "cell_type": "code",
   "execution_count": 195,
   "metadata": {
    "scrolled": true
   },
   "outputs": [
    {
     "name": "stdout",
     "output_type": "stream",
     "text": [
      "                           Logit Regression Results                           \n",
      "==============================================================================\n",
      "Dep. Variable:             converters   No. Observations:                 3045\n",
      "Model:                          Logit   Df Residuals:                     3013\n",
      "Method:                           MLE   Df Model:                           31\n",
      "Date:                Thu, 16 Dec 2021   Pseudo R-squ.:                  0.7376\n",
      "Time:                        15:16:47   Log-Likelihood:                -505.93\n",
      "converged:                      False   LL-Null:                       -1928.3\n",
      "Covariance Type:            nonrobust   LLR p-value:                     0.000\n",
      "====================================================================================================\n",
      "                                       coef    std err          z      P>|z|      [0.025      0.975]\n",
      "----------------------------------------------------------------------------------------------------\n",
      "const                               -3.6146      0.129    -27.977      0.000      -3.868      -3.361\n",
      "Accordion Clicked                    0.8357      1.097      0.762      0.446      -1.314       2.985\n",
      "Carousel Clicked                     0.6434      0.781      0.824      0.410      -0.887       2.174\n",
      "Collection Clicked                   2.3026      0.385      5.988      0.000       1.549       3.056\n",
      "Color Selected                       3.0796      0.194     15.877      0.000       2.699       3.460\n",
      "Email Capture Submitted              0.8856      1.650      0.537      0.591      -2.347       4.119\n",
      "Footer Clicked                       0.9110      0.864      1.054      0.292      -0.783       2.605\n",
      "Homepage Hero Clicked                2.0209      0.507      3.983      0.000       1.026       3.015\n",
      "Language Selected                    0.0860      3.065      0.028      0.978      -5.921       6.093\n",
      "Load More Reviews                    0.0415      5.228      0.008      0.994     -10.206      10.289\n",
      "Nav Arrow Clicked                    2.2400      0.261      8.572      0.000       1.728       2.752\n",
      "Nav Clicked                          1.9300      0.229      8.425      0.000       1.481       2.379\n",
      "Nav Closed                           1.3082      0.524      2.497      0.013       0.281       2.335\n",
      "Notification Viewed                  0.7676      1.526      0.503      0.615      -2.224       3.759\n",
      "Page_about-us                        0.3025      2.518      0.120      0.904      -4.633       5.238\n",
      "Page_black-friday-change             0.4645      1.708      0.272      0.786      -2.884       3.813\n",
      "Page_contact-us                      0.0891      3.620      0.025      0.980      -7.006       7.184\n",
      "Page_factory-mata-shoes-portugal     0.1832      1.849      0.099      0.921      -3.440       3.807\n",
      "Page_factory-south-ocean-china       0.0182     79.191      0.000      1.000    -155.194     155.230\n",
      "Page_our-story                       0.1357      3.250      0.042      0.967      -6.235       6.506\n",
      "Page_pricing-philosophy              0.1262      3.036      0.042      0.967      -5.824       6.076\n",
      "Page_return-and-refund-policy        1.0904      1.261      0.865      0.387      -1.381       3.562\n",
      "Page_shipping-information            0.3502      1.721      0.204      0.839      -3.023       3.723\n",
      "Page_visit-us                        0.7723      0.621      1.243      0.214      -0.446       1.990\n",
      "Product Info Clicked                 1.7237      0.627      2.749      0.006       0.495       2.953\n",
      "Product Removed                      1.6606      0.805      2.062      0.039       0.082       3.239\n",
      "Review Anchor Clicked                0.3720      2.082      0.179      0.858      -3.709       4.453\n",
      "Search Clicked                       0.9412      1.002      0.939      0.348      -1.023       2.905\n",
      "Search Result Clicked                0.2519      2.019      0.125      0.901      -3.705       4.209\n",
      "module_viewed_Featured Products      1.2111      0.549      2.205      0.027       0.135       2.288\n",
      "module_viewed_New Arrivals           1.3718      0.376      3.646      0.000       0.634       2.109\n",
      "module_viewed_Text Image             0.0249      4.270      0.006      0.995      -8.344       8.393\n",
      "====================================================================================================\n"
     ]
    }
   ],
   "source": [
    "print(result.summary())"
   ]
  },
  {
   "cell_type": "markdown",
   "metadata": {},
   "source": [
    "## 3.3 Pulling out result"
   ]
  },
  {
   "cell_type": "markdown",
   "metadata": {},
   "source": [
    "### 3.3.1 Coef"
   ]
  },
  {
   "cell_type": "code",
   "execution_count": 167,
   "metadata": {},
   "outputs": [],
   "source": [
    "# Fetching the statistics\n",
    "stat_df=pd.DataFrame({'coefficients':result.params, 'p-value': result.pvalues, 'odds_ratio': np.exp(result.params)})\n",
    "final = stat_df[['coefficients','p-value']]\n",
    "\n",
    "final.reset_index(inplace=True)\n",
    "final.columns = ['event', 'coefficients', 'p-value']\n",
    "\n",
    "final['coefficients'] = final['coefficients']/3.6146 #normalize with the constante value\n",
    "\n",
    "#dropped const\n",
    "final.drop(0, inplace=True)"
   ]
  },
  {
   "cell_type": "markdown",
   "metadata": {},
   "source": [
    "### 3.3.2 Occurences"
   ]
  },
  {
   "cell_type": "code",
   "execution_count": 168,
   "metadata": {},
   "outputs": [],
   "source": [
    "df_sampled.reset_index(inplace=True)"
   ]
  },
  {
   "cell_type": "code",
   "execution_count": 169,
   "metadata": {
    "scrolled": true
   },
   "outputs": [
    {
     "data": {
      "text/html": [
       "<div>\n",
       "<style scoped>\n",
       "    .dataframe tbody tr th:only-of-type {\n",
       "        vertical-align: middle;\n",
       "    }\n",
       "\n",
       "    .dataframe tbody tr th {\n",
       "        vertical-align: top;\n",
       "    }\n",
       "\n",
       "    .dataframe thead th {\n",
       "        text-align: right;\n",
       "    }\n",
       "</style>\n",
       "<table border=\"1\" class=\"dataframe\">\n",
       "  <thead>\n",
       "    <tr style=\"text-align: right;\">\n",
       "      <th>EVENT_MODULE</th>\n",
       "      <th>CUSTOMER_ID</th>\n",
       "      <th>Accordion Clicked</th>\n",
       "      <th>Carousel Clicked</th>\n",
       "      <th>Collection Clicked</th>\n",
       "      <th>Color Selected</th>\n",
       "      <th>Email Capture Submitted</th>\n",
       "      <th>Footer Clicked</th>\n",
       "      <th>Homepage Hero Clicked</th>\n",
       "      <th>Language Selected</th>\n",
       "      <th>Load More Reviews</th>\n",
       "      <th>...</th>\n",
       "      <th>Page_visit-us</th>\n",
       "      <th>Product Info Clicked</th>\n",
       "      <th>Product Removed</th>\n",
       "      <th>Review Anchor Clicked</th>\n",
       "      <th>Search Clicked</th>\n",
       "      <th>Search Result Clicked</th>\n",
       "      <th>module_viewed_Featured Products</th>\n",
       "      <th>module_viewed_New Arrivals</th>\n",
       "      <th>module_viewed_Text Image</th>\n",
       "      <th>converters</th>\n",
       "    </tr>\n",
       "  </thead>\n",
       "  <tbody>\n",
       "    <tr>\n",
       "      <th>0</th>\n",
       "      <td>257911</td>\n",
       "      <td>0.0</td>\n",
       "      <td>0.0</td>\n",
       "      <td>0.0</td>\n",
       "      <td>0.0</td>\n",
       "      <td>0.0</td>\n",
       "      <td>0.0</td>\n",
       "      <td>0.0</td>\n",
       "      <td>0.0</td>\n",
       "      <td>0.0</td>\n",
       "      <td>...</td>\n",
       "      <td>0.0</td>\n",
       "      <td>0.0</td>\n",
       "      <td>0.0</td>\n",
       "      <td>0.0</td>\n",
       "      <td>0.0</td>\n",
       "      <td>0.0</td>\n",
       "      <td>0.0</td>\n",
       "      <td>0.0</td>\n",
       "      <td>0.0</td>\n",
       "      <td>1</td>\n",
       "    </tr>\n",
       "    <tr>\n",
       "      <th>1</th>\n",
       "      <td>281411</td>\n",
       "      <td>0.0</td>\n",
       "      <td>0.0</td>\n",
       "      <td>0.0</td>\n",
       "      <td>0.0</td>\n",
       "      <td>0.0</td>\n",
       "      <td>0.0</td>\n",
       "      <td>0.0</td>\n",
       "      <td>0.0</td>\n",
       "      <td>0.0</td>\n",
       "      <td>...</td>\n",
       "      <td>0.0</td>\n",
       "      <td>0.0</td>\n",
       "      <td>0.0</td>\n",
       "      <td>0.0</td>\n",
       "      <td>0.0</td>\n",
       "      <td>0.0</td>\n",
       "      <td>0.0</td>\n",
       "      <td>0.0</td>\n",
       "      <td>0.0</td>\n",
       "      <td>1</td>\n",
       "    </tr>\n",
       "    <tr>\n",
       "      <th>2</th>\n",
       "      <td>3800465014807</td>\n",
       "      <td>0.0</td>\n",
       "      <td>0.0</td>\n",
       "      <td>1.0</td>\n",
       "      <td>1.0</td>\n",
       "      <td>0.0</td>\n",
       "      <td>1.0</td>\n",
       "      <td>0.0</td>\n",
       "      <td>0.0</td>\n",
       "      <td>0.0</td>\n",
       "      <td>...</td>\n",
       "      <td>1.0</td>\n",
       "      <td>0.0</td>\n",
       "      <td>0.0</td>\n",
       "      <td>0.0</td>\n",
       "      <td>0.0</td>\n",
       "      <td>0.0</td>\n",
       "      <td>0.0</td>\n",
       "      <td>0.0</td>\n",
       "      <td>0.0</td>\n",
       "      <td>1</td>\n",
       "    </tr>\n",
       "    <tr>\n",
       "      <th>3</th>\n",
       "      <td>3800473567255</td>\n",
       "      <td>0.0</td>\n",
       "      <td>0.0</td>\n",
       "      <td>1.0</td>\n",
       "      <td>2.0</td>\n",
       "      <td>1.0</td>\n",
       "      <td>1.0</td>\n",
       "      <td>0.0</td>\n",
       "      <td>0.0</td>\n",
       "      <td>0.0</td>\n",
       "      <td>...</td>\n",
       "      <td>1.0</td>\n",
       "      <td>2.0</td>\n",
       "      <td>0.0</td>\n",
       "      <td>2.0</td>\n",
       "      <td>0.0</td>\n",
       "      <td>0.0</td>\n",
       "      <td>0.0</td>\n",
       "      <td>0.0</td>\n",
       "      <td>0.0</td>\n",
       "      <td>1</td>\n",
       "    </tr>\n",
       "    <tr>\n",
       "      <th>4</th>\n",
       "      <td>3800478384151</td>\n",
       "      <td>0.0</td>\n",
       "      <td>1.0</td>\n",
       "      <td>1.0</td>\n",
       "      <td>1.0</td>\n",
       "      <td>0.0</td>\n",
       "      <td>0.0</td>\n",
       "      <td>0.0</td>\n",
       "      <td>0.0</td>\n",
       "      <td>0.0</td>\n",
       "      <td>...</td>\n",
       "      <td>0.0</td>\n",
       "      <td>0.0</td>\n",
       "      <td>0.0</td>\n",
       "      <td>0.0</td>\n",
       "      <td>0.0</td>\n",
       "      <td>0.0</td>\n",
       "      <td>0.0</td>\n",
       "      <td>1.0</td>\n",
       "      <td>0.0</td>\n",
       "      <td>1</td>\n",
       "    </tr>\n",
       "  </tbody>\n",
       "</table>\n",
       "<p>5 rows × 33 columns</p>\n",
       "</div>"
      ],
      "text/plain": [
       "EVENT_MODULE    CUSTOMER_ID  Accordion Clicked  Carousel Clicked  \\\n",
       "0                    257911                0.0               0.0   \n",
       "1                    281411                0.0               0.0   \n",
       "2             3800465014807                0.0               0.0   \n",
       "3             3800473567255                0.0               0.0   \n",
       "4             3800478384151                0.0               1.0   \n",
       "\n",
       "EVENT_MODULE  Collection Clicked  Color Selected  Email Capture Submitted  \\\n",
       "0                            0.0             0.0                      0.0   \n",
       "1                            0.0             0.0                      0.0   \n",
       "2                            1.0             1.0                      0.0   \n",
       "3                            1.0             2.0                      1.0   \n",
       "4                            1.0             1.0                      0.0   \n",
       "\n",
       "EVENT_MODULE  Footer Clicked  Homepage Hero Clicked  Language Selected  \\\n",
       "0                        0.0                    0.0                0.0   \n",
       "1                        0.0                    0.0                0.0   \n",
       "2                        1.0                    0.0                0.0   \n",
       "3                        1.0                    0.0                0.0   \n",
       "4                        0.0                    0.0                0.0   \n",
       "\n",
       "EVENT_MODULE  Load More Reviews  ...  Page_visit-us  Product Info Clicked  \\\n",
       "0                           0.0  ...            0.0                   0.0   \n",
       "1                           0.0  ...            0.0                   0.0   \n",
       "2                           0.0  ...            1.0                   0.0   \n",
       "3                           0.0  ...            1.0                   2.0   \n",
       "4                           0.0  ...            0.0                   0.0   \n",
       "\n",
       "EVENT_MODULE  Product Removed  Review Anchor Clicked  Search Clicked  \\\n",
       "0                         0.0                    0.0             0.0   \n",
       "1                         0.0                    0.0             0.0   \n",
       "2                         0.0                    0.0             0.0   \n",
       "3                         0.0                    2.0             0.0   \n",
       "4                         0.0                    0.0             0.0   \n",
       "\n",
       "EVENT_MODULE  Search Result Clicked  module_viewed_Featured Products  \\\n",
       "0                               0.0                              0.0   \n",
       "1                               0.0                              0.0   \n",
       "2                               0.0                              0.0   \n",
       "3                               0.0                              0.0   \n",
       "4                               0.0                              0.0   \n",
       "\n",
       "EVENT_MODULE  module_viewed_New Arrivals  module_viewed_Text Image  converters  \n",
       "0                                    0.0                       0.0           1  \n",
       "1                                    0.0                       0.0           1  \n",
       "2                                    0.0                       0.0           1  \n",
       "3                                    0.0                       0.0           1  \n",
       "4                                    1.0                       0.0           1  \n",
       "\n",
       "[5 rows x 33 columns]"
      ]
     },
     "execution_count": 169,
     "metadata": {},
     "output_type": "execute_result"
    }
   ],
   "source": [
    "df_sampled.head()"
   ]
  },
  {
   "cell_type": "code",
   "execution_count": 170,
   "metadata": {},
   "outputs": [],
   "source": [
    "df_unpivot = df_sampled.melt(id_vars=['CUSTOMER_ID'], var_name='event_module', value_name = 'occ')\n",
    "df_unpivot = df_unpivot[df_unpivot['occ']>0.0]"
   ]
  },
  {
   "cell_type": "code",
   "execution_count": 171,
   "metadata": {},
   "outputs": [],
   "source": [
    "df_occ = df_unpivot[['CUSTOMER_ID', 'event_module']].groupby('event_module').count()"
   ]
  },
  {
   "cell_type": "code",
   "execution_count": 172,
   "metadata": {},
   "outputs": [],
   "source": [
    "df_occ.reset_index(inplace = True)"
   ]
  },
  {
   "cell_type": "code",
   "execution_count": 173,
   "metadata": {},
   "outputs": [
    {
     "name": "stdout",
     "output_type": "stream",
     "text": [
      "number of client = 3807\n"
     ]
    }
   ],
   "source": [
    "df_occ.columns = ['EVENT_MODULE', 'occurences']\n",
    "sum_occ = df_sampled['CUSTOMER_ID'].count()\n",
    "print ('number of client = ' + str(sum_occ))\n",
    "df_occ['% occurence'] = df_occ['occurences'] / sum_occ"
   ]
  },
  {
   "cell_type": "code",
   "execution_count": 174,
   "metadata": {},
   "outputs": [],
   "source": [
    "df_occ = df_occ[df_occ['EVENT_MODULE']!='converters']"
   ]
  },
  {
   "cell_type": "code",
   "execution_count": 175,
   "metadata": {},
   "outputs": [
    {
     "data": {
      "text/html": [
       "<div>\n",
       "<style scoped>\n",
       "    .dataframe tbody tr th:only-of-type {\n",
       "        vertical-align: middle;\n",
       "    }\n",
       "\n",
       "    .dataframe tbody tr th {\n",
       "        vertical-align: top;\n",
       "    }\n",
       "\n",
       "    .dataframe thead th {\n",
       "        text-align: right;\n",
       "    }\n",
       "</style>\n",
       "<table border=\"1\" class=\"dataframe\">\n",
       "  <thead>\n",
       "    <tr style=\"text-align: right;\">\n",
       "      <th></th>\n",
       "      <th>EVENT_MODULE</th>\n",
       "      <th>occurences</th>\n",
       "      <th>% occurence</th>\n",
       "    </tr>\n",
       "  </thead>\n",
       "  <tbody>\n",
       "    <tr>\n",
       "      <th>31</th>\n",
       "      <td>module_viewed_Text Image</td>\n",
       "      <td>5</td>\n",
       "      <td>0.001313</td>\n",
       "    </tr>\n",
       "    <tr>\n",
       "      <th>18</th>\n",
       "      <td>Page_our-story</td>\n",
       "      <td>6</td>\n",
       "      <td>0.001576</td>\n",
       "    </tr>\n",
       "    <tr>\n",
       "      <th>17</th>\n",
       "      <td>Page_factory-south-ocean-china</td>\n",
       "      <td>6</td>\n",
       "      <td>0.001576</td>\n",
       "    </tr>\n",
       "    <tr>\n",
       "      <th>16</th>\n",
       "      <td>Page_factory-mata-shoes-portugal</td>\n",
       "      <td>9</td>\n",
       "      <td>0.002364</td>\n",
       "    </tr>\n",
       "    <tr>\n",
       "      <th>14</th>\n",
       "      <td>Page_black-friday-change</td>\n",
       "      <td>12</td>\n",
       "      <td>0.003152</td>\n",
       "    </tr>\n",
       "    <tr>\n",
       "      <th>7</th>\n",
       "      <td>Language Selected</td>\n",
       "      <td>12</td>\n",
       "      <td>0.003152</td>\n",
       "    </tr>\n",
       "    <tr>\n",
       "      <th>27</th>\n",
       "      <td>Search Result Clicked</td>\n",
       "      <td>14</td>\n",
       "      <td>0.003677</td>\n",
       "    </tr>\n",
       "    <tr>\n",
       "      <th>8</th>\n",
       "      <td>Load More Reviews</td>\n",
       "      <td>18</td>\n",
       "      <td>0.004728</td>\n",
       "    </tr>\n",
       "    <tr>\n",
       "      <th>15</th>\n",
       "      <td>Page_contact-us</td>\n",
       "      <td>20</td>\n",
       "      <td>0.005253</td>\n",
       "    </tr>\n",
       "    <tr>\n",
       "      <th>19</th>\n",
       "      <td>Page_pricing-philosophy</td>\n",
       "      <td>21</td>\n",
       "      <td>0.005516</td>\n",
       "    </tr>\n",
       "    <tr>\n",
       "      <th>21</th>\n",
       "      <td>Page_shipping-information</td>\n",
       "      <td>38</td>\n",
       "      <td>0.009982</td>\n",
       "    </tr>\n",
       "    <tr>\n",
       "      <th>25</th>\n",
       "      <td>Review Anchor Clicked</td>\n",
       "      <td>42</td>\n",
       "      <td>0.011032</td>\n",
       "    </tr>\n",
       "    <tr>\n",
       "      <th>13</th>\n",
       "      <td>Page_about-us</td>\n",
       "      <td>44</td>\n",
       "      <td>0.011558</td>\n",
       "    </tr>\n",
       "    <tr>\n",
       "      <th>12</th>\n",
       "      <td>Notification Viewed</td>\n",
       "      <td>71</td>\n",
       "      <td>0.018650</td>\n",
       "    </tr>\n",
       "    <tr>\n",
       "      <th>4</th>\n",
       "      <td>Email Capture Submitted</td>\n",
       "      <td>110</td>\n",
       "      <td>0.028894</td>\n",
       "    </tr>\n",
       "    <tr>\n",
       "      <th>20</th>\n",
       "      <td>Page_return-and-refund-policy</td>\n",
       "      <td>129</td>\n",
       "      <td>0.033885</td>\n",
       "    </tr>\n",
       "    <tr>\n",
       "      <th>0</th>\n",
       "      <td>Accordion Clicked</td>\n",
       "      <td>145</td>\n",
       "      <td>0.038088</td>\n",
       "    </tr>\n",
       "    <tr>\n",
       "      <th>26</th>\n",
       "      <td>Search Clicked</td>\n",
       "      <td>166</td>\n",
       "      <td>0.043604</td>\n",
       "    </tr>\n",
       "    <tr>\n",
       "      <th>22</th>\n",
       "      <td>Page_visit-us</td>\n",
       "      <td>176</td>\n",
       "      <td>0.046231</td>\n",
       "    </tr>\n",
       "    <tr>\n",
       "      <th>5</th>\n",
       "      <td>Footer Clicked</td>\n",
       "      <td>206</td>\n",
       "      <td>0.054111</td>\n",
       "    </tr>\n",
       "    <tr>\n",
       "      <th>1</th>\n",
       "      <td>Carousel Clicked</td>\n",
       "      <td>281</td>\n",
       "      <td>0.073811</td>\n",
       "    </tr>\n",
       "    <tr>\n",
       "      <th>6</th>\n",
       "      <td>Homepage Hero Clicked</td>\n",
       "      <td>284</td>\n",
       "      <td>0.074599</td>\n",
       "    </tr>\n",
       "    <tr>\n",
       "      <th>24</th>\n",
       "      <td>Product Removed</td>\n",
       "      <td>287</td>\n",
       "      <td>0.075387</td>\n",
       "    </tr>\n",
       "    <tr>\n",
       "      <th>23</th>\n",
       "      <td>Product Info Clicked</td>\n",
       "      <td>357</td>\n",
       "      <td>0.093775</td>\n",
       "    </tr>\n",
       "    <tr>\n",
       "      <th>29</th>\n",
       "      <td>module_viewed_Featured Products</td>\n",
       "      <td>382</td>\n",
       "      <td>0.100341</td>\n",
       "    </tr>\n",
       "    <tr>\n",
       "      <th>11</th>\n",
       "      <td>Nav Closed</td>\n",
       "      <td>448</td>\n",
       "      <td>0.117678</td>\n",
       "    </tr>\n",
       "    <tr>\n",
       "      <th>2</th>\n",
       "      <td>Collection Clicked</td>\n",
       "      <td>554</td>\n",
       "      <td>0.145521</td>\n",
       "    </tr>\n",
       "    <tr>\n",
       "      <th>30</th>\n",
       "      <td>module_viewed_New Arrivals</td>\n",
       "      <td>632</td>\n",
       "      <td>0.166010</td>\n",
       "    </tr>\n",
       "    <tr>\n",
       "      <th>9</th>\n",
       "      <td>Nav Arrow Clicked</td>\n",
       "      <td>657</td>\n",
       "      <td>0.172577</td>\n",
       "    </tr>\n",
       "    <tr>\n",
       "      <th>10</th>\n",
       "      <td>Nav Clicked</td>\n",
       "      <td>1113</td>\n",
       "      <td>0.292356</td>\n",
       "    </tr>\n",
       "    <tr>\n",
       "      <th>3</th>\n",
       "      <td>Color Selected</td>\n",
       "      <td>1174</td>\n",
       "      <td>0.308379</td>\n",
       "    </tr>\n",
       "  </tbody>\n",
       "</table>\n",
       "</div>"
      ],
      "text/plain": [
       "                        EVENT_MODULE  occurences  % occurence\n",
       "31          module_viewed_Text Image           5     0.001313\n",
       "18                    Page_our-story           6     0.001576\n",
       "17    Page_factory-south-ocean-china           6     0.001576\n",
       "16  Page_factory-mata-shoes-portugal           9     0.002364\n",
       "14          Page_black-friday-change          12     0.003152\n",
       "7                  Language Selected          12     0.003152\n",
       "27             Search Result Clicked          14     0.003677\n",
       "8                  Load More Reviews          18     0.004728\n",
       "15                   Page_contact-us          20     0.005253\n",
       "19           Page_pricing-philosophy          21     0.005516\n",
       "21         Page_shipping-information          38     0.009982\n",
       "25             Review Anchor Clicked          42     0.011032\n",
       "13                     Page_about-us          44     0.011558\n",
       "12               Notification Viewed          71     0.018650\n",
       "4            Email Capture Submitted         110     0.028894\n",
       "20     Page_return-and-refund-policy         129     0.033885\n",
       "0                  Accordion Clicked         145     0.038088\n",
       "26                    Search Clicked         166     0.043604\n",
       "22                     Page_visit-us         176     0.046231\n",
       "5                     Footer Clicked         206     0.054111\n",
       "1                   Carousel Clicked         281     0.073811\n",
       "6              Homepage Hero Clicked         284     0.074599\n",
       "24                   Product Removed         287     0.075387\n",
       "23              Product Info Clicked         357     0.093775\n",
       "29   module_viewed_Featured Products         382     0.100341\n",
       "11                        Nav Closed         448     0.117678\n",
       "2                 Collection Clicked         554     0.145521\n",
       "30        module_viewed_New Arrivals         632     0.166010\n",
       "9                  Nav Arrow Clicked         657     0.172577\n",
       "10                       Nav Clicked        1113     0.292356\n",
       "3                     Color Selected        1174     0.308379"
      ]
     },
     "execution_count": 175,
     "metadata": {},
     "output_type": "execute_result"
    }
   ],
   "source": [
    "df_occ.sort_values('% occurence')"
   ]
  },
  {
   "cell_type": "markdown",
   "metadata": {},
   "source": [
    "### 3.3.3 merge and export"
   ]
  },
  {
   "cell_type": "code",
   "execution_count": 176,
   "metadata": {},
   "outputs": [],
   "source": [
    "final = final.merge(df_occ, left_on = 'event', right_on = 'EVENT_MODULE')\n",
    "final.drop('EVENT_MODULE', axis=1, inplace = True)"
   ]
  },
  {
   "cell_type": "code",
   "execution_count": 177,
   "metadata": {},
   "outputs": [],
   "source": [
    "#export\n",
    "final.to_csv('event_effect_nolabel_final3.csv')"
   ]
  },
  {
   "cell_type": "markdown",
   "metadata": {},
   "source": [
    "# don't know what it is"
   ]
  },
  {
   "cell_type": "code",
   "execution_count": 54,
   "metadata": {},
   "outputs": [
    {
     "ename": "KeyError",
     "evalue": "\"['const'] not found in axis\"",
     "output_type": "error",
     "traceback": [
      "\u001b[1;31m---------------------------------------------------------------------------\u001b[0m",
      "\u001b[1;31mKeyError\u001b[0m                                  Traceback (most recent call last)",
      "\u001b[1;32m<ipython-input-54-6c49d3eb70f6>\u001b[0m in \u001b[0;36m<module>\u001b[1;34m\u001b[0m\n\u001b[0;32m      1\u001b[0m \u001b[1;31m# Condition for significant parameters\u001b[0m\u001b[1;33m\u001b[0m\u001b[1;33m\u001b[0m\u001b[1;33m\u001b[0m\u001b[0m\n\u001b[0;32m      2\u001b[0m \u001b[0msignificant_params\u001b[0m\u001b[1;33m=\u001b[0m\u001b[0mstat_df\u001b[0m\u001b[1;33m[\u001b[0m\u001b[0mstat_df\u001b[0m\u001b[1;33m[\u001b[0m\u001b[1;34m'p-value'\u001b[0m\u001b[1;33m]\u001b[0m\u001b[1;33m<=\u001b[0m\u001b[1;36m0.1\u001b[0m\u001b[1;33m]\u001b[0m\u001b[1;33m.\u001b[0m\u001b[0mindex\u001b[0m\u001b[1;33m\u001b[0m\u001b[1;33m\u001b[0m\u001b[0m\n\u001b[1;32m----> 3\u001b[1;33m \u001b[0msignificant_params\u001b[0m\u001b[1;33m=\u001b[0m \u001b[0msignificant_params\u001b[0m\u001b[1;33m.\u001b[0m\u001b[0mdrop\u001b[0m\u001b[1;33m(\u001b[0m\u001b[1;34m'const'\u001b[0m\u001b[1;33m)\u001b[0m\u001b[1;33m\u001b[0m\u001b[1;33m\u001b[0m\u001b[0m\n\u001b[0m\u001b[0;32m      4\u001b[0m \u001b[0msignificant_params\u001b[0m\u001b[1;33m\u001b[0m\u001b[1;33m\u001b[0m\u001b[0m\n",
      "\u001b[1;32m~\\anaconda3\\lib\\site-packages\\pandas\\core\\indexes\\base.py\u001b[0m in \u001b[0;36mdrop\u001b[1;34m(self, labels, errors)\u001b[0m\n\u001b[0;32m   5280\u001b[0m         \u001b[1;32mif\u001b[0m \u001b[0mmask\u001b[0m\u001b[1;33m.\u001b[0m\u001b[0many\u001b[0m\u001b[1;33m(\u001b[0m\u001b[1;33m)\u001b[0m\u001b[1;33m:\u001b[0m\u001b[1;33m\u001b[0m\u001b[1;33m\u001b[0m\u001b[0m\n\u001b[0;32m   5281\u001b[0m             \u001b[1;32mif\u001b[0m \u001b[0merrors\u001b[0m \u001b[1;33m!=\u001b[0m \u001b[1;34m\"ignore\"\u001b[0m\u001b[1;33m:\u001b[0m\u001b[1;33m\u001b[0m\u001b[1;33m\u001b[0m\u001b[0m\n\u001b[1;32m-> 5282\u001b[1;33m                 \u001b[1;32mraise\u001b[0m \u001b[0mKeyError\u001b[0m\u001b[1;33m(\u001b[0m\u001b[1;34mf\"{labels[mask]} not found in axis\"\u001b[0m\u001b[1;33m)\u001b[0m\u001b[1;33m\u001b[0m\u001b[1;33m\u001b[0m\u001b[0m\n\u001b[0m\u001b[0;32m   5283\u001b[0m             \u001b[0mindexer\u001b[0m \u001b[1;33m=\u001b[0m \u001b[0mindexer\u001b[0m\u001b[1;33m[\u001b[0m\u001b[1;33m~\u001b[0m\u001b[0mmask\u001b[0m\u001b[1;33m]\u001b[0m\u001b[1;33m\u001b[0m\u001b[1;33m\u001b[0m\u001b[0m\n\u001b[0;32m   5284\u001b[0m         \u001b[1;32mreturn\u001b[0m \u001b[0mself\u001b[0m\u001b[1;33m.\u001b[0m\u001b[0mdelete\u001b[0m\u001b[1;33m(\u001b[0m\u001b[0mindexer\u001b[0m\u001b[1;33m)\u001b[0m\u001b[1;33m\u001b[0m\u001b[1;33m\u001b[0m\u001b[0m\n",
      "\u001b[1;31mKeyError\u001b[0m: \"['const'] not found in axis\""
     ]
    }
   ],
   "source": [
    "# Condition for significant parameters\n",
    "significant_params=stat_df[stat_df['p-value']<=0.1].index\n",
    "significant_params= significant_params.drop('const')\n",
    "significant_params"
   ]
  },
  {
   "cell_type": "code",
   "execution_count": null,
   "metadata": {},
   "outputs": [],
   "source": [
    "print('Total number of parameters: %s '%len(X.keys()) )\n",
    "print('Number of Significant Parameters: %s'%(len(significant_params)))\n",
    "final_stat_df = stat_df.loc[significant_params].sort_values('coefficients', ascending=False)['coefficients']\n",
    "print(final_stat_df)"
   ]
  },
  {
   "cell_type": "code",
   "execution_count": null,
   "metadata": {},
   "outputs": [],
   "source": [
    "event_matrix_NL_final_section = pd.DataFrame(final)\n",
    "event_matrix_NL_final_section.head()"
   ]
  },
  {
   "cell_type": "code",
   "execution_count": null,
   "metadata": {},
   "outputs": [],
   "source": [
    "event_matrix_NL_final_section.to_excel('event_matrix_NL_final_section.xlsx')"
   ]
  },
  {
   "cell_type": "code",
   "execution_count": null,
   "metadata": {},
   "outputs": [],
   "source": []
  }
 ],
 "metadata": {
  "kernelspec": {
   "display_name": "Python 3",
   "language": "python",
   "name": "python3"
  },
  "language_info": {
   "codemirror_mode": {
    "name": "ipython",
    "version": 3
   },
   "file_extension": ".py",
   "mimetype": "text/x-python",
   "name": "python",
   "nbconvert_exporter": "python",
   "pygments_lexer": "ipython3",
   "version": "3.8.5"
  }
 },
 "nbformat": 4,
 "nbformat_minor": 4
}
