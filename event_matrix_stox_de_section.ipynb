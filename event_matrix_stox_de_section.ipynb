{
 "cells": [
  {
   "cell_type": "markdown",
   "metadata": {},
   "source": [
    "# Event to conversion - Stox"
   ]
  },
  {
   "cell_type": "markdown",
   "metadata": {},
   "source": [
    "# 1. Import"
   ]
  },
  {
   "cell_type": "markdown",
   "metadata": {},
   "source": [
    "## 1.1 Data collection"
   ]
  },
  {
   "cell_type": "code",
   "execution_count": 1,
   "metadata": {},
   "outputs": [],
   "source": [
    "import pandas as pd\n",
    "import matplotlib.pyplot as plt\n",
    "import seaborn as sns\n",
    "import statsmodels.api as sm\n",
    "import numpy as np\n",
    "from sklearn.metrics import classification_report, confusion_matrix\n",
    "from sklearn.model_selection import train_test_split\n",
    "from sklearn.preprocessing import StandardScaler\n",
    "from sklearn.linear_model import LogisticRegression"
   ]
  },
  {
   "cell_type": "code",
   "execution_count": 2,
   "metadata": {},
   "outputs": [],
   "source": [
    "events = pd.read_csv(r'C:\\Users\\Arthu\\Documents\\Stox\\event_matrix_DE_complete.csv')"
   ]
  },
  {
   "cell_type": "code",
   "execution_count": 3,
   "metadata": {},
   "outputs": [],
   "source": [
    "df = events"
   ]
  },
  {
   "cell_type": "code",
   "execution_count": 4,
   "metadata": {},
   "outputs": [
    {
     "data": {
      "text/html": [
       "<div>\n",
       "<style scoped>\n",
       "    .dataframe tbody tr th:only-of-type {\n",
       "        vertical-align: middle;\n",
       "    }\n",
       "\n",
       "    .dataframe tbody tr th {\n",
       "        vertical-align: top;\n",
       "    }\n",
       "\n",
       "    .dataframe thead th {\n",
       "        text-align: right;\n",
       "    }\n",
       "</style>\n",
       "<table border=\"1\" class=\"dataframe\">\n",
       "  <thead>\n",
       "    <tr style=\"text-align: right;\">\n",
       "      <th></th>\n",
       "      <th>FULL_EVENT</th>\n",
       "      <th>EVENT_COUNT</th>\n",
       "      <th>CUSTOMER_ID</th>\n",
       "      <th>EVENT_TEXT</th>\n",
       "      <th>event</th>\n",
       "      <th>module</th>\n",
       "      <th>url</th>\n",
       "    </tr>\n",
       "  </thead>\n",
       "  <tbody>\n",
       "    <tr>\n",
       "      <th>0</th>\n",
       "      <td>Nav Closed</td>\n",
       "      <td>4</td>\n",
       "      <td>3549194387553</td>\n",
       "      <td>Nav Closed</td>\n",
       "      <td>Nav Closed</td>\n",
       "      <td>None</td>\n",
       "      <td>None</td>\n",
       "    </tr>\n",
       "    <tr>\n",
       "      <th>1</th>\n",
       "      <td>Color Selected</td>\n",
       "      <td>5</td>\n",
       "      <td>3853578436705</td>\n",
       "      <td>Color Selected</td>\n",
       "      <td>Color Selected</td>\n",
       "      <td>None</td>\n",
       "      <td>None</td>\n",
       "    </tr>\n",
       "    <tr>\n",
       "      <th>2</th>\n",
       "      <td>Module Viewed_Authority figures_STOX Energy So...</td>\n",
       "      <td>1</td>\n",
       "      <td>3853725532257</td>\n",
       "      <td>Module Viewed</td>\n",
       "      <td>Module Viewed</td>\n",
       "      <td>Authority figures</td>\n",
       "      <td>STOX Energy Socks | Socken für Vitalität und W...</td>\n",
       "    </tr>\n",
       "    <tr>\n",
       "      <th>3</th>\n",
       "      <td>Module Viewed_Guarantee_Probieren Sie Unsere H...</td>\n",
       "      <td>2</td>\n",
       "      <td>3880689696865</td>\n",
       "      <td>Module Viewed</td>\n",
       "      <td>Module Viewed</td>\n",
       "      <td>Guarantee</td>\n",
       "      <td>Probieren Sie Unsere Hockey Socken Mit Kompres...</td>\n",
       "    </tr>\n",
       "    <tr>\n",
       "      <th>4</th>\n",
       "      <td>Homepage Hero Clicked</td>\n",
       "      <td>2</td>\n",
       "      <td>3874528297057</td>\n",
       "      <td>Homepage Hero Clicked</td>\n",
       "      <td>Homepage Hero Clicked</td>\n",
       "      <td>None</td>\n",
       "      <td>None</td>\n",
       "    </tr>\n",
       "  </tbody>\n",
       "</table>\n",
       "</div>"
      ],
      "text/plain": [
       "                                          FULL_EVENT  EVENT_COUNT  \\\n",
       "0                                         Nav Closed            4   \n",
       "1                                     Color Selected            5   \n",
       "2  Module Viewed_Authority figures_STOX Energy So...            1   \n",
       "3  Module Viewed_Guarantee_Probieren Sie Unsere H...            2   \n",
       "4                              Homepage Hero Clicked            2   \n",
       "\n",
       "     CUSTOMER_ID             EVENT_TEXT                  event  \\\n",
       "0  3549194387553             Nav Closed             Nav Closed   \n",
       "1  3853578436705         Color Selected         Color Selected   \n",
       "2  3853725532257          Module Viewed          Module Viewed   \n",
       "3  3880689696865          Module Viewed          Module Viewed   \n",
       "4  3874528297057  Homepage Hero Clicked  Homepage Hero Clicked   \n",
       "\n",
       "              module                                                url  \n",
       "0               None                                               None  \n",
       "1               None                                               None  \n",
       "2  Authority figures  STOX Energy Socks | Socken für Vitalität und W...  \n",
       "3          Guarantee  Probieren Sie Unsere Hockey Socken Mit Kompres...  \n",
       "4               None                                               None  "
      ]
     },
     "execution_count": 4,
     "metadata": {},
     "output_type": "execute_result"
    }
   ],
   "source": [
    "#splitting of the FULL_EVENT\n",
    "\n",
    "df[['event', 'module', 'url']] = df['FULL_EVENT'].str.split('_', 2, expand=True)\n",
    "df.head()"
   ]
  },
  {
   "cell_type": "code",
   "execution_count": 5,
   "metadata": {},
   "outputs": [],
   "source": [
    "#creation of the event_module part\n",
    "\n",
    "event_module = []\n",
    "\n",
    "for i, r in df.iterrows():\n",
    "    if r['event'] == 'Module Viewed':\n",
    "        event_module.append(r['event'] + \"_\" + r['module'])\n",
    "    else:\n",
    "        event_module.append(r['event'])"
   ]
  },
  {
   "cell_type": "code",
   "execution_count": 6,
   "metadata": {},
   "outputs": [],
   "source": [
    "df['event_module'] = event_module"
   ]
  },
  {
   "cell_type": "markdown",
   "metadata": {},
   "source": [
    "# 2. EDA"
   ]
  },
  {
   "cell_type": "markdown",
   "metadata": {},
   "source": [
    "## 2.1 general exploration"
   ]
  },
  {
   "cell_type": "code",
   "execution_count": 7,
   "metadata": {},
   "outputs": [
    {
     "name": "stdout",
     "output_type": "stream",
     "text": [
      "<class 'pandas.core.frame.DataFrame'>\n",
      "RangeIndex: 375968 entries, 0 to 375967\n",
      "Data columns (total 8 columns):\n",
      " #   Column        Non-Null Count   Dtype \n",
      "---  ------        --------------   ----- \n",
      " 0   FULL_EVENT    375968 non-null  object\n",
      " 1   EVENT_COUNT   375968 non-null  int64 \n",
      " 2   CUSTOMER_ID   375968 non-null  object\n",
      " 3   EVENT_TEXT    375968 non-null  object\n",
      " 4   event         375968 non-null  object\n",
      " 5   module        190643 non-null  object\n",
      " 6   url           190643 non-null  object\n",
      " 7   event_module  375968 non-null  object\n",
      "dtypes: int64(1), object(7)\n",
      "memory usage: 22.9+ MB\n"
     ]
    }
   ],
   "source": [
    "df.info()"
   ]
  },
  {
   "cell_type": "code",
   "execution_count": 8,
   "metadata": {},
   "outputs": [
    {
     "name": "stdout",
     "output_type": "stream",
     "text": [
      "(375968, 8)\n"
     ]
    },
    {
     "data": {
      "text/html": [
       "<div>\n",
       "<style scoped>\n",
       "    .dataframe tbody tr th:only-of-type {\n",
       "        vertical-align: middle;\n",
       "    }\n",
       "\n",
       "    .dataframe tbody tr th {\n",
       "        vertical-align: top;\n",
       "    }\n",
       "\n",
       "    .dataframe thead th {\n",
       "        text-align: right;\n",
       "    }\n",
       "</style>\n",
       "<table border=\"1\" class=\"dataframe\">\n",
       "  <thead>\n",
       "    <tr style=\"text-align: right;\">\n",
       "      <th></th>\n",
       "      <th>FULL_EVENT</th>\n",
       "      <th>EVENT_COUNT</th>\n",
       "      <th>CUSTOMER_ID</th>\n",
       "      <th>EVENT_TEXT</th>\n",
       "      <th>event</th>\n",
       "      <th>module</th>\n",
       "      <th>url</th>\n",
       "      <th>event_module</th>\n",
       "    </tr>\n",
       "  </thead>\n",
       "  <tbody>\n",
       "    <tr>\n",
       "      <th>0</th>\n",
       "      <td>Nav Closed</td>\n",
       "      <td>4</td>\n",
       "      <td>3549194387553</td>\n",
       "      <td>Nav Closed</td>\n",
       "      <td>Nav Closed</td>\n",
       "      <td>None</td>\n",
       "      <td>None</td>\n",
       "      <td>Nav Closed</td>\n",
       "    </tr>\n",
       "    <tr>\n",
       "      <th>1</th>\n",
       "      <td>Color Selected</td>\n",
       "      <td>5</td>\n",
       "      <td>3853578436705</td>\n",
       "      <td>Color Selected</td>\n",
       "      <td>Color Selected</td>\n",
       "      <td>None</td>\n",
       "      <td>None</td>\n",
       "      <td>Color Selected</td>\n",
       "    </tr>\n",
       "    <tr>\n",
       "      <th>2</th>\n",
       "      <td>Module Viewed_Authority figures_STOX Energy So...</td>\n",
       "      <td>1</td>\n",
       "      <td>3853725532257</td>\n",
       "      <td>Module Viewed</td>\n",
       "      <td>Module Viewed</td>\n",
       "      <td>Authority figures</td>\n",
       "      <td>STOX Energy Socks | Socken für Vitalität und W...</td>\n",
       "      <td>Module Viewed_Authority figures</td>\n",
       "    </tr>\n",
       "    <tr>\n",
       "      <th>3</th>\n",
       "      <td>Module Viewed_Guarantee_Probieren Sie Unsere H...</td>\n",
       "      <td>2</td>\n",
       "      <td>3880689696865</td>\n",
       "      <td>Module Viewed</td>\n",
       "      <td>Module Viewed</td>\n",
       "      <td>Guarantee</td>\n",
       "      <td>Probieren Sie Unsere Hockey Socken Mit Kompres...</td>\n",
       "      <td>Module Viewed_Guarantee</td>\n",
       "    </tr>\n",
       "    <tr>\n",
       "      <th>4</th>\n",
       "      <td>Homepage Hero Clicked</td>\n",
       "      <td>2</td>\n",
       "      <td>3874528297057</td>\n",
       "      <td>Homepage Hero Clicked</td>\n",
       "      <td>Homepage Hero Clicked</td>\n",
       "      <td>None</td>\n",
       "      <td>None</td>\n",
       "      <td>Homepage Hero Clicked</td>\n",
       "    </tr>\n",
       "  </tbody>\n",
       "</table>\n",
       "</div>"
      ],
      "text/plain": [
       "                                          FULL_EVENT  EVENT_COUNT  \\\n",
       "0                                         Nav Closed            4   \n",
       "1                                     Color Selected            5   \n",
       "2  Module Viewed_Authority figures_STOX Energy So...            1   \n",
       "3  Module Viewed_Guarantee_Probieren Sie Unsere H...            2   \n",
       "4                              Homepage Hero Clicked            2   \n",
       "\n",
       "     CUSTOMER_ID             EVENT_TEXT                  event  \\\n",
       "0  3549194387553             Nav Closed             Nav Closed   \n",
       "1  3853578436705         Color Selected         Color Selected   \n",
       "2  3853725532257          Module Viewed          Module Viewed   \n",
       "3  3880689696865          Module Viewed          Module Viewed   \n",
       "4  3874528297057  Homepage Hero Clicked  Homepage Hero Clicked   \n",
       "\n",
       "              module                                                url  \\\n",
       "0               None                                               None   \n",
       "1               None                                               None   \n",
       "2  Authority figures  STOX Energy Socks | Socken für Vitalität und W...   \n",
       "3          Guarantee  Probieren Sie Unsere Hockey Socken Mit Kompres...   \n",
       "4               None                                               None   \n",
       "\n",
       "                      event_module  \n",
       "0                       Nav Closed  \n",
       "1                   Color Selected  \n",
       "2  Module Viewed_Authority figures  \n",
       "3          Module Viewed_Guarantee  \n",
       "4            Homepage Hero Clicked  "
      ]
     },
     "execution_count": 8,
     "metadata": {},
     "output_type": "execute_result"
    }
   ],
   "source": [
    "print(df.shape)\n",
    "df.head()"
   ]
  },
  {
   "cell_type": "markdown",
   "metadata": {},
   "source": [
    "## 2.2 Occurence data"
   ]
  },
  {
   "cell_type": "code",
   "execution_count": 9,
   "metadata": {},
   "outputs": [
    {
     "name": "stdout",
     "output_type": "stream",
     "text": [
      "                         event_module  occurences\n",
      "0   Module Viewed_Featured Collection       62538\n",
      "1    Module Viewed_Product technology       24280\n",
      "2    Module Viewed_Collection details       22594\n",
      "3         Determine Checkout Language       20872\n",
      "4                     Order Completed       19302\n",
      "5             Module Viewed_Guarantee       19005\n",
      "6               Size Variant Selected       16808\n",
      "7                  Module Viewed_Hero       16795\n",
      "8                      Color Selected       13705\n",
      "9                  Collection Clicked       13634\n",
      "10              Module Viewed_Reviews       13014\n",
      "11               Product Info Clicked       11375\n",
      "12         Collection Gender Selected       11156\n",
      "13   Module Viewed_Product inspection       10921\n",
      "14                        Nav Clicked       10350\n",
      "15                      Footer Viewed        9712\n",
      "16                   Carousel Clicked        7535\n",
      "17                  Experiment Viewed        7455\n",
      "18             Module Viewed_Showcase        7317\n",
      "19                         Nav Opened        7225\n",
      "20                         Nav Closed        7155\n",
      "21              Homepage Hero Clicked        6012\n",
      "22       Module Viewed_Social Sharing        4336\n",
      "23         Module Viewed_Introduction        4167\n",
      "24                  Accordion Clicked        3673\n",
      "25                    Product Removed        3570\n",
      "26               Product Zoom Clicked        2827\n",
      "27                     Footer Clicked        2695\n",
      "28          Module Viewed_Video Block        2210\n",
      "29    Module Viewed_Authority figures        2101\n",
      "30              Review Anchor Clicked        1530\n",
      "31                   Blog Post Viewed        1280\n",
      "32                  Load More Reviews        1269\n",
      "33              Amazon Button Clicked        1051\n",
      "34                  Guarantee Clicked         925\n",
      "35           Module Viewed_Hero Block         830\n",
      "36             Technology Page Viewed         696\n",
      "37          Collection Anchor Clicked         585\n",
      "38               Announcement Clicked         527\n",
      "39                 Review Page Viewed         501\n",
      "40            Module Viewed_Usp Block         465\n",
      "41            Email Capture Submitted         452\n",
      "42               Email Capture Closed         428\n",
      "43              Search Result Clicked         363\n",
      "44                  Language Selected         230\n",
      "45                Notification Viewed         141\n",
      "46                       Video Opened          80\n",
      "47          Module Viewed_Quote Block          70\n",
      "48           Landingpage Hero Clicked          46\n",
      "49                  Blog Post Clicked          42\n",
      "50            Homepage Review Clicked          39\n",
      "51                  Currency Selected          35\n",
      "52                  Location Selected          22\n",
      "53                Notification Closed          16\n",
      "54              Blogpage Hero Clicked           6\n"
     ]
    },
    {
     "data": {
      "text/plain": [
       "Index(['event_module', 'occurences'], dtype='object')"
      ]
     },
     "execution_count": 9,
     "metadata": {},
     "output_type": "execute_result"
    }
   ],
   "source": [
    "df_occ = pd.DataFrame(df['event_module'].value_counts())\n",
    "\n",
    "df_occ.reset_index(inplace=True)\n",
    "df_occ.columns = ['event_module','occurences']\n",
    "\n",
    "print(df_occ)\n",
    "df_occ.columns"
   ]
  },
  {
   "cell_type": "markdown",
   "metadata": {},
   "source": [
    "## 2.3 Predicted variable"
   ]
  },
  {
   "cell_type": "code",
   "execution_count": 10,
   "metadata": {},
   "outputs": [
    {
     "name": "stdout",
     "output_type": "stream",
     "text": [
      "converting users:19302\n",
      "non-converting users:27724\n"
     ]
    }
   ],
   "source": [
    "conv_users = []\n",
    "non_conv = []\n",
    "\n",
    "for index, row in df.iterrows():\n",
    "    if row['event_module'] == 'Order Completed':\n",
    "        conv_users.append(row['CUSTOMER_ID'])\n",
    "    else:\n",
    "        non_conv.append(row['CUSTOMER_ID'])\n",
    "\n",
    "conv_users = list(dict.fromkeys(conv_users))\n",
    "\n",
    "        \n",
    "print(\"converting users:\" + str(len(set(conv_users))))\n",
    "print(\"non-converting users:\" + str(len(set(non_conv))))"
   ]
  },
  {
   "cell_type": "markdown",
   "metadata": {},
   "source": [
    "# 3. Clean"
   ]
  },
  {
   "cell_type": "markdown",
   "metadata": {},
   "source": [
    "## 3.1 Unnecessary columns\n",
    "We remove the unnecessary columns that we will not use for this analysis."
   ]
  },
  {
   "cell_type": "code",
   "execution_count": 11,
   "metadata": {},
   "outputs": [],
   "source": [
    "df.drop([\"EVENT_TEXT\", \"url\",\"event\", \"FULL_EVENT\", \"module\"], axis=1, inplace=True)"
   ]
  },
  {
   "cell_type": "code",
   "execution_count": 12,
   "metadata": {},
   "outputs": [
    {
     "data": {
      "text/plain": [
       "Index(['EVENT_COUNT', 'CUSTOMER_ID', 'event_module'], dtype='object')"
      ]
     },
     "execution_count": 12,
     "metadata": {},
     "output_type": "execute_result"
    }
   ],
   "source": [
    "df.columns"
   ]
  },
  {
   "cell_type": "markdown",
   "metadata": {},
   "source": [
    "## 3.2 Legacy events"
   ]
  },
  {
   "cell_type": "markdown",
   "metadata": {},
   "source": [
    "After some researches, we could say that the following factors existed only for test purpose and can be removed:\n",
    "- Blog Post Seen\n",
    "- Guarantee Viewed\n",
    "- Reviews Viewed\n",
    "- Review Page Seen\n",
    "- Technology Page Seen\n",
    "\n",
    "\n",
    "Because they are legacy:                      \n",
    "- Module Viewed_About body           \n",
    "- Module Viewed_About hero\n",
    "- Module Viewed_Authority  \n",
    "- Module Viewed_Blog hero             \n",
    "- Module Viewed_Blog posts\n",
    "- Module Viewed_Collection products\n",
    "- Module Viewed_Guarantee Block\n",
    "- Module Viewed_Hero Block\n",
    "- Module Viewed_Information Block\n",
    "- Module Viewed_Media\n",
    "- Module Viewed_Media Block\n",
    "- Module Viewed_Product reviews                    \n",
    "- Module Viewed_Product form\n",
    "- Module Viewed_Review Block \n",
    "- Module Viewed_Social\n",
    "- Module Viewed_Store Reviews   \n",
    "- Module Viewed_Usp Block\n",
    "\n",
    "Was removed:\n",
    "- Footer_Viewed:                    because we have 'Footer_clicked'\n",
    "- Module Viewed_Tile Block:         useless to describe behavior\n",
    "\n",
    "Was engineered:\n",
    "- Module Viewed_Video Block + Module Viewed_Authority figures = Module Viewed_Middle Home Page\n",
    "- Module Viewed_Showcase + Module Viewed_Introduction = Module Viewed_Top Home Page\n",
    "- Module Viewed_Product inspection + Module Viewed_Product technology = Module Viewed_Middle Home Page\n",
    "\n",
    "It was considered to remove the following, but they weren't:\n",
    "- Product List Viewed:              it was a unique event of the collection page\n",
    "- Email Capture Viewed:             96% of it is seen in the footer, which has its own event also triggered\n",
    "- Search Clicked:                   We used Search Results Clicked as proxy of the search usefulness\n",
    "- Module Viewed_Hero:               We consider that everyone saw it\n",
    "- Category Page Viewed:             because we use, as proxy, Collection Clicked\n",
    "- Collection Page Viewed:           because we use, as proxy, Collection Clicked  \n",
    "- Module Viewed_Collection details: people scroll product page \n",
    "- Footer_Viewed:                    appears too correlated with multiple events\n",
    "- Nav Clicked:                      same\n",
    "- Module Viewed_Reviews:            same\n",
    "- Module Viewed_Featured Collection:same"
   ]
  },
  {
   "cell_type": "code",
   "execution_count": 13,
   "metadata": {},
   "outputs": [],
   "source": [
    "#list of element necessary for a conversion\n",
    "nec_conv = ['Cart Viewed', \n",
    "            'Checkout Started', \n",
    "            'Checkout Step Viewed',\n",
    "            'Determine Checkout Language',\n",
    "            'Product Added', \n",
    "            'Product Clicked', \n",
    "            'Product Viewed']\n",
    "\n",
    "#We need to drop all the rows that were only used for test purposes\n",
    "test_events = ['Blog Post Seen',\n",
    "               'Guarantee Viewed',\n",
    "               'Review Page Seen', \n",
    "               'Reviews Viewed',\n",
    "               'Technology Page Seen']               \n",
    "\n",
    "legacy_events = ['Module Viewed_About body',\n",
    "                 'Module Viewed_About hero', \n",
    "                 'Module Viewed_Authority',\n",
    "                 'Module Viewed_Blog hero', \n",
    "                 'Module Viewed_Blog posts', \n",
    "                 'Module Viewed_Collection products',\n",
    "                 'Module Viewed_Guarantee Block',\n",
    "                 'Module Viewed_Hero Block',\n",
    "                 'Module Viewed_Information Block',\n",
    "                 'Module Viewed_Media',\n",
    "                 'Module Viewed_Media Block', \n",
    "                 'Module Viewed_Product reviews',\n",
    "                 'Module Viewed_Product form',\n",
    "                 'Module Viewed_Review Block', \n",
    "                 'Module Viewed_Store Reviews', \n",
    "                 'Module Viewed_Usp Block']\n",
    "\n",
    "removed_list = ['Footer Viewed',\n",
    "                'Module Viewed_Tile Block']\n",
    "\n",
    "#final list\n",
    "final_list = nec_conv + test_events + legacy_events + removed_list"
   ]
  },
  {
   "cell_type": "markdown",
   "metadata": {},
   "source": [
    "## 3.3 Country_specific"
   ]
  },
  {
   "cell_type": "markdown",
   "metadata": {},
   "source": [
    "Warnings:\n",
    "The following list has a too high level of correlation to be kept (name + VIF):\n",
    "- Collection Clicked  5.203669"
   ]
  },
  {
   "cell_type": "code",
   "execution_count": 14,
   "metadata": {},
   "outputs": [],
   "source": [
    "del_event = ['Collection Clicked']\n",
    "\n",
    "final_list = final_list + del_event\n",
    "\n",
    "df2 = df[~df.event_module.isin(final_list)]"
   ]
  },
  {
   "cell_type": "markdown",
   "metadata": {},
   "source": [
    "# 4. Statistical logistic regression\n",
    "\n",
    "It seems that doing ML on the Jupyter has reached its limit. So I will work from a pure stastical point of view to get the results.\n",
    "\n",
    "The assumptions are:\n",
    "- Binary logistic regression requires the dependent variable to be binary.\n",
    "- For a binary regression, the factor level 1 of the dependent variable should represent the desired outcome.\n",
    "- Only the meaningful variables should be included.\n",
    "- The independent variables should be independent of each other. That is, the model should have little or no multicollinearity.\n",
    "- The independent variables are linearly related to the log odds. (~ means excluding due to p-values)\n",
    "- Logistic regression requires quite large sample sizes."
   ]
  },
  {
   "cell_type": "markdown",
   "metadata": {},
   "source": [
    "## 4.1 Dummification"
   ]
  },
  {
   "cell_type": "code",
   "execution_count": 15,
   "metadata": {},
   "outputs": [],
   "source": [
    "pivot = df2.pivot_table(index='CUSTOMER_ID', columns='event_module', values='EVENT_COUNT')\n",
    "pivot.fillna(0,inplace=True)"
   ]
  },
  {
   "cell_type": "code",
   "execution_count": 16,
   "metadata": {
    "scrolled": false
   },
   "outputs": [
    {
     "data": {
      "text/html": [
       "<div>\n",
       "<style scoped>\n",
       "    .dataframe tbody tr th:only-of-type {\n",
       "        vertical-align: middle;\n",
       "    }\n",
       "\n",
       "    .dataframe tbody tr th {\n",
       "        vertical-align: top;\n",
       "    }\n",
       "\n",
       "    .dataframe thead th {\n",
       "        text-align: right;\n",
       "    }\n",
       "</style>\n",
       "<table border=\"1\" class=\"dataframe\">\n",
       "  <thead>\n",
       "    <tr style=\"text-align: right;\">\n",
       "      <th>event_module</th>\n",
       "      <th>Accordion Clicked</th>\n",
       "      <th>Amazon Button Clicked</th>\n",
       "      <th>Announcement Clicked</th>\n",
       "      <th>Blog Post Clicked</th>\n",
       "      <th>Blog Post Viewed</th>\n",
       "      <th>Blogpage Hero Clicked</th>\n",
       "      <th>Carousel Clicked</th>\n",
       "      <th>Collection Anchor Clicked</th>\n",
       "      <th>Collection Gender Selected</th>\n",
       "      <th>Color Selected</th>\n",
       "      <th>...</th>\n",
       "      <th>Order Completed</th>\n",
       "      <th>Product Info Clicked</th>\n",
       "      <th>Product Removed</th>\n",
       "      <th>Product Zoom Clicked</th>\n",
       "      <th>Review Anchor Clicked</th>\n",
       "      <th>Review Page Viewed</th>\n",
       "      <th>Search Result Clicked</th>\n",
       "      <th>Size Variant Selected</th>\n",
       "      <th>Technology Page Viewed</th>\n",
       "      <th>Video Opened</th>\n",
       "    </tr>\n",
       "    <tr>\n",
       "      <th>CUSTOMER_ID</th>\n",
       "      <th></th>\n",
       "      <th></th>\n",
       "      <th></th>\n",
       "      <th></th>\n",
       "      <th></th>\n",
       "      <th></th>\n",
       "      <th></th>\n",
       "      <th></th>\n",
       "      <th></th>\n",
       "      <th></th>\n",
       "      <th></th>\n",
       "      <th></th>\n",
       "      <th></th>\n",
       "      <th></th>\n",
       "      <th></th>\n",
       "      <th></th>\n",
       "      <th></th>\n",
       "      <th></th>\n",
       "      <th></th>\n",
       "      <th></th>\n",
       "      <th></th>\n",
       "    </tr>\n",
       "  </thead>\n",
       "  <tbody>\n",
       "    <tr>\n",
       "      <th>001698c1-e47a-4f20-87b2-0de4a3b9d83c</th>\n",
       "      <td>0.0</td>\n",
       "      <td>0.0</td>\n",
       "      <td>0.0</td>\n",
       "      <td>0.0</td>\n",
       "      <td>0.0</td>\n",
       "      <td>0.0</td>\n",
       "      <td>1.0</td>\n",
       "      <td>0.0</td>\n",
       "      <td>0.0</td>\n",
       "      <td>3.0</td>\n",
       "      <td>...</td>\n",
       "      <td>0.0</td>\n",
       "      <td>4.0</td>\n",
       "      <td>0.0</td>\n",
       "      <td>0.0</td>\n",
       "      <td>0.0</td>\n",
       "      <td>0.0</td>\n",
       "      <td>0.0</td>\n",
       "      <td>0.0</td>\n",
       "      <td>0.0</td>\n",
       "      <td>0.0</td>\n",
       "    </tr>\n",
       "    <tr>\n",
       "      <th>00195b8a-3379-4696-945d-d14374cd855e</th>\n",
       "      <td>0.0</td>\n",
       "      <td>0.0</td>\n",
       "      <td>0.0</td>\n",
       "      <td>0.0</td>\n",
       "      <td>0.0</td>\n",
       "      <td>0.0</td>\n",
       "      <td>0.0</td>\n",
       "      <td>0.0</td>\n",
       "      <td>10.0</td>\n",
       "      <td>10.0</td>\n",
       "      <td>...</td>\n",
       "      <td>1.0</td>\n",
       "      <td>7.0</td>\n",
       "      <td>1.0</td>\n",
       "      <td>1.0</td>\n",
       "      <td>0.0</td>\n",
       "      <td>0.0</td>\n",
       "      <td>0.0</td>\n",
       "      <td>3.0</td>\n",
       "      <td>0.0</td>\n",
       "      <td>0.0</td>\n",
       "    </tr>\n",
       "    <tr>\n",
       "      <th>001b58f7-9d60-402c-836f-9b8cbff38a7d</th>\n",
       "      <td>0.0</td>\n",
       "      <td>0.0</td>\n",
       "      <td>0.0</td>\n",
       "      <td>0.0</td>\n",
       "      <td>0.0</td>\n",
       "      <td>0.0</td>\n",
       "      <td>0.0</td>\n",
       "      <td>0.0</td>\n",
       "      <td>0.0</td>\n",
       "      <td>0.0</td>\n",
       "      <td>...</td>\n",
       "      <td>0.0</td>\n",
       "      <td>0.0</td>\n",
       "      <td>0.0</td>\n",
       "      <td>0.0</td>\n",
       "      <td>0.0</td>\n",
       "      <td>0.0</td>\n",
       "      <td>0.0</td>\n",
       "      <td>0.0</td>\n",
       "      <td>0.0</td>\n",
       "      <td>0.0</td>\n",
       "    </tr>\n",
       "    <tr>\n",
       "      <th>001edff8-d1d7-4749-9743-4bd4738ad6e5</th>\n",
       "      <td>0.0</td>\n",
       "      <td>0.0</td>\n",
       "      <td>0.0</td>\n",
       "      <td>0.0</td>\n",
       "      <td>0.0</td>\n",
       "      <td>0.0</td>\n",
       "      <td>0.0</td>\n",
       "      <td>0.0</td>\n",
       "      <td>0.0</td>\n",
       "      <td>0.0</td>\n",
       "      <td>...</td>\n",
       "      <td>0.0</td>\n",
       "      <td>0.0</td>\n",
       "      <td>0.0</td>\n",
       "      <td>0.0</td>\n",
       "      <td>0.0</td>\n",
       "      <td>0.0</td>\n",
       "      <td>0.0</td>\n",
       "      <td>0.0</td>\n",
       "      <td>0.0</td>\n",
       "      <td>0.0</td>\n",
       "    </tr>\n",
       "    <tr>\n",
       "      <th>0022586d-e2c3-4a27-bc24-39ba5b1ae66f</th>\n",
       "      <td>0.0</td>\n",
       "      <td>0.0</td>\n",
       "      <td>0.0</td>\n",
       "      <td>0.0</td>\n",
       "      <td>0.0</td>\n",
       "      <td>0.0</td>\n",
       "      <td>0.0</td>\n",
       "      <td>0.0</td>\n",
       "      <td>0.0</td>\n",
       "      <td>0.0</td>\n",
       "      <td>...</td>\n",
       "      <td>0.0</td>\n",
       "      <td>0.0</td>\n",
       "      <td>0.0</td>\n",
       "      <td>0.0</td>\n",
       "      <td>0.0</td>\n",
       "      <td>0.0</td>\n",
       "      <td>0.0</td>\n",
       "      <td>0.0</td>\n",
       "      <td>0.0</td>\n",
       "      <td>0.0</td>\n",
       "    </tr>\n",
       "  </tbody>\n",
       "</table>\n",
       "<p>5 rows × 50 columns</p>\n",
       "</div>"
      ],
      "text/plain": [
       "event_module                          Accordion Clicked  \\\n",
       "CUSTOMER_ID                                               \n",
       "001698c1-e47a-4f20-87b2-0de4a3b9d83c                0.0   \n",
       "00195b8a-3379-4696-945d-d14374cd855e                0.0   \n",
       "001b58f7-9d60-402c-836f-9b8cbff38a7d                0.0   \n",
       "001edff8-d1d7-4749-9743-4bd4738ad6e5                0.0   \n",
       "0022586d-e2c3-4a27-bc24-39ba5b1ae66f                0.0   \n",
       "\n",
       "event_module                          Amazon Button Clicked  \\\n",
       "CUSTOMER_ID                                                   \n",
       "001698c1-e47a-4f20-87b2-0de4a3b9d83c                    0.0   \n",
       "00195b8a-3379-4696-945d-d14374cd855e                    0.0   \n",
       "001b58f7-9d60-402c-836f-9b8cbff38a7d                    0.0   \n",
       "001edff8-d1d7-4749-9743-4bd4738ad6e5                    0.0   \n",
       "0022586d-e2c3-4a27-bc24-39ba5b1ae66f                    0.0   \n",
       "\n",
       "event_module                          Announcement Clicked  Blog Post Clicked  \\\n",
       "CUSTOMER_ID                                                                     \n",
       "001698c1-e47a-4f20-87b2-0de4a3b9d83c                   0.0                0.0   \n",
       "00195b8a-3379-4696-945d-d14374cd855e                   0.0                0.0   \n",
       "001b58f7-9d60-402c-836f-9b8cbff38a7d                   0.0                0.0   \n",
       "001edff8-d1d7-4749-9743-4bd4738ad6e5                   0.0                0.0   \n",
       "0022586d-e2c3-4a27-bc24-39ba5b1ae66f                   0.0                0.0   \n",
       "\n",
       "event_module                          Blog Post Viewed  Blogpage Hero Clicked  \\\n",
       "CUSTOMER_ID                                                                     \n",
       "001698c1-e47a-4f20-87b2-0de4a3b9d83c               0.0                    0.0   \n",
       "00195b8a-3379-4696-945d-d14374cd855e               0.0                    0.0   \n",
       "001b58f7-9d60-402c-836f-9b8cbff38a7d               0.0                    0.0   \n",
       "001edff8-d1d7-4749-9743-4bd4738ad6e5               0.0                    0.0   \n",
       "0022586d-e2c3-4a27-bc24-39ba5b1ae66f               0.0                    0.0   \n",
       "\n",
       "event_module                          Carousel Clicked  \\\n",
       "CUSTOMER_ID                                              \n",
       "001698c1-e47a-4f20-87b2-0de4a3b9d83c               1.0   \n",
       "00195b8a-3379-4696-945d-d14374cd855e               0.0   \n",
       "001b58f7-9d60-402c-836f-9b8cbff38a7d               0.0   \n",
       "001edff8-d1d7-4749-9743-4bd4738ad6e5               0.0   \n",
       "0022586d-e2c3-4a27-bc24-39ba5b1ae66f               0.0   \n",
       "\n",
       "event_module                          Collection Anchor Clicked  \\\n",
       "CUSTOMER_ID                                                       \n",
       "001698c1-e47a-4f20-87b2-0de4a3b9d83c                        0.0   \n",
       "00195b8a-3379-4696-945d-d14374cd855e                        0.0   \n",
       "001b58f7-9d60-402c-836f-9b8cbff38a7d                        0.0   \n",
       "001edff8-d1d7-4749-9743-4bd4738ad6e5                        0.0   \n",
       "0022586d-e2c3-4a27-bc24-39ba5b1ae66f                        0.0   \n",
       "\n",
       "event_module                          Collection Gender Selected  \\\n",
       "CUSTOMER_ID                                                        \n",
       "001698c1-e47a-4f20-87b2-0de4a3b9d83c                         0.0   \n",
       "00195b8a-3379-4696-945d-d14374cd855e                        10.0   \n",
       "001b58f7-9d60-402c-836f-9b8cbff38a7d                         0.0   \n",
       "001edff8-d1d7-4749-9743-4bd4738ad6e5                         0.0   \n",
       "0022586d-e2c3-4a27-bc24-39ba5b1ae66f                         0.0   \n",
       "\n",
       "event_module                          Color Selected  ...  Order Completed  \\\n",
       "CUSTOMER_ID                                           ...                    \n",
       "001698c1-e47a-4f20-87b2-0de4a3b9d83c             3.0  ...              0.0   \n",
       "00195b8a-3379-4696-945d-d14374cd855e            10.0  ...              1.0   \n",
       "001b58f7-9d60-402c-836f-9b8cbff38a7d             0.0  ...              0.0   \n",
       "001edff8-d1d7-4749-9743-4bd4738ad6e5             0.0  ...              0.0   \n",
       "0022586d-e2c3-4a27-bc24-39ba5b1ae66f             0.0  ...              0.0   \n",
       "\n",
       "event_module                          Product Info Clicked  Product Removed  \\\n",
       "CUSTOMER_ID                                                                   \n",
       "001698c1-e47a-4f20-87b2-0de4a3b9d83c                   4.0              0.0   \n",
       "00195b8a-3379-4696-945d-d14374cd855e                   7.0              1.0   \n",
       "001b58f7-9d60-402c-836f-9b8cbff38a7d                   0.0              0.0   \n",
       "001edff8-d1d7-4749-9743-4bd4738ad6e5                   0.0              0.0   \n",
       "0022586d-e2c3-4a27-bc24-39ba5b1ae66f                   0.0              0.0   \n",
       "\n",
       "event_module                          Product Zoom Clicked  \\\n",
       "CUSTOMER_ID                                                  \n",
       "001698c1-e47a-4f20-87b2-0de4a3b9d83c                   0.0   \n",
       "00195b8a-3379-4696-945d-d14374cd855e                   1.0   \n",
       "001b58f7-9d60-402c-836f-9b8cbff38a7d                   0.0   \n",
       "001edff8-d1d7-4749-9743-4bd4738ad6e5                   0.0   \n",
       "0022586d-e2c3-4a27-bc24-39ba5b1ae66f                   0.0   \n",
       "\n",
       "event_module                          Review Anchor Clicked  \\\n",
       "CUSTOMER_ID                                                   \n",
       "001698c1-e47a-4f20-87b2-0de4a3b9d83c                    0.0   \n",
       "00195b8a-3379-4696-945d-d14374cd855e                    0.0   \n",
       "001b58f7-9d60-402c-836f-9b8cbff38a7d                    0.0   \n",
       "001edff8-d1d7-4749-9743-4bd4738ad6e5                    0.0   \n",
       "0022586d-e2c3-4a27-bc24-39ba5b1ae66f                    0.0   \n",
       "\n",
       "event_module                          Review Page Viewed  \\\n",
       "CUSTOMER_ID                                                \n",
       "001698c1-e47a-4f20-87b2-0de4a3b9d83c                 0.0   \n",
       "00195b8a-3379-4696-945d-d14374cd855e                 0.0   \n",
       "001b58f7-9d60-402c-836f-9b8cbff38a7d                 0.0   \n",
       "001edff8-d1d7-4749-9743-4bd4738ad6e5                 0.0   \n",
       "0022586d-e2c3-4a27-bc24-39ba5b1ae66f                 0.0   \n",
       "\n",
       "event_module                          Search Result Clicked  \\\n",
       "CUSTOMER_ID                                                   \n",
       "001698c1-e47a-4f20-87b2-0de4a3b9d83c                    0.0   \n",
       "00195b8a-3379-4696-945d-d14374cd855e                    0.0   \n",
       "001b58f7-9d60-402c-836f-9b8cbff38a7d                    0.0   \n",
       "001edff8-d1d7-4749-9743-4bd4738ad6e5                    0.0   \n",
       "0022586d-e2c3-4a27-bc24-39ba5b1ae66f                    0.0   \n",
       "\n",
       "event_module                          Size Variant Selected  \\\n",
       "CUSTOMER_ID                                                   \n",
       "001698c1-e47a-4f20-87b2-0de4a3b9d83c                    0.0   \n",
       "00195b8a-3379-4696-945d-d14374cd855e                    3.0   \n",
       "001b58f7-9d60-402c-836f-9b8cbff38a7d                    0.0   \n",
       "001edff8-d1d7-4749-9743-4bd4738ad6e5                    0.0   \n",
       "0022586d-e2c3-4a27-bc24-39ba5b1ae66f                    0.0   \n",
       "\n",
       "event_module                          Technology Page Viewed  Video Opened  \n",
       "CUSTOMER_ID                                                                 \n",
       "001698c1-e47a-4f20-87b2-0de4a3b9d83c                     0.0           0.0  \n",
       "00195b8a-3379-4696-945d-d14374cd855e                     0.0           0.0  \n",
       "001b58f7-9d60-402c-836f-9b8cbff38a7d                     0.0           0.0  \n",
       "001edff8-d1d7-4749-9743-4bd4738ad6e5                     0.0           0.0  \n",
       "0022586d-e2c3-4a27-bc24-39ba5b1ae66f                     0.0           0.0  \n",
       "\n",
       "[5 rows x 50 columns]"
      ]
     },
     "execution_count": 16,
     "metadata": {},
     "output_type": "execute_result"
    }
   ],
   "source": [
    "pivot.head()"
   ]
  },
  {
   "cell_type": "code",
   "execution_count": 17,
   "metadata": {},
   "outputs": [
    {
     "data": {
      "text/plain": [
       "(27499, 50)"
      ]
     },
     "execution_count": 17,
     "metadata": {},
     "output_type": "execute_result"
    }
   ],
   "source": [
    "pivot.shape"
   ]
  },
  {
   "cell_type": "markdown",
   "metadata": {},
   "source": [
    "## 4.2 multicolinearity\n",
    "\n",
    "We use the Variance Inflation Factor results. A VIF above 5 means high multicollinearity.\n",
    "\n",
    "The interpretation of a regression coefficient is that it represents the mean change in the dependent variable for each 1 unit change in an independent variable when you hold all of the other independent variables constant. That last portion is crucial for our discussion about multicollinearity.\n",
    "\n",
    "If two variables have high multicollinearity, it will highly influence on the p-value and any slight change in the model might create highly different results. But it doensn't overall affect the prediction power, only the weights and p-value.\n",
    "\n",
    "source: https://statisticsbyjim.com/regression/multicollinearity-in-regression-analysis/"
   ]
  },
  {
   "cell_type": "markdown",
   "metadata": {},
   "source": [
    "To go further with PCA and Ridge: https://www.researchgate.net/post/How_do_I_minimize_multicollinearity_in_multiple_regression_analysis"
   ]
  },
  {
   "cell_type": "code",
   "execution_count": 18,
   "metadata": {},
   "outputs": [],
   "source": [
    "from statsmodels.stats.outliers_influence import variance_inflation_factor \n",
    "\n",
    "def high_vif_pivot(pivot):\n",
    "    global y\n",
    "    global X\n",
    "    y = pivot['Order Completed']\n",
    "    X = pivot.drop(['Order Completed'], axis=1)\n",
    "    vif_data = pd.DataFrame() \n",
    "    vif_data[\"feature\"] = X.columns \n",
    "    vif_data[\"VIF\"] = [variance_inflation_factor(X.values, i) for i in range(len(X.columns))] \n",
    "    global high_vif\n",
    "    high_vif = vif_data[vif_data['VIF']>5]\n",
    "    print(high_vif)\n",
    "    \n",
    "    "
   ]
  },
  {
   "cell_type": "code",
   "execution_count": 19,
   "metadata": {},
   "outputs": [],
   "source": [
    "def most_inf_factors(high_vif, X):\n",
    "    corr = X.corr().abs()\n",
    "    corr.reset_index(inplace=True)\n",
    "    corr_c = corr[corr.event_module.isin(high_vif['feature'])]\n",
    "    print(\"this is corr_c shape: \"+str(corr_c.shape))\n",
    "    corr_c = corr_c.replace(1.0, 0.0)\n",
    "    list_max = []\n",
    "    list_name_max = []\n",
    "    value_only = corr_c[corr_c.columns[1:]]\n",
    "    for index, row in value_only.iterrows():\n",
    "        list_max.append(row.max())\n",
    "        list_name_max.append(row.idxmax())\n",
    "    corr_c['list_max'] = list_max\n",
    "    corr_c['list_name_max'] = list_name_max\n",
    "    print(corr_c[['event_module', 'list_max', 'list_name_max']])"
   ]
  },
  {
   "cell_type": "code",
   "execution_count": 20,
   "metadata": {},
   "outputs": [
    {
     "name": "stdout",
     "output_type": "stream",
     "text": [
      "                             feature        VIF\n",
      "22   Module Viewed_Authority figures   9.301023\n",
      "27        Module Viewed_Introduction   5.359353\n",
      "28  Module Viewed_Product inspection   6.491945\n",
      "29  Module Viewed_Product technology   5.374449\n",
      "31             Module Viewed_Reviews   7.419331\n",
      "32            Module Viewed_Showcase   5.063044\n",
      "34         Module Viewed_Video Block  10.509432\n"
     ]
    }
   ],
   "source": [
    "high_vif_pivot(pivot)"
   ]
  },
  {
   "cell_type": "code",
   "execution_count": 21,
   "metadata": {},
   "outputs": [
    {
     "name": "stdout",
     "output_type": "stream",
     "text": [
      "this is corr_c shape: (7, 50)\n",
      "event_module                      event_module  list_max  \\\n",
      "22             Module Viewed_Authority figures  0.926390   \n",
      "27                  Module Viewed_Introduction  0.824250   \n",
      "28            Module Viewed_Product inspection  0.824284   \n",
      "29            Module Viewed_Product technology  0.766580   \n",
      "31                       Module Viewed_Reviews  0.824284   \n",
      "32                      Module Viewed_Showcase  0.824250   \n",
      "34                   Module Viewed_Video Block  0.926390   \n",
      "\n",
      "event_module                      list_name_max  \n",
      "22                    Module Viewed_Video Block  \n",
      "27                       Module Viewed_Showcase  \n",
      "28                        Module Viewed_Reviews  \n",
      "29            Module Viewed_Featured Collection  \n",
      "31             Module Viewed_Product inspection  \n",
      "32                   Module Viewed_Introduction  \n",
      "34              Module Viewed_Authority figures  \n"
     ]
    }
   ],
   "source": [
    "most_inf_factors(high_vif,X)"
   ]
  },
  {
   "cell_type": "markdown",
   "metadata": {},
   "source": [
    "## 4.3 Feature engineering"
   ]
  },
  {
   "cell_type": "code",
   "execution_count": 22,
   "metadata": {},
   "outputs": [
    {
     "name": "stdout",
     "output_type": "stream",
     "text": [
      "(27499, 46)\n"
     ]
    }
   ],
   "source": [
    "pivot['Module Viewed_Middle Home Page'] = pivot['Module Viewed_Video Block'] + pivot['Module Viewed_Authority figures']\n",
    "pivot['Module Viewed_Top Home Page'] = pivot['Module Viewed_Showcase'] + pivot['Module Viewed_Introduction']\n",
    "pivot['Module Viewed_Middle Product Page'] = pivot['Module Viewed_Product inspection'] + pivot['Module Viewed_Product technology'] + pivot['Module Viewed_Reviews']\n",
    "\n",
    "pivot.drop(['Module Viewed_Video Block', 'Module Viewed_Authority figures', 'Module Viewed_Showcase', \n",
    "            'Module Viewed_Introduction', 'Module Viewed_Product inspection', 'Module Viewed_Product technology',\n",
    "           'Module Viewed_Reviews'], \n",
    "           axis=1, inplace = True)\n",
    "print(pivot.shape)"
   ]
  },
  {
   "cell_type": "code",
   "execution_count": 23,
   "metadata": {},
   "outputs": [
    {
     "name": "stdout",
     "output_type": "stream",
     "text": [
      "Empty DataFrame\n",
      "Columns: [feature, VIF]\n",
      "Index: []\n"
     ]
    }
   ],
   "source": [
    "high_vif_pivot(pivot)"
   ]
  },
  {
   "cell_type": "markdown",
   "metadata": {},
   "source": [
    "Our list of high-vif value is empty, so we can now model"
   ]
  },
  {
   "cell_type": "markdown",
   "metadata": {},
   "source": [
    "# 5. Modelling\n",
    "Now let's regress our logistic regression."
   ]
  },
  {
   "cell_type": "code",
   "execution_count": 46,
   "metadata": {},
   "outputs": [],
   "source": [
    "y = []"
   ]
  },
  {
   "cell_type": "code",
   "execution_count": 47,
   "metadata": {},
   "outputs": [],
   "source": [
    "for i in pivot['Order Completed']:\n",
    "    if i >= 1:\n",
    "        y.append(1)\n",
    "    else:\n",
    "        y.append(0)\n",
    "        \n",
    "X = pivot.drop(['Order Completed'], axis=1)\n",
    "\n",
    "X=sm.add_constant(X)\n",
    "X_train, X_test, y_train, y_test = train_test_split(X, y, test_size=0.2, random_state=0)"
   ]
  },
  {
   "cell_type": "code",
   "execution_count": 48,
   "metadata": {},
   "outputs": [
    {
     "name": "stdout",
     "output_type": "stream",
     "text": [
      "19302\n",
      "8197\n"
     ]
    }
   ],
   "source": [
    "print(y.count(1))\n",
    "print(y.count(0))"
   ]
  },
  {
   "cell_type": "code",
   "execution_count": 49,
   "metadata": {},
   "outputs": [
    {
     "name": "stdout",
     "output_type": "stream",
     "text": [
      "Warning: Maximum number of iterations has been exceeded.\n",
      "         Current function value: 0.437087\n",
      "         Iterations: 35\n",
      "         Function evaluations: 39\n",
      "         Gradient evaluations: 39\n"
     ]
    },
    {
     "name": "stderr",
     "output_type": "stream",
     "text": [
      "C:\\Users\\Arthu\\anaconda3\\lib\\site-packages\\statsmodels\\base\\model.py:566: ConvergenceWarning: Maximum Likelihood optimization failed to converge. Check mle_retvals\n",
      "  warnings.warn(\"Maximum Likelihood optimization failed to \"\n"
     ]
    }
   ],
   "source": [
    "model=sm.Logit(y_train,X_train,random_state=0)\n",
    "result=model.fit(max_iter=40, method='bfgs')"
   ]
  },
  {
   "cell_type": "code",
   "execution_count": 50,
   "metadata": {},
   "outputs": [],
   "source": [
    "opt_thr=0.5\n",
    "y_pred=result.predict(X_test)\n",
    "y_pred= np.where(y_pred>opt_thr,1,0)"
   ]
  },
  {
   "cell_type": "code",
   "execution_count": 51,
   "metadata": {},
   "outputs": [
    {
     "data": {
      "text/plain": [
       "Text(33.0, 0.5, 'Actual Output')"
      ]
     },
     "execution_count": 51,
     "metadata": {},
     "output_type": "execute_result"
    },
    {
     "data": {
      "image/png": "[encoded data removed]",
      "text/plain": [
       "<Figure size 432x288 with 2 Axes>"
      ]
     },
     "metadata": {
      "needs_background": "light"
     },
     "output_type": "display_data"
    }
   ],
   "source": [
    "cm= confusion_matrix(y_test,y_pred)\n",
    "ax=sns.heatmap(cm, annot=True, fmt=\"0\", annot_kws={\"size\":20})\n",
    "plt.xlabel('Predicted Output', fontsize=20)\n",
    "plt.ylabel('Actual Output', fontsize=20)"
   ]
  },
  {
   "cell_type": "code",
   "execution_count": 52,
   "metadata": {},
   "outputs": [
    {
     "name": "stdout",
     "output_type": "stream",
     "text": [
      "              precision    recall  f1-score   support\n",
      "\n",
      "           0       0.71      0.72      0.71      1665\n",
      "           1       0.88      0.87      0.87      3835\n",
      "\n",
      "    accuracy                           0.83      5500\n",
      "   macro avg       0.79      0.80      0.79      5500\n",
      "weighted avg       0.83      0.83      0.83      5500\n",
      "\n"
     ]
    }
   ],
   "source": [
    "print(classification_report(y_test, y_pred))"
   ]
  },
  {
   "cell_type": "markdown",
   "metadata": {},
   "source": [
    "Accuracy = (TP+TN) /(TP+FP+FN+TN)\n",
    "And we have an accuracy of 82%"
   ]
  },
  {
   "cell_type": "code",
   "execution_count": 53,
   "metadata": {},
   "outputs": [
    {
     "name": "stdout",
     "output_type": "stream",
     "text": [
      "                           Logit Regression Results                           \n",
      "==============================================================================\n",
      "Dep. Variable:                      y   No. Observations:                21999\n",
      "Model:                          Logit   Df Residuals:                    21953\n",
      "Method:                           MLE   Df Model:                           45\n",
      "Date:                Tue, 02 Mar 2021   Pseudo R-squ.:                  0.2814\n",
      "Time:                        08:57:39   Log-Likelihood:                -9615.5\n",
      "converged:                      False   LL-Null:                       -13381.\n",
      "Covariance Type:            nonrobust   LLR p-value:                     0.000\n",
      "=====================================================================================================\n",
      "                                        coef    std err          z      P>|z|      [0.025      0.975]\n",
      "-----------------------------------------------------------------------------------------------------\n",
      "const                                -0.3769      0.026    -14.676      0.000      -0.427      -0.327\n",
      "Accordion Clicked                     0.0033      0.024      0.136      0.891      -0.044       0.051\n",
      "Amazon Button Clicked                 0.2886      0.108      2.673      0.008       0.077       0.500\n",
      "Announcement Clicked                 -0.0520      0.152     -0.341      0.733      -0.351       0.247\n",
      "Blog Post Clicked                     0.0732      0.301      0.243      0.808      -0.517       0.663\n",
      "Blog Post Viewed                     -0.6768      0.042    -16.047      0.000      -0.759      -0.594\n",
      "Blogpage Hero Clicked                -0.0082      1.801     -0.005      0.996      -3.539       3.523\n",
      "Carousel Clicked                     -0.0047      0.026     -0.183      0.855      -0.055       0.045\n",
      "Collection Anchor Clicked            -0.0394      0.165     -0.239      0.811      -0.363       0.284\n",
      "Collection Gender Selected            0.0603      0.017      3.471      0.001       0.026       0.094\n",
      "Color Selected                        0.0669      0.007      9.606      0.000       0.053       0.081\n",
      "Currency Selected                     0.0347      0.435      0.080      0.936      -0.819       0.888\n",
      "Email Capture Closed                 -0.2351      0.236     -0.998      0.318      -0.697       0.227\n",
      "Email Capture Submitted              -0.1787      0.240     -0.743      0.457      -0.650       0.293\n",
      "Experiment Viewed                     0.0238      0.003      9.342      0.000       0.019       0.029\n",
      "Footer Clicked                        0.0052      0.040      0.129      0.898      -0.074       0.085\n",
      "Guarantee Clicked                    -0.1561      0.088     -1.770      0.077      -0.329       0.017\n",
      "Homepage Hero Clicked                 0.4286      0.046      9.249      0.000       0.338       0.519\n",
      "Homepage Review Clicked              -0.0112      1.033     -0.011      0.991      -2.035       2.013\n",
      "Landingpage Hero Clicked             -0.0152      0.630     -0.024      0.981      -1.251       1.220\n",
      "Language Selected                    -0.1117      0.222     -0.503      0.615      -0.547       0.323\n",
      "Load More Reviews                     0.0701      0.027      2.621      0.009       0.018       0.122\n",
      "Location Selected                    -0.0508      0.530     -0.096      0.924      -1.089       0.988\n",
      "Module Viewed_Collection details      0.2050      0.046      4.454      0.000       0.115       0.295\n",
      "Module Viewed_Featured Collection     0.5860      0.038     15.330      0.000       0.511       0.661\n",
      "Module Viewed_Guarantee              -0.0736      0.053     -1.399      0.162      -0.177       0.030\n",
      "Module Viewed_Hero                   -0.1193      0.030     -3.952      0.000      -0.178      -0.060\n",
      "Module Viewed_Quote Block             0.0273      0.394      0.069      0.945      -0.744       0.799\n",
      "Module Viewed_Social Sharing         -0.2638      0.076     -3.493      0.000      -0.412      -0.116\n",
      "Nav Clicked                           0.3564      0.029     12.348      0.000       0.300       0.413\n",
      "Nav Closed                            0.2003      0.034      5.976      0.000       0.135       0.266\n",
      "Nav Opened                           -0.2568      0.032     -8.006      0.000      -0.320      -0.194\n",
      "Notification Closed                   0.0032      0.589      0.005      0.996      -1.151       1.157\n",
      "Notification Viewed                  -0.4057      0.196     -2.068      0.039      -0.790      -0.021\n",
      "Product Info Clicked                  0.0066      0.007      0.938      0.348      -0.007       0.021\n",
      "Product Removed                      -0.3938      0.040     -9.759      0.000      -0.473      -0.315\n",
      "Product Zoom Clicked                 -0.0522      0.055     -0.949      0.343      -0.160       0.056\n",
      "Review Anchor Clicked                -0.0955      0.066     -1.437      0.151      -0.226       0.035\n",
      "Review Page Viewed                    0.0036      0.205      0.018      0.986      -0.398       0.406\n",
      "Search Result Clicked                 0.2235      0.154      1.449      0.147      -0.079       0.526\n",
      "Size Variant Selected                 0.1916      0.013     14.752      0.000       0.166       0.217\n",
      "Technology Page Viewed               -0.0675      0.095     -0.714      0.475      -0.253       0.118\n",
      "Video Opened                          0.0383      0.626      0.061      0.951      -1.189       1.266\n",
      "Module Viewed_Middle Home Page        0.0872      0.066      1.318      0.187      -0.042       0.217\n",
      "Module Viewed_Top Home Page           0.0813      0.037      2.228      0.026       0.010       0.153\n",
      "Module Viewed_Middle Product Page     0.0629      0.021      3.041      0.002       0.022       0.103\n",
      "=====================================================================================================\n"
     ]
    }
   ],
   "source": [
    "print(result.summary())"
   ]
  },
  {
   "cell_type": "code",
   "execution_count": 56,
   "metadata": {},
   "outputs": [
    {
     "name": "stdout",
     "output_type": "stream",
     "text": [
      "                                event  coefficients       p-value\n",
      "1                   Accordion Clicked      0.003329  8.914611e-01\n",
      "2               Amazon Button Clicked      0.288624  7.513201e-03\n",
      "3                Announcement Clicked     -0.052011  7.330238e-01\n",
      "4                   Blog Post Clicked      0.073216  8.078869e-01\n",
      "5                    Blog Post Viewed     -0.676779  6.027580e-58\n",
      "6               Blogpage Hero Clicked     -0.008167  9.963826e-01\n",
      "7                    Carousel Clicked     -0.004693  8.545623e-01\n",
      "8           Collection Anchor Clicked     -0.039433  8.109692e-01\n",
      "9          Collection Gender Selected      0.060280  5.185399e-04\n",
      "10                     Color Selected      0.066936  7.574931e-22\n",
      "11                  Currency Selected      0.034706  9.364731e-01\n",
      "12               Email Capture Closed     -0.235070  3.183348e-01\n",
      "13            Email Capture Submitted     -0.178704  4.574319e-01\n",
      "14                  Experiment Viewed      0.023849  9.445839e-21\n",
      "15                     Footer Clicked      0.005212  8.975121e-01\n",
      "16                  Guarantee Clicked     -0.156073  7.664471e-02\n",
      "17              Homepage Hero Clicked      0.428576  2.263706e-20\n",
      "18            Homepage Review Clicked     -0.011201  9.913444e-01\n",
      "19           Landingpage Hero Clicked     -0.015244  9.807053e-01\n",
      "20                  Language Selected     -0.111742  6.146332e-01\n",
      "21                  Load More Reviews      0.070062  8.776987e-03\n",
      "22                  Location Selected     -0.050798  9.236211e-01\n",
      "23   Module Viewed_Collection details      0.205000  8.411855e-06\n",
      "24  Module Viewed_Featured Collection      0.586025  4.799146e-53\n",
      "25            Module Viewed_Guarantee     -0.073644  1.618968e-01\n",
      "26                 Module Viewed_Hero     -0.119261  7.743002e-05\n",
      "27          Module Viewed_Quote Block      0.027350  9.446258e-01\n",
      "28       Module Viewed_Social Sharing     -0.263781  4.781526e-04\n",
      "29                        Nav Clicked      0.356444  5.008455e-35\n",
      "30                         Nav Closed      0.200258  2.292465e-09\n",
      "31                         Nav Opened     -0.256827  1.181225e-15\n",
      "32                Notification Closed      0.003200  9.956641e-01\n",
      "33                Notification Viewed     -0.405723  3.865129e-02\n",
      "34               Product Info Clicked      0.006646  3.484617e-01\n",
      "35                    Product Removed     -0.393760  1.686188e-22\n",
      "36               Product Zoom Clicked     -0.052244  3.426574e-01\n",
      "37              Review Anchor Clicked     -0.095548  1.506204e-01\n",
      "38                 Review Page Viewed      0.003644  9.858202e-01\n",
      "39              Search Result Clicked      0.223467  1.472623e-01\n",
      "40              Size Variant Selected      0.191625  3.001437e-49\n",
      "41             Technology Page Viewed     -0.067492  4.754764e-01\n",
      "42                       Video Opened      0.038282  9.512544e-01\n",
      "43     Module Viewed_Middle Home Page      0.087166  1.874887e-01\n",
      "44        Module Viewed_Top Home Page      0.081336  2.588146e-02\n",
      "45  Module Viewed_Middle Product Page      0.062889  2.360788e-03\n"
     ]
    },
    {
     "name": "stderr",
     "output_type": "stream",
     "text": [
      "C:\\Users\\Arthu\\anaconda3\\lib\\site-packages\\pandas\\core\\frame.py:4163: SettingWithCopyWarning: \n",
      "A value is trying to be set on a copy of a slice from a DataFrame\n",
      "\n",
      "See the caveats in the documentation: https://pandas.pydata.org/pandas-docs/stable/user_guide/indexing.html#returning-a-view-versus-a-copy\n",
      "  return super().drop(\n"
     ]
    }
   ],
   "source": [
    "# Fetching the statistics\n",
    "stat_df=pd.DataFrame({'coefficients':result.params, 'p-value': result.pvalues, 'odds_ratio': np.exp(result.params)})\n",
    "final = stat_df[['coefficients','p-value']]\n",
    "\n",
    "final.reset_index(inplace=True)\n",
    "final.columns = ['event', 'coefficients', 'p-value']\n",
    "\n",
    "#dropped const\n",
    "final.drop(0, inplace=True)\n",
    "print(final)"
   ]
  },
  {
   "cell_type": "code",
   "execution_count": 57,
   "metadata": {},
   "outputs": [
    {
     "name": "stdout",
     "output_type": "stream",
     "text": [
      "                                event  coefficients       p-value  \\\n",
      "0                   Accordion Clicked      0.003329  8.914611e-01   \n",
      "1               Amazon Button Clicked      0.288624  7.513201e-03   \n",
      "2                Announcement Clicked     -0.052011  7.330238e-01   \n",
      "3                   Blog Post Clicked      0.073216  8.078869e-01   \n",
      "4                    Blog Post Viewed     -0.676779  6.027580e-58   \n",
      "5               Blogpage Hero Clicked     -0.008167  9.963826e-01   \n",
      "6                    Carousel Clicked     -0.004693  8.545623e-01   \n",
      "7           Collection Anchor Clicked     -0.039433  8.109692e-01   \n",
      "8          Collection Gender Selected      0.060280  5.185399e-04   \n",
      "9                      Color Selected      0.066936  7.574931e-22   \n",
      "10                  Currency Selected      0.034706  9.364731e-01   \n",
      "11               Email Capture Closed     -0.235070  3.183348e-01   \n",
      "12            Email Capture Submitted     -0.178704  4.574319e-01   \n",
      "13                  Experiment Viewed      0.023849  9.445839e-21   \n",
      "14                     Footer Clicked      0.005212  8.975121e-01   \n",
      "15                  Guarantee Clicked     -0.156073  7.664471e-02   \n",
      "16              Homepage Hero Clicked      0.428576  2.263706e-20   \n",
      "17            Homepage Review Clicked     -0.011201  9.913444e-01   \n",
      "18           Landingpage Hero Clicked     -0.015244  9.807053e-01   \n",
      "19                  Language Selected     -0.111742  6.146332e-01   \n",
      "20                  Load More Reviews      0.070062  8.776987e-03   \n",
      "21                  Location Selected     -0.050798  9.236211e-01   \n",
      "22   Module Viewed_Collection details      0.205000  8.411855e-06   \n",
      "23  Module Viewed_Featured Collection      0.586025  4.799146e-53   \n",
      "24            Module Viewed_Guarantee     -0.073644  1.618968e-01   \n",
      "25                 Module Viewed_Hero     -0.119261  7.743002e-05   \n",
      "26          Module Viewed_Quote Block      0.027350  9.446258e-01   \n",
      "27       Module Viewed_Social Sharing     -0.263781  4.781526e-04   \n",
      "28                        Nav Clicked      0.356444  5.008455e-35   \n",
      "29                         Nav Closed      0.200258  2.292465e-09   \n",
      "30                         Nav Opened     -0.256827  1.181225e-15   \n",
      "31                Notification Closed      0.003200  9.956641e-01   \n",
      "32                Notification Viewed     -0.405723  3.865129e-02   \n",
      "33               Product Info Clicked      0.006646  3.484617e-01   \n",
      "34                    Product Removed     -0.393760  1.686188e-22   \n",
      "35               Product Zoom Clicked     -0.052244  3.426574e-01   \n",
      "36              Review Anchor Clicked     -0.095548  1.506204e-01   \n",
      "37                 Review Page Viewed      0.003644  9.858202e-01   \n",
      "38              Search Result Clicked      0.223467  1.472623e-01   \n",
      "39              Size Variant Selected      0.191625  3.001437e-49   \n",
      "40             Technology Page Viewed     -0.067492  4.754764e-01   \n",
      "41                       Video Opened      0.038282  9.512544e-01   \n",
      "42     Module Viewed_Middle Home Page      0.087166  1.874887e-01   \n",
      "43        Module Viewed_Top Home Page      0.081336  2.588146e-02   \n",
      "44  Module Viewed_Middle Product Page      0.062889  2.360788e-03   \n",
      "\n",
      "                         event_module  occurences  \n",
      "0                   Accordion Clicked      3673.0  \n",
      "1               Amazon Button Clicked      1051.0  \n",
      "2                Announcement Clicked       527.0  \n",
      "3                   Blog Post Clicked        42.0  \n",
      "4                    Blog Post Viewed      1280.0  \n",
      "5               Blogpage Hero Clicked         6.0  \n",
      "6                    Carousel Clicked      7535.0  \n",
      "7           Collection Anchor Clicked       585.0  \n",
      "8          Collection Gender Selected     11156.0  \n",
      "9                      Color Selected     13705.0  \n",
      "10                  Currency Selected        35.0  \n",
      "11               Email Capture Closed       428.0  \n",
      "12            Email Capture Submitted       452.0  \n",
      "13                  Experiment Viewed      7455.0  \n",
      "14                     Footer Clicked      2695.0  \n",
      "15                  Guarantee Clicked       925.0  \n",
      "16              Homepage Hero Clicked      6012.0  \n",
      "17            Homepage Review Clicked        39.0  \n",
      "18           Landingpage Hero Clicked        46.0  \n",
      "19                  Language Selected       230.0  \n",
      "20                  Load More Reviews      1269.0  \n",
      "21                  Location Selected        22.0  \n",
      "22   Module Viewed_Collection details     22594.0  \n",
      "23  Module Viewed_Featured Collection     62538.0  \n",
      "24            Module Viewed_Guarantee     19005.0  \n",
      "25                 Module Viewed_Hero     16795.0  \n",
      "26          Module Viewed_Quote Block        70.0  \n",
      "27       Module Viewed_Social Sharing      4336.0  \n",
      "28                        Nav Clicked     10350.0  \n",
      "29                         Nav Closed      7155.0  \n",
      "30                         Nav Opened      7225.0  \n",
      "31                Notification Closed        16.0  \n",
      "32                Notification Viewed       141.0  \n",
      "33               Product Info Clicked     11375.0  \n",
      "34                    Product Removed      3570.0  \n",
      "35               Product Zoom Clicked      2827.0  \n",
      "36              Review Anchor Clicked      1530.0  \n",
      "37                 Review Page Viewed       501.0  \n",
      "38              Search Result Clicked       363.0  \n",
      "39              Size Variant Selected     16808.0  \n",
      "40             Technology Page Viewed       696.0  \n",
      "41                       Video Opened        80.0  \n",
      "42                                NaN         NaN  \n",
      "43                                NaN         NaN  \n",
      "44                                NaN         NaN  \n"
     ]
    }
   ],
   "source": [
    "#merging with occurences\n",
    "final = final.merge(df_occ, left_on = 'event', right_on = 'event_module', how='left')\n",
    "final.drop('event_module', axis=1, inplace = True)\n",
    "print(final)"
   ]
  },
  {
   "cell_type": "code",
   "execution_count": 58,
   "metadata": {},
   "outputs": [],
   "source": [
    "Middle_Home_Page_list = ['Module Viewed_Video Block', 'Module Viewed_Authority figures']\n",
    "Top_Home_Page_list = ['Module Viewed_Showcase', 'Module Viewed_Introduction']\n",
    "Middle_Product_Page_list = ['Module Viewed_Product inspection','Module Viewed_Product technology','Module Viewed_Reviews']\n",
    "    \n",
    "MHP = df_occ[df_occ['event_module'].isin(Middle_Home_Page_list)]\n",
    "max_MHP = MHP['occurences'].max()\n",
    "\n",
    "THP = df_occ[df_occ['event_module'].isin(Top_Home_Page_list)]\n",
    "max_THP = THP['occurences'].max()\n",
    "\n",
    "MPP = df_occ[df_occ['event_module'].isin(Middle_Product_Page_list)]\n",
    "max_MPP = MPP['occurences'].max()"
   ]
  },
  {
   "cell_type": "code",
   "execution_count": 59,
   "metadata": {},
   "outputs": [
    {
     "name": "stdout",
     "output_type": "stream",
     "text": [
      "                                event  coefficients       p-value  \\\n",
      "0                   Accordion Clicked      0.003329  8.914611e-01   \n",
      "1               Amazon Button Clicked      0.288624  7.513201e-03   \n",
      "2                Announcement Clicked     -0.052011  7.330238e-01   \n",
      "3                   Blog Post Clicked      0.073216  8.078869e-01   \n",
      "4                    Blog Post Viewed     -0.676779  6.027580e-58   \n",
      "5               Blogpage Hero Clicked     -0.008167  9.963826e-01   \n",
      "6                    Carousel Clicked     -0.004693  8.545623e-01   \n",
      "7           Collection Anchor Clicked     -0.039433  8.109692e-01   \n",
      "8          Collection Gender Selected      0.060280  5.185399e-04   \n",
      "9                      Color Selected      0.066936  7.574931e-22   \n",
      "10                  Currency Selected      0.034706  9.364731e-01   \n",
      "11               Email Capture Closed     -0.235070  3.183348e-01   \n",
      "12            Email Capture Submitted     -0.178704  4.574319e-01   \n",
      "13                  Experiment Viewed      0.023849  9.445839e-21   \n",
      "14                     Footer Clicked      0.005212  8.975121e-01   \n",
      "15                  Guarantee Clicked     -0.156073  7.664471e-02   \n",
      "16              Homepage Hero Clicked      0.428576  2.263706e-20   \n",
      "17            Homepage Review Clicked     -0.011201  9.913444e-01   \n",
      "18           Landingpage Hero Clicked     -0.015244  9.807053e-01   \n",
      "19                  Language Selected     -0.111742  6.146332e-01   \n",
      "20                  Load More Reviews      0.070062  8.776987e-03   \n",
      "21                  Location Selected     -0.050798  9.236211e-01   \n",
      "22   Module Viewed_Collection details      0.205000  8.411855e-06   \n",
      "23  Module Viewed_Featured Collection      0.586025  4.799146e-53   \n",
      "24            Module Viewed_Guarantee     -0.073644  1.618968e-01   \n",
      "25                 Module Viewed_Hero     -0.119261  7.743002e-05   \n",
      "26          Module Viewed_Quote Block      0.027350  9.446258e-01   \n",
      "27       Module Viewed_Social Sharing     -0.263781  4.781526e-04   \n",
      "28                        Nav Clicked      0.356444  5.008455e-35   \n",
      "29                         Nav Closed      0.200258  2.292465e-09   \n",
      "30                         Nav Opened     -0.256827  1.181225e-15   \n",
      "31                Notification Closed      0.003200  9.956641e-01   \n",
      "32                Notification Viewed     -0.405723  3.865129e-02   \n",
      "33               Product Info Clicked      0.006646  3.484617e-01   \n",
      "34                    Product Removed     -0.393760  1.686188e-22   \n",
      "35               Product Zoom Clicked     -0.052244  3.426574e-01   \n",
      "36              Review Anchor Clicked     -0.095548  1.506204e-01   \n",
      "37                 Review Page Viewed      0.003644  9.858202e-01   \n",
      "38              Search Result Clicked      0.223467  1.472623e-01   \n",
      "39              Size Variant Selected      0.191625  3.001437e-49   \n",
      "40             Technology Page Viewed     -0.067492  4.754764e-01   \n",
      "41                       Video Opened      0.038282  9.512544e-01   \n",
      "42     Module Viewed_Middle Home Page      0.087166  1.874887e-01   \n",
      "43        Module Viewed_Top Home Page      0.081336  2.588146e-02   \n",
      "44  Module Viewed_Middle Product Page      0.062889  2.360788e-03   \n",
      "\n",
      "                         event_module  occurences  \n",
      "0                   Accordion Clicked      3673.0  \n",
      "1               Amazon Button Clicked      1051.0  \n",
      "2                Announcement Clicked       527.0  \n",
      "3                   Blog Post Clicked        42.0  \n",
      "4                    Blog Post Viewed      1280.0  \n",
      "5               Blogpage Hero Clicked         6.0  \n",
      "6                    Carousel Clicked      7535.0  \n",
      "7           Collection Anchor Clicked       585.0  \n",
      "8          Collection Gender Selected     11156.0  \n",
      "9                      Color Selected     13705.0  \n",
      "10                  Currency Selected        35.0  \n",
      "11               Email Capture Closed       428.0  \n",
      "12            Email Capture Submitted       452.0  \n",
      "13                  Experiment Viewed      7455.0  \n",
      "14                     Footer Clicked      2695.0  \n",
      "15                  Guarantee Clicked       925.0  \n",
      "16              Homepage Hero Clicked      6012.0  \n",
      "17            Homepage Review Clicked        39.0  \n",
      "18           Landingpage Hero Clicked        46.0  \n",
      "19                  Language Selected       230.0  \n",
      "20                  Load More Reviews      1269.0  \n",
      "21                  Location Selected        22.0  \n",
      "22   Module Viewed_Collection details     22594.0  \n",
      "23  Module Viewed_Featured Collection     62538.0  \n",
      "24            Module Viewed_Guarantee     19005.0  \n",
      "25                 Module Viewed_Hero     16795.0  \n",
      "26          Module Viewed_Quote Block        70.0  \n",
      "27       Module Viewed_Social Sharing      4336.0  \n",
      "28                        Nav Clicked     10350.0  \n",
      "29                         Nav Closed      7155.0  \n",
      "30                         Nav Opened      7225.0  \n",
      "31                Notification Closed        16.0  \n",
      "32                Notification Viewed       141.0  \n",
      "33               Product Info Clicked     11375.0  \n",
      "34                    Product Removed      3570.0  \n",
      "35               Product Zoom Clicked      2827.0  \n",
      "36              Review Anchor Clicked      1530.0  \n",
      "37                 Review Page Viewed       501.0  \n",
      "38              Search Result Clicked       363.0  \n",
      "39              Size Variant Selected     16808.0  \n",
      "40             Technology Page Viewed       696.0  \n",
      "41                       Video Opened        80.0  \n",
      "42                                NaN      2210.0  \n",
      "43                                NaN      7317.0  \n",
      "44                                NaN     24280.0  \n"
     ]
    }
   ],
   "source": [
    "#adding occurences of engineered features\n",
    "#XX to be fixed\n",
    "\n",
    "final.at[42, 'occurences'] = max_MHP\n",
    "final.at[43, 'occurences'] = max_THP\n",
    "final.at[44, 'occurences'] = max_MPP\n",
    "print(final)"
   ]
  },
  {
   "cell_type": "code",
   "execution_count": 60,
   "metadata": {},
   "outputs": [
    {
     "name": "stdout",
     "output_type": "stream",
     "text": [
      "                                event  coefficients       p-value  \\\n",
      "0                   Accordion Clicked      0.003329  8.914611e-01   \n",
      "1               Amazon Button Clicked      0.288624  7.513201e-03   \n",
      "2                Announcement Clicked     -0.052011  7.330238e-01   \n",
      "3                   Blog Post Clicked      0.073216  8.078869e-01   \n",
      "4                    Blog Post Viewed     -0.676779  6.027580e-58   \n",
      "5               Blogpage Hero Clicked     -0.008167  9.963826e-01   \n",
      "6                    Carousel Clicked     -0.004693  8.545623e-01   \n",
      "7           Collection Anchor Clicked     -0.039433  8.109692e-01   \n",
      "8          Collection Gender Selected      0.060280  5.185399e-04   \n",
      "9                      Color Selected      0.066936  7.574931e-22   \n",
      "10                  Currency Selected      0.034706  9.364731e-01   \n",
      "11               Email Capture Closed     -0.235070  3.183348e-01   \n",
      "12            Email Capture Submitted     -0.178704  4.574319e-01   \n",
      "13                  Experiment Viewed      0.023849  9.445839e-21   \n",
      "14                     Footer Clicked      0.005212  8.975121e-01   \n",
      "15                  Guarantee Clicked     -0.156073  7.664471e-02   \n",
      "16              Homepage Hero Clicked      0.428576  2.263706e-20   \n",
      "17            Homepage Review Clicked     -0.011201  9.913444e-01   \n",
      "18           Landingpage Hero Clicked     -0.015244  9.807053e-01   \n",
      "19                  Language Selected     -0.111742  6.146332e-01   \n",
      "20                  Load More Reviews      0.070062  8.776987e-03   \n",
      "21                  Location Selected     -0.050798  9.236211e-01   \n",
      "22   Module Viewed_Collection details      0.205000  8.411855e-06   \n",
      "23  Module Viewed_Featured Collection      0.586025  4.799146e-53   \n",
      "24            Module Viewed_Guarantee     -0.073644  1.618968e-01   \n",
      "25                 Module Viewed_Hero     -0.119261  7.743002e-05   \n",
      "26          Module Viewed_Quote Block      0.027350  9.446258e-01   \n",
      "27       Module Viewed_Social Sharing     -0.263781  4.781526e-04   \n",
      "28                        Nav Clicked      0.356444  5.008455e-35   \n",
      "29                         Nav Closed      0.200258  2.292465e-09   \n",
      "30                         Nav Opened     -0.256827  1.181225e-15   \n",
      "31                Notification Closed      0.003200  9.956641e-01   \n",
      "32                Notification Viewed     -0.405723  3.865129e-02   \n",
      "33               Product Info Clicked      0.006646  3.484617e-01   \n",
      "34                    Product Removed     -0.393760  1.686188e-22   \n",
      "35               Product Zoom Clicked     -0.052244  3.426574e-01   \n",
      "36              Review Anchor Clicked     -0.095548  1.506204e-01   \n",
      "37                 Review Page Viewed      0.003644  9.858202e-01   \n",
      "38              Search Result Clicked      0.223467  1.472623e-01   \n",
      "39              Size Variant Selected      0.191625  3.001437e-49   \n",
      "40             Technology Page Viewed     -0.067492  4.754764e-01   \n",
      "41                       Video Opened      0.038282  9.512544e-01   \n",
      "42     Module Viewed_Middle Home Page      0.087166  1.874887e-01   \n",
      "43        Module Viewed_Top Home Page      0.081336  2.588146e-02   \n",
      "44  Module Viewed_Middle Product Page      0.062889  2.360788e-03   \n",
      "\n",
      "                         event_module  occurences  % occurence  \n",
      "0                   Accordion Clicked      3673.0     1.307350  \n",
      "1               Amazon Button Clicked      1051.0     0.374088  \n",
      "2                Announcement Clicked       527.0     0.187578  \n",
      "3                   Blog Post Clicked        42.0     0.014949  \n",
      "4                    Blog Post Viewed      1280.0     0.455597  \n",
      "5               Blogpage Hero Clicked         6.0     0.002136  \n",
      "6                    Carousel Clicked      7535.0     2.681972  \n",
      "7           Collection Anchor Clicked       585.0     0.208222  \n",
      "8          Collection Gender Selected     11156.0     3.970813  \n",
      "9                      Color Selected     13705.0     4.878092  \n",
      "10                  Currency Selected        35.0     0.012458  \n",
      "11               Email Capture Closed       428.0     0.152340  \n",
      "12            Email Capture Submitted       452.0     0.160883  \n",
      "13                  Experiment Viewed      7455.0     2.653497  \n",
      "14                     Footer Clicked      2695.0     0.959245  \n",
      "15                  Guarantee Clicked       925.0     0.329240  \n",
      "16              Homepage Hero Clicked      6012.0     2.139883  \n",
      "17            Homepage Review Clicked        39.0     0.013881  \n",
      "18           Landingpage Hero Clicked        46.0     0.016373  \n",
      "19                  Language Selected       230.0     0.081865  \n",
      "20                  Load More Reviews      1269.0     0.451682  \n",
      "21                  Location Selected        22.0     0.007831  \n",
      "22   Module Viewed_Collection details     22594.0     8.042000  \n",
      "23  Module Viewed_Featured Collection     62538.0    22.259477  \n",
      "24            Module Viewed_Guarantee     19005.0     6.764549  \n",
      "25                 Module Viewed_Hero     16795.0     5.977932  \n",
      "26          Module Viewed_Quote Block        70.0     0.024915  \n",
      "27       Module Viewed_Social Sharing      4336.0     1.543335  \n",
      "28                        Nav Clicked     10350.0     3.683930  \n",
      "29                         Nav Closed      7155.0     2.546716  \n",
      "30                         Nav Opened      7225.0     2.571632  \n",
      "31                Notification Closed        16.0     0.005695  \n",
      "32                Notification Viewed       141.0     0.050187  \n",
      "33               Product Info Clicked     11375.0     4.048763  \n",
      "34                    Product Removed      3570.0     1.270689  \n",
      "35               Product Zoom Clicked      2827.0     1.006229  \n",
      "36              Review Anchor Clicked      1530.0     0.544581  \n",
      "37                 Review Page Viewed       501.0     0.178324  \n",
      "38              Search Result Clicked       363.0     0.129204  \n",
      "39              Size Variant Selected     16808.0     5.982559  \n",
      "40             Technology Page Viewed       696.0     0.247731  \n",
      "41                       Video Opened        80.0     0.028475  \n",
      "42                                NaN      2210.0     0.786617  \n",
      "43                                NaN      7317.0     2.604378  \n",
      "44                                NaN     24280.0     8.642107  \n"
     ]
    }
   ],
   "source": [
    "#creating % occurence column\n",
    "sum_occ = sum(final['occurences'])\n",
    "\n",
    "final['% occurence'] = final['occurences'] / sum_occ * 100\n",
    "\n",
    "print(final)"
   ]
  },
  {
   "cell_type": "code",
   "execution_count": 61,
   "metadata": {},
   "outputs": [
    {
     "data": {
      "text/plain": [
       "Index(['Amazon Button Clicked', 'Blog Post Viewed',\n",
       "       'Collection Gender Selected', 'Color Selected', 'Experiment Viewed',\n",
       "       'Guarantee Clicked', 'Homepage Hero Clicked', 'Load More Reviews',\n",
       "       'Module Viewed_Collection details', 'Module Viewed_Featured Collection',\n",
       "       'Module Viewed_Hero', 'Module Viewed_Social Sharing', 'Nav Clicked',\n",
       "       'Nav Closed', 'Nav Opened', 'Notification Viewed', 'Product Removed',\n",
       "       'Size Variant Selected', 'Module Viewed_Top Home Page',\n",
       "       'Module Viewed_Middle Product Page'],\n",
       "      dtype='object')"
      ]
     },
     "execution_count": 61,
     "metadata": {},
     "output_type": "execute_result"
    }
   ],
   "source": [
    "# List significant parameters\n",
    "significant_params=stat_df[stat_df['p-value']<=0.1].index\n",
    "significant_params= significant_params.drop('const')\n",
    "significant_params"
   ]
  },
  {
   "cell_type": "code",
   "execution_count": 62,
   "metadata": {},
   "outputs": [
    {
     "name": "stdout",
     "output_type": "stream",
     "text": [
      "Total number of parameters: 46 \n",
      "Number of Significant Parameters: 20\n",
      "Module Viewed_Featured Collection    0.586025\n",
      "Homepage Hero Clicked                0.428576\n",
      "Nav Clicked                          0.356444\n",
      "Amazon Button Clicked                0.288624\n",
      "Module Viewed_Collection details     0.205000\n",
      "Nav Closed                           0.200258\n",
      "Size Variant Selected                0.191625\n",
      "Module Viewed_Top Home Page          0.081336\n",
      "Load More Reviews                    0.070062\n",
      "Color Selected                       0.066936\n",
      "Module Viewed_Middle Product Page    0.062889\n",
      "Collection Gender Selected           0.060280\n",
      "Experiment Viewed                    0.023849\n",
      "Module Viewed_Hero                  -0.119261\n",
      "Guarantee Clicked                   -0.156073\n",
      "Nav Opened                          -0.256827\n",
      "Module Viewed_Social Sharing        -0.263781\n",
      "Product Removed                     -0.393760\n",
      "Notification Viewed                 -0.405723\n",
      "Blog Post Viewed                    -0.676779\n",
      "Name: coefficients, dtype: float64\n"
     ]
    }
   ],
   "source": [
    "# significant parameters and their coefficient\n",
    "print('Total number of parameters: %s '%len(X.keys()) )\n",
    "print('Number of Significant Parameters: %s'%(len(significant_params)))\n",
    "final_stat_df = stat_df.loc[significant_params].sort_values('coefficients', ascending=False)['coefficients']\n",
    "print(final_stat_df)"
   ]
  },
  {
   "cell_type": "code",
   "execution_count": 63,
   "metadata": {},
   "outputs": [
    {
     "data": {
      "text/plain": [
       "Index(['event', 'coefficients', 'p-value', 'event_module', 'occurences',\n",
       "       '% occurence'],\n",
       "      dtype='object')"
      ]
     },
     "execution_count": 63,
     "metadata": {},
     "output_type": "execute_result"
    }
   ],
   "source": [
    "final.columns"
   ]
  },
  {
   "cell_type": "code",
   "execution_count": 66,
   "metadata": {},
   "outputs": [
    {
     "name": "stdout",
     "output_type": "stream",
     "text": [
      "                                event  coefficients       p-value  occurences  \\\n",
      "0                   Accordion Clicked      0.003329  8.914611e-01      3673.0   \n",
      "1               Amazon Button Clicked      0.288624  7.513201e-03      1051.0   \n",
      "2                Announcement Clicked     -0.052011  7.330238e-01       527.0   \n",
      "3                   Blog Post Clicked      0.073216  8.078869e-01        42.0   \n",
      "4                    Blog Post Viewed     -0.676779  6.027580e-58      1280.0   \n",
      "5               Blogpage Hero Clicked     -0.008167  9.963826e-01         6.0   \n",
      "6                    Carousel Clicked     -0.004693  8.545623e-01      7535.0   \n",
      "7           Collection Anchor Clicked     -0.039433  8.109692e-01       585.0   \n",
      "8          Collection Gender Selected      0.060280  5.185399e-04     11156.0   \n",
      "9                      Color Selected      0.066936  7.574931e-22     13705.0   \n",
      "10                  Currency Selected      0.034706  9.364731e-01        35.0   \n",
      "11               Email Capture Closed     -0.235070  3.183348e-01       428.0   \n",
      "12            Email Capture Submitted     -0.178704  4.574319e-01       452.0   \n",
      "13                  Experiment Viewed      0.023849  9.445839e-21      7455.0   \n",
      "14                     Footer Clicked      0.005212  8.975121e-01      2695.0   \n",
      "15                  Guarantee Clicked     -0.156073  7.664471e-02       925.0   \n",
      "16              Homepage Hero Clicked      0.428576  2.263706e-20      6012.0   \n",
      "17            Homepage Review Clicked     -0.011201  9.913444e-01        39.0   \n",
      "18           Landingpage Hero Clicked     -0.015244  9.807053e-01        46.0   \n",
      "19                  Language Selected     -0.111742  6.146332e-01       230.0   \n",
      "20                  Load More Reviews      0.070062  8.776987e-03      1269.0   \n",
      "21                  Location Selected     -0.050798  9.236211e-01        22.0   \n",
      "22   Module Viewed_Collection details      0.205000  8.411855e-06     22594.0   \n",
      "23  Module Viewed_Featured Collection      0.586025  4.799146e-53     62538.0   \n",
      "24            Module Viewed_Guarantee     -0.073644  1.618968e-01     19005.0   \n",
      "25                 Module Viewed_Hero     -0.119261  7.743002e-05     16795.0   \n",
      "26          Module Viewed_Quote Block      0.027350  9.446258e-01        70.0   \n",
      "27       Module Viewed_Social Sharing     -0.263781  4.781526e-04      4336.0   \n",
      "28                        Nav Clicked      0.356444  5.008455e-35     10350.0   \n",
      "29                         Nav Closed      0.200258  2.292465e-09      7155.0   \n",
      "30                         Nav Opened     -0.256827  1.181225e-15      7225.0   \n",
      "31                Notification Closed      0.003200  9.956641e-01        16.0   \n",
      "32                Notification Viewed     -0.405723  3.865129e-02       141.0   \n",
      "33               Product Info Clicked      0.006646  3.484617e-01     11375.0   \n",
      "34                    Product Removed     -0.393760  1.686188e-22      3570.0   \n",
      "35               Product Zoom Clicked     -0.052244  3.426574e-01      2827.0   \n",
      "36              Review Anchor Clicked     -0.095548  1.506204e-01      1530.0   \n",
      "37                 Review Page Viewed      0.003644  9.858202e-01       501.0   \n",
      "38              Search Result Clicked      0.223467  1.472623e-01       363.0   \n",
      "39              Size Variant Selected      0.191625  3.001437e-49     16808.0   \n",
      "40             Technology Page Viewed     -0.067492  4.754764e-01       696.0   \n",
      "41                       Video Opened      0.038282  9.512544e-01        80.0   \n",
      "42     Module Viewed_Middle Home Page      0.087166  1.874887e-01      2210.0   \n",
      "43        Module Viewed_Top Home Page      0.081336  2.588146e-02      7317.0   \n",
      "44  Module Viewed_Middle Product Page      0.062889  2.360788e-03     24280.0   \n",
      "\n",
      "    % occurence  \n",
      "0      1.307350  \n",
      "1      0.374088  \n",
      "2      0.187578  \n",
      "3      0.014949  \n",
      "4      0.455597  \n",
      "5      0.002136  \n",
      "6      2.681972  \n",
      "7      0.208222  \n",
      "8      3.970813  \n",
      "9      4.878092  \n",
      "10     0.012458  \n",
      "11     0.152340  \n",
      "12     0.160883  \n",
      "13     2.653497  \n",
      "14     0.959245  \n",
      "15     0.329240  \n",
      "16     2.139883  \n",
      "17     0.013881  \n",
      "18     0.016373  \n",
      "19     0.081865  \n",
      "20     0.451682  \n",
      "21     0.007831  \n",
      "22     8.042000  \n",
      "23    22.259477  \n",
      "24     6.764549  \n",
      "25     5.977932  \n",
      "26     0.024915  \n",
      "27     1.543335  \n",
      "28     3.683930  \n",
      "29     2.546716  \n",
      "30     2.571632  \n",
      "31     0.005695  \n",
      "32     0.050187  \n",
      "33     4.048763  \n",
      "34     1.270689  \n",
      "35     1.006229  \n",
      "36     0.544581  \n",
      "37     0.178324  \n",
      "38     0.129204  \n",
      "39     5.982559  \n",
      "40     0.247731  \n",
      "41     0.028475  \n",
      "42     0.786617  \n",
      "43     2.604378  \n",
      "44     8.642107  \n"
     ]
    }
   ],
   "source": [
    "event_matrix_DE_final_section = pd.DataFrame(final)\n",
    "print(event_matrix_DE_final_section)"
   ]
  },
  {
   "cell_type": "code",
   "execution_count": 67,
   "metadata": {},
   "outputs": [],
   "source": [
    "event_matrix_DE_final_section.to_excel('event_matrix_DE_final_section.xlsx')"
   ]
  },
  {
   "cell_type": "code",
   "execution_count": null,
   "metadata": {},
   "outputs": [],
   "source": []
  }
 ],
 "metadata": {
  "kernelspec": {
   "display_name": "Python 3",
   "language": "python",
   "name": "python3"
  },
  "language_info": {
   "codemirror_mode": {
    "name": "ipython",
    "version": 3
   },
   "file_extension": ".py",
   "mimetype": "text/x-python",
   "name": "python",
   "nbconvert_exporter": "python",
   "pygments_lexer": "ipython3",
   "version": "3.8.5"
  }
 },
 "nbformat": 4,
 "nbformat_minor": 4
}
